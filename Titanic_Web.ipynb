{
 "cells": [
  {
   "cell_type": "markdown",
   "id": "75ce7cf0-699a-4c1a-9150-7317c1ba5ace",
   "metadata": {},
   "source": [
    "# TITANIC WEB APPLICATION \n",
    "## 타이타닉에 타면 내가 살까\n",
    "\n",
    "1. 화면 설계\n",
    "    1. 등급, 나이, 성별 input with \"예측\" Button\n",
    "    2. \"You are Dead\" output\n",
    "2. API 구성\n",
    "    1. POST {등급, 나이, 성별}\n",
    "3. 예측: 타이타닉 생존자 예측 모델 활용\n",
    "    - 모델-> 파일로\n",
    "    - 파일-> 읽기\n",
    "    - 예측\n",
    "  \n",
    "(사용 웹) \n",
    "### Flask : 경향 '웹 프레임 워크'\n",
    "    - HTTP의 메서드\n",
    "    - URL Router\n",
    "    - Template Engine\n",
    "장점이자 단점인 경량 <br>\n",
    "예시) 이벤트 페이지 <br>\n",
    "언어: 파이썬(Sklearn) <-> 직렬화(None, ~ByteSerializer~) <-> (Sklearn)Python,~Java~ <br>\n",
    "직렬화 시리얼라이저 (읽는 순서) 이기종 통신: JSON<br>"
   ]
  },
  {
   "cell_type": "code",
   "execution_count": null,
   "id": "891f7b2a-6599-4caa-b8f2-0f748b3f722a",
   "metadata": {},
   "outputs": [],
   "source": []
  }
 ],
 "metadata": {
  "kernelspec": {
   "display_name": "Python 3 (ipykernel)",
   "language": "python",
   "name": "python3"
  },
  "language_info": {
   "codemirror_mode": {
    "name": "ipython",
    "version": 3
   },
   "file_extension": ".py",
   "mimetype": "text/x-python",
   "name": "python",
   "nbconvert_exporter": "python",
   "pygments_lexer": "ipython3",
   "version": "3.11.5"
  }
 },
 "nbformat": 4,
 "nbformat_minor": 5
}
