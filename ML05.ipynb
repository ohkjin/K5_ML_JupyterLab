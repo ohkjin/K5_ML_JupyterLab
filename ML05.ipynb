{
 "cells": [
  {
   "cell_type": "markdown",
   "id": "b0a93c17-71dc-4440-8b0b-79190a767a5e",
   "metadata": {},
   "source": [
    "# 평가 및 성능\n",
    "**지도학습 평가**\n",
    "1. 데이터.데이터 가공, 전처리\n",
    "2. 나누기(데이터)\n",
    "    1. 섞였나 rs = 42: random 고정"
   ]
  },
  {
   "cell_type": "markdown",
   "id": "6a2521f9-8ad0-4d7a-ae0d-50ee9c3320a1",
   "metadata": {},
   "source": [
    "## 교차 검증"
   ]
  },
  {
   "cell_type": "code",
   "execution_count": 7,
   "id": "1e743eca-00d2-4e9d-92d8-ee8178127e00",
   "metadata": {
    "tags": []
   },
   "outputs": [],
   "source": [
    "from sklearn.model_selection import cross_val_score\n",
    "from sklearn.datasets import load_iris\n",
    "from sklearn.linear_model import LogisticRegression"
   ]
  },
  {
   "cell_type": "markdown",
   "id": "f29cd5ce-0705-496b-996f-da3c22f02a95",
   "metadata": {},
   "source": [
    "모델: 파라미터의 계수(hyperparamter) 구하기<br>\n",
    "f(x)"
   ]
  },
  {
   "cell_type": "code",
   "execution_count": 8,
   "id": "797e0f33-7f7e-494a-97f6-551b3a89236f",
   "metadata": {
    "tags": []
   },
   "outputs": [],
   "source": [
    "iris = load_iris()\n",
    "logreq = LogisticRegression(max_iter = 1000)"
   ]
  },
  {
   "cell_type": "code",
   "execution_count": 13,
   "id": "a0649105-6744-40c7-bb55-d6648409e87f",
   "metadata": {
    "tags": []
   },
   "outputs": [],
   "source": [
    "# 알아서 모델을 만들고 나서 교차 검증 (fit 필요없음)\n",
    "scores = cross_val_score(logreq, iris.data, iris.target)"
   ]
  },
  {
   "cell_type": "code",
   "execution_count": 14,
   "id": "4c26c7d0-c27d-4423-b066-8ea33401afb8",
   "metadata": {
    "tags": []
   },
   "outputs": [
    {
     "name": "stdout",
     "output_type": "stream",
     "text": [
      "[0.96666667 1.         0.93333333 0.96666667 1.        ]\n",
      "0.9733333333333334\n"
     ]
    }
   ],
   "source": [
    "print(scores)\n",
    "print(scores.mean())"
   ]
  },
  {
   "cell_type": "markdown",
   "id": "dd98cd49-6a16-4189-98df-22cb32cd8f53",
   "metadata": {},
   "source": [
    "검증 n_split=5 (default) <br>\n",
    "for better limit: 10~15"
   ]
  },
  {
   "cell_type": "markdown",
   "id": "1018f5ae-a044-4cc1-aac9-8acbee7412bc",
   "metadata": {},
   "source": [
    "### K-fold 교차 검증"
   ]
  },
  {
   "cell_type": "markdown",
   "id": "34417061-d955-4ea4-a889-11d148b19615",
   "metadata": {},
   "source": [
    "## Grid Search\n",
    "검증 결과가 나쁠시 모델을 변경 및 개선해야한다 <br>\n",
    "이때 왜 결과가 나쁜지 알기 위해서 사용 <br>\n",
    "- 더나은 ST (cap)\n",
    "- 내가 가진 데이터\n",
    "- 완전 탐색...?(Node.js Jest)\n",
    "- mocking (적당히 찾은 가짜 set, 중요하다 싶은 부분의 상한과 하한을 알시)\n",
    "\n",
    "**데이터**\n",
    "- 작동방법\n",
    "- 매개변수 (핸즈온 머신러닝)"
   ]
  },
  {
   "cell_type": "markdown",
   "id": "811c2aa9-3900-40ff-a4fe-f6d52d631746",
   "metadata": {},
   "source": [
    "### Brute"
   ]
  },
  {
   "cell_type": "code",
   "execution_count": 16,
   "id": "90f255f9-272a-4584-9cd7-63e62b387de2",
   "metadata": {
    "tags": []
   },
   "outputs": [],
   "source": [
    "from sklearn.svm import SVC\n",
    "X_train, X_test, y_train, y_test = train_test_split(iris.data, iris.target, random_state=42)"
   ]
  },
  {
   "cell_type": "code",
   "execution_count": 17,
   "id": "60f1c48c-ea10-4859-ba31-e28d70b2a86c",
   "metadata": {
    "tags": []
   },
   "outputs": [],
   "source": [
    "best_score = 0"
   ]
  },
  {
   "cell_type": "code",
   "execution_count": 19,
   "id": "0832d0ef-c907-43d7-a7e3-6fce935e075a",
   "metadata": {
    "tags": []
   },
   "outputs": [
    {
     "name": "stdout",
     "output_type": "stream",
     "text": [
      "최고 점수: 1.00\n",
      "최적 매개 변수: {'C': 100, 'gamma': 0.001}\n"
     ]
    }
   ],
   "source": [
    "# hyperparamter: gamma, C\n",
    "for gamma in [0.001, 0.01, 0.1, 1, 10, 100]:\n",
    "    for C in [0.001, 0.01, 0.1, 1, 10, 100]:\n",
    "        svm = SVC(gamma = gamma, C=C)\n",
    "        svm.fit(X_train, y_train)\n",
    "        score = svm.score(X_test, y_test)\n",
    "        if score > best_score:\n",
    "            best_score = score\n",
    "            best_parameters = {'C':C,'gamma':gamma}\n",
    "            \n",
    "print(\"최고 점수: {:.2f}\".format(best_score))\n",
    "print(\"최적 매개 변수:\", best_parameters)"
   ]
  },
  {
   "cell_type": "markdown",
   "id": "6c4d0ba4-40b1-4413-88ce-dc5c7b65f4f1",
   "metadata": {},
   "source": [
    "### GridSearchCV\n",
    "- 두개의 parameter를 골라서 돌리는것을 반복"
   ]
  },
  {
   "cell_type": "code",
   "execution_count": 22,
   "id": "7fdc50da-9106-4bdb-a57a-5b2809e7feb7",
   "metadata": {
    "tags": []
   },
   "outputs": [
    {
     "name": "stdout",
     "output_type": "stream",
     "text": [
      "1.0\n",
      "{'C': 100, 'gamma': 0.01}\n",
      "0.9727272727272727\n"
     ]
    }
   ],
   "source": [
    "from sklearn.model_selection import GridSearchCV\n",
    "param_grid = {'C':[0.001, 0.01, 0.1, 1, 10, 100],'gamma':[0.001, 0.01, 0.1, 1, 10, 100]}\n",
    "grid_search = GridSearchCV(SVC(), param_grid, cv=5, return_train_score = True)\n",
    "grid_search_result = grid_search.fit(X_train, y_train)\n",
    "print(grid_search_result.score(X_test, y_test))\n",
    "print(grid_search_result.best_params_)\n",
    "print(grid_search_result.best_score_)"
   ]
  },
  {
   "cell_type": "markdown",
   "id": "bbefe9eb-2ae5-4772-9b10-6c8da64db8c5",
   "metadata": {},
   "source": [
    "pipeline"
   ]
  }
 ],
 "metadata": {
  "kernelspec": {
   "display_name": "Python 3 (ipykernel)",
   "language": "python",
   "name": "python3"
  },
  "language_info": {
   "codemirror_mode": {
    "name": "ipython",
    "version": 3
   },
   "file_extension": ".py",
   "mimetype": "text/x-python",
   "name": "python",
   "nbconvert_exporter": "python",
   "pygments_lexer": "ipython3",
   "version": "3.11.5"
  }
 },
 "nbformat": 4,
 "nbformat_minor": 5
}
