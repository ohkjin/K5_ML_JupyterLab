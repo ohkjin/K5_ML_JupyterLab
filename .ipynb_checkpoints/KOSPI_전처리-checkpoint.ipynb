{
 "cells": [
  {
   "cell_type": "markdown",
   "id": "c077453c-0f7f-4a74-a2e5-a98df09a5d53",
   "metadata": {},
   "source": [
    "# KOSPI는 다른 차트의 변동성과 어떤 영향이 있을까?"
   ]
  },
  {
   "cell_type": "code",
   "execution_count": 13,
   "id": "81636a5a-f165-4e16-a3f5-4d48480bae67",
   "metadata": {
    "tags": []
   },
   "outputs": [],
   "source": [
    "# !pip install finance-datareader"
   ]
  },
  {
   "cell_type": "code",
   "execution_count": 2,
   "id": "788d8cdf-143c-415d-9b9c-f6a90c45fb8c",
   "metadata": {
    "tags": []
   },
   "outputs": [],
   "source": [
    "import FinanceDataReader as fdr"
   ]
  },
  {
   "cell_type": "code",
   "execution_count": 3,
   "id": "c8381c86-dcd6-4dce-acbd-93dae4a79325",
   "metadata": {
    "tags": []
   },
   "outputs": [],
   "source": [
    "kospi = fdr.DataReader('KS11')\n",
    "kospi[\"Change\"] = kospi[\"Change\"] * 100\n",
    "kospi.drop([\"Open\", \"High\", \"Low\", \"Close\", \"Volume\", \"UpDown\", \"Comp\", \"Amount\", \"MarCap\"], axis=1, inplace=True)"
   ]
  },
  {
   "cell_type": "code",
   "execution_count": 4,
   "id": "0ce78d13-60b2-48e7-9885-0302c5e84cea",
   "metadata": {
    "tags": []
   },
   "outputs": [
    {
     "data": {
      "text/html": [
       "<div>\n",
       "<style scoped>\n",
       "    .dataframe tbody tr th:only-of-type {\n",
       "        vertical-align: middle;\n",
       "    }\n",
       "\n",
       "    .dataframe tbody tr th {\n",
       "        vertical-align: top;\n",
       "    }\n",
       "\n",
       "    .dataframe thead th {\n",
       "        text-align: right;\n",
       "    }\n",
       "</style>\n",
       "<table border=\"1\" class=\"dataframe\">\n",
       "  <thead>\n",
       "    <tr style=\"text-align: right;\">\n",
       "      <th></th>\n",
       "      <th>Change</th>\n",
       "    </tr>\n",
       "    <tr>\n",
       "      <th>Date</th>\n",
       "      <th></th>\n",
       "    </tr>\n",
       "  </thead>\n",
       "  <tbody>\n",
       "    <tr>\n",
       "      <th>2001-06-11</th>\n",
       "      <td>-2.18</td>\n",
       "    </tr>\n",
       "  </tbody>\n",
       "</table>\n",
       "</div>"
      ],
      "text/plain": [
       "            Change\n",
       "Date              \n",
       "2001-06-11   -2.18"
      ]
     },
     "execution_count": 4,
     "metadata": {},
     "output_type": "execute_result"
    }
   ],
   "source": [
    "kospi.head(1)"
   ]
  },
  {
   "cell_type": "code",
   "execution_count": 5,
   "id": "d4abc15b-8a81-4fcf-ab6f-50274162bed3",
   "metadata": {
    "tags": []
   },
   "outputs": [],
   "source": [
    "sp500 = fdr.DataReader('S&P500', \"2001-06-08\")\n",
    "sp500[\"Change\"] = round(sp500[\"Adj Close\"].pct_change() * 100, 2)\n",
    "sp500.drop([\"Open\", \"High\", \"Low\", \"Close\", \"Adj Close\", \"Volume\"], axis=1, inplace=True)\n",
    "sp500.drop(\"2001-06-08\", axis=0, inplace=True)"
   ]
  },
  {
   "cell_type": "code",
   "execution_count": 6,
   "id": "a14014b8-b796-4ffe-a5aa-c99739f76316",
   "metadata": {
    "tags": []
   },
   "outputs": [
    {
     "data": {
      "text/html": [
       "<div>\n",
       "<style scoped>\n",
       "    .dataframe tbody tr th:only-of-type {\n",
       "        vertical-align: middle;\n",
       "    }\n",
       "\n",
       "    .dataframe tbody tr th {\n",
       "        vertical-align: top;\n",
       "    }\n",
       "\n",
       "    .dataframe thead th {\n",
       "        text-align: right;\n",
       "    }\n",
       "</style>\n",
       "<table border=\"1\" class=\"dataframe\">\n",
       "  <thead>\n",
       "    <tr style=\"text-align: right;\">\n",
       "      <th></th>\n",
       "      <th>Change</th>\n",
       "    </tr>\n",
       "    <tr>\n",
       "      <th>Date</th>\n",
       "      <th></th>\n",
       "    </tr>\n",
       "  </thead>\n",
       "  <tbody>\n",
       "    <tr>\n",
       "      <th>2001-06-11</th>\n",
       "      <td>-0.84</td>\n",
       "    </tr>\n",
       "  </tbody>\n",
       "</table>\n",
       "</div>"
      ],
      "text/plain": [
       "            Change\n",
       "Date              \n",
       "2001-06-11   -0.84"
      ]
     },
     "execution_count": 6,
     "metadata": {},
     "output_type": "execute_result"
    }
   ],
   "source": [
    "sp500.head(1)"
   ]
  },
  {
   "cell_type": "code",
   "execution_count": 7,
   "id": "ff4594cd-29d0-42b1-8d20-bdac63c93784",
   "metadata": {
    "tags": []
   },
   "outputs": [],
   "source": [
    "japan = fdr.DataReader('N225', \"2001-06-08\")\n",
    "japan[\"Change\"] = round(japan[\"Adj Close\"].pct_change() * 100, 2)\n",
    "japan.drop([\"Open\", \"High\", \"Low\", \"Close\", \"Adj Close\", \"Volume\"], axis=1, inplace=True)\n",
    "japan.drop(\"2001-06-08\", axis=0, inplace=True)"
   ]
  },
  {
   "cell_type": "code",
   "execution_count": 8,
   "id": "2dbec01b-f924-46b8-914c-8e0102e94aeb",
   "metadata": {
    "tags": []
   },
   "outputs": [
    {
     "data": {
      "text/html": [
       "<div>\n",
       "<style scoped>\n",
       "    .dataframe tbody tr th:only-of-type {\n",
       "        vertical-align: middle;\n",
       "    }\n",
       "\n",
       "    .dataframe tbody tr th {\n",
       "        vertical-align: top;\n",
       "    }\n",
       "\n",
       "    .dataframe thead th {\n",
       "        text-align: right;\n",
       "    }\n",
       "</style>\n",
       "<table border=\"1\" class=\"dataframe\">\n",
       "  <thead>\n",
       "    <tr style=\"text-align: right;\">\n",
       "      <th></th>\n",
       "      <th>Change</th>\n",
       "    </tr>\n",
       "    <tr>\n",
       "      <th>Date</th>\n",
       "      <th></th>\n",
       "    </tr>\n",
       "  </thead>\n",
       "  <tbody>\n",
       "    <tr>\n",
       "      <th>2001-06-11</th>\n",
       "      <td>-1.52</td>\n",
       "    </tr>\n",
       "  </tbody>\n",
       "</table>\n",
       "</div>"
      ],
      "text/plain": [
       "            Change\n",
       "Date              \n",
       "2001-06-11   -1.52"
      ]
     },
     "execution_count": 8,
     "metadata": {},
     "output_type": "execute_result"
    }
   ],
   "source": [
    "japan.head(1)"
   ]
  },
  {
   "cell_type": "code",
   "execution_count": 9,
   "id": "c178a4fa-05a7-4cc7-9d3a-58b4f8426e5a",
   "metadata": {
    "tags": []
   },
   "outputs": [],
   "source": [
    "dollar = fdr.DataReader('USD/KRW', \"2001-06-08\")\n",
    "dollar[\"Change\"] = round(dollar[\"Adj Close\"].pct_change() * 100, 2)\n",
    "dollar.drop([\"Open\", \"High\", \"Low\", \"Close\", \"Adj Close\", \"Volume\"], axis=1, inplace=True)"
   ]
  },
  {
   "cell_type": "code",
   "execution_count": 10,
   "id": "a56efab6-7931-476b-9839-7e31198252c6",
   "metadata": {
    "tags": []
   },
   "outputs": [
    {
     "data": {
      "text/html": [
       "<div>\n",
       "<style scoped>\n",
       "    .dataframe tbody tr th:only-of-type {\n",
       "        vertical-align: middle;\n",
       "    }\n",
       "\n",
       "    .dataframe tbody tr th {\n",
       "        vertical-align: top;\n",
       "    }\n",
       "\n",
       "    .dataframe thead th {\n",
       "        text-align: right;\n",
       "    }\n",
       "</style>\n",
       "<table border=\"1\" class=\"dataframe\">\n",
       "  <thead>\n",
       "    <tr style=\"text-align: right;\">\n",
       "      <th></th>\n",
       "      <th>Change</th>\n",
       "    </tr>\n",
       "    <tr>\n",
       "      <th>Date</th>\n",
       "      <th></th>\n",
       "    </tr>\n",
       "  </thead>\n",
       "  <tbody>\n",
       "    <tr>\n",
       "      <th>2003-12-01</th>\n",
       "      <td>NaN</td>\n",
       "    </tr>\n",
       "  </tbody>\n",
       "</table>\n",
       "</div>"
      ],
      "text/plain": [
       "            Change\n",
       "Date              \n",
       "2003-12-01     NaN"
      ]
     },
     "execution_count": 10,
     "metadata": {},
     "output_type": "execute_result"
    }
   ],
   "source": [
    "dollar.head(1)"
   ]
  },
  {
   "cell_type": "code",
   "execution_count": 14,
   "id": "969b0985-de6b-4ee9-9657-b3d59bbfa80b",
   "metadata": {
    "tags": []
   },
   "outputs": [],
   "source": [
    "us10 = fdr.DataReader('US10YT', \"2001-06-08\")\n",
    "us10[\"Change\"] = round(us10[\"Adj Close\"].pct_change() * 100, 2)\n",
    "us10.drop([\"Open\", \"High\", \"Low\", \"Close\", \"Adj Close\", \"Volume\"], axis=1, inplace=True)\n",
    "us10.drop(\"2001-06-08\", axis=0, inplace=True)\n",
    "us10.drop(\"2001-06-10\", axis=0, inplace=True)"
   ]
  },
  {
   "cell_type": "code",
   "execution_count": 15,
   "id": "fbb9e8c0-7ede-4f13-94bc-da5f318973df",
   "metadata": {
    "tags": []
   },
   "outputs": [
    {
     "data": {
      "text/html": [
       "<div>\n",
       "<style scoped>\n",
       "    .dataframe tbody tr th:only-of-type {\n",
       "        vertical-align: middle;\n",
       "    }\n",
       "\n",
       "    .dataframe tbody tr th {\n",
       "        vertical-align: top;\n",
       "    }\n",
       "\n",
       "    .dataframe thead th {\n",
       "        text-align: right;\n",
       "    }\n",
       "</style>\n",
       "<table border=\"1\" class=\"dataframe\">\n",
       "  <thead>\n",
       "    <tr style=\"text-align: right;\">\n",
       "      <th></th>\n",
       "      <th>Change</th>\n",
       "    </tr>\n",
       "    <tr>\n",
       "      <th>Date</th>\n",
       "      <th></th>\n",
       "    </tr>\n",
       "  </thead>\n",
       "  <tbody>\n",
       "    <tr>\n",
       "      <th>2001-06-11</th>\n",
       "      <td>-0.86</td>\n",
       "    </tr>\n",
       "  </tbody>\n",
       "</table>\n",
       "</div>"
      ],
      "text/plain": [
       "            Change\n",
       "Date              \n",
       "2001-06-11   -0.86"
      ]
     },
     "execution_count": 15,
     "metadata": {},
     "output_type": "execute_result"
    }
   ],
   "source": [
    "us10.head(1)"
   ]
  },
  {
   "cell_type": "code",
   "execution_count": 24,
   "id": "58f66ead-9de0-488f-a4ec-31f3324a2dec",
   "metadata": {
    "tags": []
   },
   "outputs": [],
   "source": [
    "nasdaq = fdr.DataReader(\"IXIC\", \"2001-06-08\")\n",
    "nasdaq[\"Change\"] = round(nasdaq[\"Adj Close\"].pct_change() * 100, 2)\n",
    "nasdaq.drop([\"Open\", \"High\", \"Low\", \"Close\", \"Adj Close\", \"Volume\"], axis=1, inplace=True)\n",
    "nasdaq.drop(\"2001-06-08\", axis=0, inplace=True)"
   ]
  },
  {
   "cell_type": "code",
   "execution_count": 25,
   "id": "4eeaf442-1f84-4f0f-a04b-9ca3fc5b827e",
   "metadata": {
    "tags": []
   },
   "outputs": [
    {
     "data": {
      "text/html": [
       "<div>\n",
       "<style scoped>\n",
       "    .dataframe tbody tr th:only-of-type {\n",
       "        vertical-align: middle;\n",
       "    }\n",
       "\n",
       "    .dataframe tbody tr th {\n",
       "        vertical-align: top;\n",
       "    }\n",
       "\n",
       "    .dataframe thead th {\n",
       "        text-align: right;\n",
       "    }\n",
       "</style>\n",
       "<table border=\"1\" class=\"dataframe\">\n",
       "  <thead>\n",
       "    <tr style=\"text-align: right;\">\n",
       "      <th></th>\n",
       "      <th>Change</th>\n",
       "    </tr>\n",
       "    <tr>\n",
       "      <th>Date</th>\n",
       "      <th></th>\n",
       "    </tr>\n",
       "  </thead>\n",
       "  <tbody>\n",
       "    <tr>\n",
       "      <th>2001-06-11</th>\n",
       "      <td>-2.00</td>\n",
       "    </tr>\n",
       "    <tr>\n",
       "      <th>2001-06-12</th>\n",
       "      <td>-0.04</td>\n",
       "    </tr>\n",
       "    <tr>\n",
       "      <th>2001-06-13</th>\n",
       "      <td>-2.23</td>\n",
       "    </tr>\n",
       "    <tr>\n",
       "      <th>2001-06-14</th>\n",
       "      <td>-3.66</td>\n",
       "    </tr>\n",
       "    <tr>\n",
       "      <th>2001-06-15</th>\n",
       "      <td>-0.77</td>\n",
       "    </tr>\n",
       "    <tr>\n",
       "      <th>...</th>\n",
       "      <td>...</td>\n",
       "    </tr>\n",
       "    <tr>\n",
       "      <th>2024-01-17</th>\n",
       "      <td>-0.59</td>\n",
       "    </tr>\n",
       "    <tr>\n",
       "      <th>2024-01-18</th>\n",
       "      <td>1.35</td>\n",
       "    </tr>\n",
       "    <tr>\n",
       "      <th>2024-01-19</th>\n",
       "      <td>1.70</td>\n",
       "    </tr>\n",
       "    <tr>\n",
       "      <th>2024-01-22</th>\n",
       "      <td>0.32</td>\n",
       "    </tr>\n",
       "    <tr>\n",
       "      <th>2024-01-23</th>\n",
       "      <td>0.43</td>\n",
       "    </tr>\n",
       "  </tbody>\n",
       "</table>\n",
       "<p>5690 rows × 1 columns</p>\n",
       "</div>"
      ],
      "text/plain": [
       "            Change\n",
       "Date              \n",
       "2001-06-11   -2.00\n",
       "2001-06-12   -0.04\n",
       "2001-06-13   -2.23\n",
       "2001-06-14   -3.66\n",
       "2001-06-15   -0.77\n",
       "...            ...\n",
       "2024-01-17   -0.59\n",
       "2024-01-18    1.35\n",
       "2024-01-19    1.70\n",
       "2024-01-22    0.32\n",
       "2024-01-23    0.43\n",
       "\n",
       "[5690 rows x 1 columns]"
      ]
     },
     "execution_count": 25,
     "metadata": {},
     "output_type": "execute_result"
    }
   ],
   "source": [
    "nasdaq"
   ]
  },
  {
   "cell_type": "code",
   "execution_count": null,
   "id": "2c092455-1162-41de-98cc-db62d7ca4a22",
   "metadata": {},
   "outputs": [],
   "source": []
  }
 ],
 "metadata": {
  "kernelspec": {
   "display_name": "Python 3 (ipykernel)",
   "language": "python",
   "name": "python3"
  },
  "language_info": {
   "codemirror_mode": {
    "name": "ipython",
    "version": 3
   },
   "file_extension": ".py",
   "mimetype": "text/x-python",
   "name": "python",
   "nbconvert_exporter": "python",
   "pygments_lexer": "ipython3",
   "version": "3.11.5"
  }
 },
 "nbformat": 4,
 "nbformat_minor": 5
}
