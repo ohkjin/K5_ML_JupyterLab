{
 "cells": [
  {
   "cell_type": "markdown",
   "id": "4bdf0e6d-496e-4ed5-a561-831ed6e0737a",
   "metadata": {},
   "source": [
    "# KOSPI는 다른 차트의 변동성과 어떤 영향이 있을까?"
   ]
  },
  {
   "cell_type": "markdown",
   "id": "78a34942-2ac3-4953-8894-5e16884c9d32",
   "metadata": {},
   "source": [
    "DATA 후보군: <br>\n",
    "검색 후 현재 사용중인지 체크 <br>\n",
    "#개별주가 <br>\n",
    "[pandas-datareader github](https://github.com/pydata/pandas-datareader/issues) <br>\n",
    "[yfinance github](https://github.com/ranaroussi/yfinance/issues)<br>\n",
    "\n",
    "Manual 확인 후 내가 사용하려는 목적성과 알맞는지 <br>\n",
    "\n",
    "#시장별 주가\n",
    "[finance-datareader](https://github.com/FinanceData/FinanceDataReader) <br>\n",
    "- df = fdr.DataReader('KS11', '2022-01-01', '2022-12-31')\n",
    "- df = fdr.DataReader('S&P500') # S&P500 지수 (NYSE)\n",
    "- df = fdr.DataReader('N225') # 일본 닛케이지수 (N225 - Nikkei 225)\n",
    "- df = fdr.DataReader('USD/KRW') # 달러 원화\n",
    "- df = fdr.DataReader('BTC/KRW') # 비트코인/원화\n",
    "- df = fdr.DataReader('US10YT') # 10년 만기 미국국채 수익률"
   ]
  },
  {
   "cell_type": "markdown",
   "id": "3b983c8e-7f87-428d-a49d-bb2ef06e614e",
   "metadata": {},
   "source": [
    "|  1주    |  2주  |3주|4주|\n",
    "|---|---|---|---|\n",
    "|데이터수집|K-Mean|\n",
    "|가공     ||"
   ]
  },
  {
   "cell_type": "code",
   "execution_count": 112,
   "id": "3d887f49-f30b-4e54-82f6-75619c6ccbe7",
   "metadata": {
    "tags": []
   },
   "outputs": [],
   "source": [
    "import numpy as np\n",
    "import pandas as pd\n",
    "import matplotlib.pyplot as plt\n",
    "import koreanize_matplotlib\n",
    "import seaborn as sns\n",
    "\n",
    "from sklearn.cluster import KMeans, DBSCAN\n",
    "\n",
    "import FinanceDataReader as fdr"
   ]
  },
  {
   "cell_type": "code",
   "execution_count": null,
   "id": "a75aa5eb-7ee0-47d8-aa22-655923457070",
   "metadata": {},
   "outputs": [],
   "source": [
    "# 날짜 맞추기"
   ]
  },
  {
   "cell_type": "markdown",
   "id": "81bb1083-902a-4799-9d04-74d99d4869f9",
   "metadata": {
    "tags": []
   },
   "source": [
    "## 데이터 전처리"
   ]
  },
  {
   "cell_type": "markdown",
   "id": "2713fe2c-61b4-489d-936f-4a8c2e88e434",
   "metadata": {
    "jp-MarkdownHeadingCollapsed": true,
    "tags": []
   },
   "source": [
    "### 예시"
   ]
  },
  {
   "cell_type": "code",
   "execution_count": 5,
   "id": "5acaf10a-7cdb-463d-a953-12e28ec2e43e",
   "metadata": {
    "tags": []
   },
   "outputs": [
    {
     "data": {
      "text/html": [
       "<div>\n",
       "<style scoped>\n",
       "    .dataframe tbody tr th:only-of-type {\n",
       "        vertical-align: middle;\n",
       "    }\n",
       "\n",
       "    .dataframe tbody tr th {\n",
       "        vertical-align: top;\n",
       "    }\n",
       "\n",
       "    .dataframe thead th {\n",
       "        text-align: right;\n",
       "    }\n",
       "</style>\n",
       "<table border=\"1\" class=\"dataframe\">\n",
       "  <thead>\n",
       "    <tr style=\"text-align: right;\">\n",
       "      <th></th>\n",
       "      <th>Open</th>\n",
       "      <th>High</th>\n",
       "      <th>Low</th>\n",
       "      <th>Close</th>\n",
       "      <th>Volume</th>\n",
       "      <th>Change</th>\n",
       "      <th>UpDown</th>\n",
       "      <th>Comp</th>\n",
       "      <th>Amount</th>\n",
       "      <th>MarCap</th>\n",
       "    </tr>\n",
       "    <tr>\n",
       "      <th>Date</th>\n",
       "      <th></th>\n",
       "      <th></th>\n",
       "      <th></th>\n",
       "      <th></th>\n",
       "      <th></th>\n",
       "      <th></th>\n",
       "      <th></th>\n",
       "      <th></th>\n",
       "      <th></th>\n",
       "      <th></th>\n",
       "    </tr>\n",
       "  </thead>\n",
       "  <tbody>\n",
       "    <tr>\n",
       "      <th>2001-06-11</th>\n",
       "      <td>612.46</td>\n",
       "      <td>615.41</td>\n",
       "      <td>607.20</td>\n",
       "      <td>608.23</td>\n",
       "      <td>340123834</td>\n",
       "      <td>-0.0218</td>\n",
       "      <td>2</td>\n",
       "      <td>-13.55</td>\n",
       "      <td>1711354887650</td>\n",
       "      <td>213769808029580</td>\n",
       "    </tr>\n",
       "    <tr>\n",
       "      <th>2001-06-12</th>\n",
       "      <td>605.36</td>\n",
       "      <td>611.88</td>\n",
       "      <td>603.91</td>\n",
       "      <td>607.15</td>\n",
       "      <td>319877548</td>\n",
       "      <td>-0.0018</td>\n",
       "      <td>2</td>\n",
       "      <td>-1.08</td>\n",
       "      <td>1579309434050</td>\n",
       "      <td>213407866089170</td>\n",
       "    </tr>\n",
       "    <tr>\n",
       "      <th>2001-06-13</th>\n",
       "      <td>611.79</td>\n",
       "      <td>614.05</td>\n",
       "      <td>607.48</td>\n",
       "      <td>614.05</td>\n",
       "      <td>392415108</td>\n",
       "      <td>0.0114</td>\n",
       "      <td>1</td>\n",
       "      <td>6.90</td>\n",
       "      <td>1882785913600</td>\n",
       "      <td>215722300556140</td>\n",
       "    </tr>\n",
       "    <tr>\n",
       "      <th>2001-06-14</th>\n",
       "      <td>612.96</td>\n",
       "      <td>623.37</td>\n",
       "      <td>610.36</td>\n",
       "      <td>613.75</td>\n",
       "      <td>420520519</td>\n",
       "      <td>-0.0005</td>\n",
       "      <td>2</td>\n",
       "      <td>-0.30</td>\n",
       "      <td>2138122210150</td>\n",
       "      <td>215864633350565</td>\n",
       "    </tr>\n",
       "    <tr>\n",
       "      <th>2001-06-15</th>\n",
       "      <td>609.54</td>\n",
       "      <td>618.96</td>\n",
       "      <td>604.37</td>\n",
       "      <td>618.96</td>\n",
       "      <td>375830101</td>\n",
       "      <td>0.0085</td>\n",
       "      <td>1</td>\n",
       "      <td>5.21</td>\n",
       "      <td>1984248114150</td>\n",
       "      <td>217830955673590</td>\n",
       "    </tr>\n",
       "    <tr>\n",
       "      <th>...</th>\n",
       "      <td>...</td>\n",
       "      <td>...</td>\n",
       "      <td>...</td>\n",
       "      <td>...</td>\n",
       "      <td>...</td>\n",
       "      <td>...</td>\n",
       "      <td>...</td>\n",
       "      <td>...</td>\n",
       "      <td>...</td>\n",
       "      <td>...</td>\n",
       "    </tr>\n",
       "    <tr>\n",
       "      <th>2024-01-18</th>\n",
       "      <td>2439.96</td>\n",
       "      <td>2453.97</td>\n",
       "      <td>2429.12</td>\n",
       "      <td>2440.04</td>\n",
       "      <td>571507487</td>\n",
       "      <td>0.0017</td>\n",
       "      <td>1</td>\n",
       "      <td>4.14</td>\n",
       "      <td>8300177532644</td>\n",
       "      <td>1978349880698514</td>\n",
       "    </tr>\n",
       "    <tr>\n",
       "      <th>2024-01-19</th>\n",
       "      <td>2468.43</td>\n",
       "      <td>2479.00</td>\n",
       "      <td>2455.50</td>\n",
       "      <td>2472.74</td>\n",
       "      <td>518806918</td>\n",
       "      <td>0.0134</td>\n",
       "      <td>1</td>\n",
       "      <td>32.70</td>\n",
       "      <td>9174537029762</td>\n",
       "      <td>2005853267137231</td>\n",
       "    </tr>\n",
       "    <tr>\n",
       "      <th>2024-01-22</th>\n",
       "      <td>2489.57</td>\n",
       "      <td>2490.69</td>\n",
       "      <td>2464.35</td>\n",
       "      <td>2464.35</td>\n",
       "      <td>388045571</td>\n",
       "      <td>-0.0034</td>\n",
       "      <td>2</td>\n",
       "      <td>-8.39</td>\n",
       "      <td>8419915774574</td>\n",
       "      <td>1999139797919650</td>\n",
       "    </tr>\n",
       "    <tr>\n",
       "      <th>2024-01-23</th>\n",
       "      <td>2478.32</td>\n",
       "      <td>2482.84</td>\n",
       "      <td>2464.24</td>\n",
       "      <td>2478.61</td>\n",
       "      <td>472284165</td>\n",
       "      <td>0.0058</td>\n",
       "      <td>1</td>\n",
       "      <td>14.26</td>\n",
       "      <td>8029400288499</td>\n",
       "      <td>2010744285970351</td>\n",
       "    </tr>\n",
       "    <tr>\n",
       "      <th>2024-01-24</th>\n",
       "      <td>2476.22</td>\n",
       "      <td>2476.22</td>\n",
       "      <td>2454.34</td>\n",
       "      <td>2467.28</td>\n",
       "      <td>327580767</td>\n",
       "      <td>-0.0046</td>\n",
       "      <td>2</td>\n",
       "      <td>-11.33</td>\n",
       "      <td>5905074572919</td>\n",
       "      <td>2002229228407118</td>\n",
       "    </tr>\n",
       "  </tbody>\n",
       "</table>\n",
       "<p>5592 rows × 10 columns</p>\n",
       "</div>"
      ],
      "text/plain": [
       "               Open     High      Low    Close     Volume  Change  UpDown  \\\n",
       "Date                                                                        \n",
       "2001-06-11   612.46   615.41   607.20   608.23  340123834 -0.0218       2   \n",
       "2001-06-12   605.36   611.88   603.91   607.15  319877548 -0.0018       2   \n",
       "2001-06-13   611.79   614.05   607.48   614.05  392415108  0.0114       1   \n",
       "2001-06-14   612.96   623.37   610.36   613.75  420520519 -0.0005       2   \n",
       "2001-06-15   609.54   618.96   604.37   618.96  375830101  0.0085       1   \n",
       "...             ...      ...      ...      ...        ...     ...     ...   \n",
       "2024-01-18  2439.96  2453.97  2429.12  2440.04  571507487  0.0017       1   \n",
       "2024-01-19  2468.43  2479.00  2455.50  2472.74  518806918  0.0134       1   \n",
       "2024-01-22  2489.57  2490.69  2464.35  2464.35  388045571 -0.0034       2   \n",
       "2024-01-23  2478.32  2482.84  2464.24  2478.61  472284165  0.0058       1   \n",
       "2024-01-24  2476.22  2476.22  2454.34  2467.28  327580767 -0.0046       2   \n",
       "\n",
       "             Comp         Amount            MarCap  \n",
       "Date                                                \n",
       "2001-06-11 -13.55  1711354887650   213769808029580  \n",
       "2001-06-12  -1.08  1579309434050   213407866089170  \n",
       "2001-06-13   6.90  1882785913600   215722300556140  \n",
       "2001-06-14  -0.30  2138122210150   215864633350565  \n",
       "2001-06-15   5.21  1984248114150   217830955673590  \n",
       "...           ...            ...               ...  \n",
       "2024-01-18   4.14  8300177532644  1978349880698514  \n",
       "2024-01-19  32.70  9174537029762  2005853267137231  \n",
       "2024-01-22  -8.39  8419915774574  1999139797919650  \n",
       "2024-01-23  14.26  8029400288499  2010744285970351  \n",
       "2024-01-24 -11.33  5905074572919  2002229228407118  \n",
       "\n",
       "[5592 rows x 10 columns]"
      ]
     },
     "execution_count": 5,
     "metadata": {},
     "output_type": "execute_result"
    }
   ],
   "source": [
    "kospi = fdr.DataReader('KS11')\n",
    "kospi"
   ]
  },
  {
   "cell_type": "code",
   "execution_count": 8,
   "id": "ec0d58b5-8815-4240-aaf3-125c55eda86f",
   "metadata": {
    "tags": []
   },
   "outputs": [
    {
     "data": {
      "text/plain": [
       "Index(['Open', 'High', 'Low', 'Close', 'Volume', 'Change', 'UpDown', 'Comp',\n",
       "       'Amount', 'MarCap'],\n",
       "      dtype='object')"
      ]
     },
     "execution_count": 8,
     "metadata": {},
     "output_type": "execute_result"
    }
   ],
   "source": [
    "kospi.keys()"
   ]
  },
  {
   "cell_type": "code",
   "execution_count": 52,
   "id": "658c3658-9bab-494d-a3c6-a0c5c17af182",
   "metadata": {
    "tags": []
   },
   "outputs": [],
   "source": [
    "# 변동율만 필요!\n",
    "kospi = fdr.DataReader('KS11')\n",
    "kospi[\"Change\"] = kospi[\"Change\"]*100  #percentage\n",
    "kospi.drop(['Open', 'High', 'Low', 'Close', 'Volume','UpDown', 'Comp','Amount', 'MarCap'],\n",
    "            axis=1,inplace=True) # axis 로 행인지 열인지 알려줘서 어디서 drop해야하는지 지시"
   ]
  },
  {
   "cell_type": "code",
   "execution_count": 53,
   "id": "93a69d29-6a2c-43a8-914f-f9632937b08d",
   "metadata": {
    "tags": []
   },
   "outputs": [
    {
     "data": {
      "text/html": [
       "<div>\n",
       "<style scoped>\n",
       "    .dataframe tbody tr th:only-of-type {\n",
       "        vertical-align: middle;\n",
       "    }\n",
       "\n",
       "    .dataframe tbody tr th {\n",
       "        vertical-align: top;\n",
       "    }\n",
       "\n",
       "    .dataframe thead th {\n",
       "        text-align: right;\n",
       "    }\n",
       "</style>\n",
       "<table border=\"1\" class=\"dataframe\">\n",
       "  <thead>\n",
       "    <tr style=\"text-align: right;\">\n",
       "      <th></th>\n",
       "      <th>Change</th>\n",
       "    </tr>\n",
       "    <tr>\n",
       "      <th>Date</th>\n",
       "      <th></th>\n",
       "    </tr>\n",
       "  </thead>\n",
       "  <tbody>\n",
       "    <tr>\n",
       "      <th>2001-06-11</th>\n",
       "      <td>-2.18</td>\n",
       "    </tr>\n",
       "  </tbody>\n",
       "</table>\n",
       "</div>"
      ],
      "text/plain": [
       "            Change\n",
       "Date              \n",
       "2001-06-11   -2.18"
      ]
     },
     "execution_count": 53,
     "metadata": {},
     "output_type": "execute_result"
    }
   ],
   "source": [
    "kospi.head(1)"
   ]
  },
  {
   "cell_type": "code",
   "execution_count": 25,
   "id": "c9259936-010d-4826-a6c8-07d6393d4bac",
   "metadata": {
    "tags": []
   },
   "outputs": [
    {
     "data": {
      "text/html": [
       "<div>\n",
       "<style scoped>\n",
       "    .dataframe tbody tr th:only-of-type {\n",
       "        vertical-align: middle;\n",
       "    }\n",
       "\n",
       "    .dataframe tbody tr th {\n",
       "        vertical-align: top;\n",
       "    }\n",
       "\n",
       "    .dataframe thead th {\n",
       "        text-align: right;\n",
       "    }\n",
       "</style>\n",
       "<table border=\"1\" class=\"dataframe\">\n",
       "  <thead>\n",
       "    <tr style=\"text-align: right;\">\n",
       "      <th></th>\n",
       "      <th>Open</th>\n",
       "      <th>High</th>\n",
       "      <th>Low</th>\n",
       "      <th>Close</th>\n",
       "      <th>Adj Close</th>\n",
       "      <th>Volume</th>\n",
       "    </tr>\n",
       "    <tr>\n",
       "      <th>Date</th>\n",
       "      <th></th>\n",
       "      <th></th>\n",
       "      <th></th>\n",
       "      <th></th>\n",
       "      <th></th>\n",
       "      <th></th>\n",
       "    </tr>\n",
       "  </thead>\n",
       "  <tbody>\n",
       "    <tr>\n",
       "      <th>2001-06-11</th>\n",
       "      <td>1264.959961</td>\n",
       "      <td>1264.959961</td>\n",
       "      <td>1249.229980</td>\n",
       "      <td>1254.390015</td>\n",
       "      <td>1254.390015</td>\n",
       "      <td>870100000</td>\n",
       "    </tr>\n",
       "    <tr>\n",
       "      <th>2001-06-12</th>\n",
       "      <td>1254.390015</td>\n",
       "      <td>1261.000000</td>\n",
       "      <td>1235.750000</td>\n",
       "      <td>1255.849976</td>\n",
       "      <td>1255.849976</td>\n",
       "      <td>1136500000</td>\n",
       "    </tr>\n",
       "    <tr>\n",
       "      <th>2001-06-13</th>\n",
       "      <td>1255.849976</td>\n",
       "      <td>1259.750000</td>\n",
       "      <td>1241.589966</td>\n",
       "      <td>1241.599976</td>\n",
       "      <td>1241.599976</td>\n",
       "      <td>1063600000</td>\n",
       "    </tr>\n",
       "    <tr>\n",
       "      <th>2001-06-14</th>\n",
       "      <td>1241.599976</td>\n",
       "      <td>1241.599976</td>\n",
       "      <td>1218.900024</td>\n",
       "      <td>1219.869995</td>\n",
       "      <td>1219.869995</td>\n",
       "      <td>1242900000</td>\n",
       "    </tr>\n",
       "    <tr>\n",
       "      <th>2001-06-15</th>\n",
       "      <td>1219.869995</td>\n",
       "      <td>1221.500000</td>\n",
       "      <td>1203.030029</td>\n",
       "      <td>1214.359985</td>\n",
       "      <td>1214.359985</td>\n",
       "      <td>1635550000</td>\n",
       "    </tr>\n",
       "    <tr>\n",
       "      <th>...</th>\n",
       "      <td>...</td>\n",
       "      <td>...</td>\n",
       "      <td>...</td>\n",
       "      <td>...</td>\n",
       "      <td>...</td>\n",
       "      <td>...</td>\n",
       "    </tr>\n",
       "    <tr>\n",
       "      <th>2024-01-17</th>\n",
       "      <td>4739.129883</td>\n",
       "      <td>4744.229980</td>\n",
       "      <td>4714.819824</td>\n",
       "      <td>4739.209961</td>\n",
       "      <td>4739.209961</td>\n",
       "      <td>3928600000</td>\n",
       "    </tr>\n",
       "    <tr>\n",
       "      <th>2024-01-18</th>\n",
       "      <td>4760.100098</td>\n",
       "      <td>4785.790039</td>\n",
       "      <td>4740.569824</td>\n",
       "      <td>4780.939941</td>\n",
       "      <td>4780.939941</td>\n",
       "      <td>4019000000</td>\n",
       "    </tr>\n",
       "    <tr>\n",
       "      <th>2024-01-19</th>\n",
       "      <td>4796.279785</td>\n",
       "      <td>4842.069824</td>\n",
       "      <td>4785.870117</td>\n",
       "      <td>4839.810059</td>\n",
       "      <td>4839.810059</td>\n",
       "      <td>4287200000</td>\n",
       "    </tr>\n",
       "    <tr>\n",
       "      <th>2024-01-22</th>\n",
       "      <td>4853.419922</td>\n",
       "      <td>4868.410156</td>\n",
       "      <td>4844.049805</td>\n",
       "      <td>4850.430176</td>\n",
       "      <td>4850.430176</td>\n",
       "      <td>4297610000</td>\n",
       "    </tr>\n",
       "    <tr>\n",
       "      <th>2024-01-23</th>\n",
       "      <td>4856.799805</td>\n",
       "      <td>4866.479980</td>\n",
       "      <td>4844.370117</td>\n",
       "      <td>4864.600098</td>\n",
       "      <td>4864.600098</td>\n",
       "      <td>3912800000</td>\n",
       "    </tr>\n",
       "  </tbody>\n",
       "</table>\n",
       "<p>5690 rows × 6 columns</p>\n",
       "</div>"
      ],
      "text/plain": [
       "                   Open         High          Low        Close    Adj Close  \\\n",
       "Date                                                                          \n",
       "2001-06-11  1264.959961  1264.959961  1249.229980  1254.390015  1254.390015   \n",
       "2001-06-12  1254.390015  1261.000000  1235.750000  1255.849976  1255.849976   \n",
       "2001-06-13  1255.849976  1259.750000  1241.589966  1241.599976  1241.599976   \n",
       "2001-06-14  1241.599976  1241.599976  1218.900024  1219.869995  1219.869995   \n",
       "2001-06-15  1219.869995  1221.500000  1203.030029  1214.359985  1214.359985   \n",
       "...                 ...          ...          ...          ...          ...   \n",
       "2024-01-17  4739.129883  4744.229980  4714.819824  4739.209961  4739.209961   \n",
       "2024-01-18  4760.100098  4785.790039  4740.569824  4780.939941  4780.939941   \n",
       "2024-01-19  4796.279785  4842.069824  4785.870117  4839.810059  4839.810059   \n",
       "2024-01-22  4853.419922  4868.410156  4844.049805  4850.430176  4850.430176   \n",
       "2024-01-23  4856.799805  4866.479980  4844.370117  4864.600098  4864.600098   \n",
       "\n",
       "                Volume  \n",
       "Date                    \n",
       "2001-06-11   870100000  \n",
       "2001-06-12  1136500000  \n",
       "2001-06-13  1063600000  \n",
       "2001-06-14  1242900000  \n",
       "2001-06-15  1635550000  \n",
       "...                ...  \n",
       "2024-01-17  3928600000  \n",
       "2024-01-18  4019000000  \n",
       "2024-01-19  4287200000  \n",
       "2024-01-22  4297610000  \n",
       "2024-01-23  3912800000  \n",
       "\n",
       "[5690 rows x 6 columns]"
      ]
     },
     "execution_count": 25,
     "metadata": {},
     "output_type": "execute_result"
    }
   ],
   "source": [
    "nasdaq = fdr.DataReader(\"S&P500\",'2001-06-11')\n",
    "nasdaq"
   ]
  },
  {
   "cell_type": "code",
   "execution_count": 27,
   "id": "147a074e-29ae-4532-a6a0-80e05c984d67",
   "metadata": {
    "tags": []
   },
   "outputs": [
    {
     "data": {
      "text/plain": [
       "Index(['Open', 'High', 'Low', 'Close', 'Adj Close', 'Volume', 'Change'], dtype='object')"
      ]
     },
     "execution_count": 27,
     "metadata": {},
     "output_type": "execute_result"
    }
   ],
   "source": [
    "nasdaq.keys()"
   ]
  },
  {
   "cell_type": "code",
   "execution_count": 32,
   "id": "12e4d4f9-a94d-4b3f-9a9a-a657b3eab9ac",
   "metadata": {
    "tags": []
   },
   "outputs": [],
   "source": [
    "# Change 가 없음\n",
    "nasdaq = fdr.DataReader(\"S&P500\",'2001-06-8')\n",
    "nasdaq[\"Change\"] = round(nasdaq[\"Adj Close\"].pct_change()*100,2)\n",
    "nasdaq.drop(['Open', 'High', 'Low', 'Close', 'Adj Close', 'Volume'],axis=1, inplace=True)\n",
    "nasdaq.drop(\"2001-06-8\",axis=0, inplace=True)"
   ]
  },
  {
   "cell_type": "code",
   "execution_count": 54,
   "id": "9df777d3-5be0-411d-abe1-271eaadde1f9",
   "metadata": {
    "tags": []
   },
   "outputs": [
    {
     "data": {
      "text/html": [
       "<div>\n",
       "<style scoped>\n",
       "    .dataframe tbody tr th:only-of-type {\n",
       "        vertical-align: middle;\n",
       "    }\n",
       "\n",
       "    .dataframe tbody tr th {\n",
       "        vertical-align: top;\n",
       "    }\n",
       "\n",
       "    .dataframe thead th {\n",
       "        text-align: right;\n",
       "    }\n",
       "</style>\n",
       "<table border=\"1\" class=\"dataframe\">\n",
       "  <thead>\n",
       "    <tr style=\"text-align: right;\">\n",
       "      <th></th>\n",
       "      <th>Change</th>\n",
       "    </tr>\n",
       "    <tr>\n",
       "      <th>Date</th>\n",
       "      <th></th>\n",
       "    </tr>\n",
       "  </thead>\n",
       "  <tbody>\n",
       "    <tr>\n",
       "      <th>2001-06-11</th>\n",
       "      <td>-0.84</td>\n",
       "    </tr>\n",
       "  </tbody>\n",
       "</table>\n",
       "</div>"
      ],
      "text/plain": [
       "            Change\n",
       "Date              \n",
       "2001-06-11   -0.84"
      ]
     },
     "execution_count": 54,
     "metadata": {},
     "output_type": "execute_result"
    }
   ],
   "source": [
    "nasdaq.head(1)"
   ]
  },
  {
   "cell_type": "markdown",
   "id": "b9583b63-3f1c-4fbd-bb78-b2f59c79d733",
   "metadata": {
    "tags": []
   },
   "source": [
    "### 데이터 통일성 확인"
   ]
  },
  {
   "cell_type": "code",
   "execution_count": 100,
   "id": "43fbc598-6755-42b9-b0e8-6888bf2fbb01",
   "metadata": {
    "tags": []
   },
   "outputs": [
    {
     "data": {
      "text/html": [
       "<div>\n",
       "<style scoped>\n",
       "    .dataframe tbody tr th:only-of-type {\n",
       "        vertical-align: middle;\n",
       "    }\n",
       "\n",
       "    .dataframe tbody tr th {\n",
       "        vertical-align: top;\n",
       "    }\n",
       "\n",
       "    .dataframe thead th {\n",
       "        text-align: right;\n",
       "    }\n",
       "</style>\n",
       "<table border=\"1\" class=\"dataframe\">\n",
       "  <thead>\n",
       "    <tr style=\"text-align: right;\">\n",
       "      <th></th>\n",
       "      <th>KOSPI</th>\n",
       "    </tr>\n",
       "    <tr>\n",
       "      <th>Date</th>\n",
       "      <th></th>\n",
       "    </tr>\n",
       "  </thead>\n",
       "  <tbody>\n",
       "    <tr>\n",
       "      <th>2001-06-11</th>\n",
       "      <td>-2.18</td>\n",
       "    </tr>\n",
       "  </tbody>\n",
       "</table>\n",
       "</div>"
      ],
      "text/plain": [
       "            KOSPI\n",
       "Date             \n",
       "2001-06-11  -2.18"
      ]
     },
     "execution_count": 100,
     "metadata": {},
     "output_type": "execute_result"
    }
   ],
   "source": [
    "# 변동율만 필요!\n",
    "kospi = fdr.DataReader('KS11')\n",
    "kospi[\"Change\"] = kospi[\"Change\"]*100  #percentage\n",
    "kospi.drop(['Open', 'High', 'Low', 'Close', 'Volume','UpDown', 'Comp','Amount', 'MarCap'],\n",
    "            axis=1,inplace=True) # axis 로 행인지 열인지 알려줘서 어디서 drop해야하는지 지시\n",
    "kospi.rename(columns={\"Change\":\"KOSPI\"},inplace=True)\n",
    "kospi.head(1)"
   ]
  },
  {
   "cell_type": "code",
   "execution_count": 101,
   "id": "a5fda20f-4a93-489a-8cda-0efc4835d7f5",
   "metadata": {
    "tags": []
   },
   "outputs": [
    {
     "data": {
      "text/html": [
       "<div>\n",
       "<style scoped>\n",
       "    .dataframe tbody tr th:only-of-type {\n",
       "        vertical-align: middle;\n",
       "    }\n",
       "\n",
       "    .dataframe tbody tr th {\n",
       "        vertical-align: top;\n",
       "    }\n",
       "\n",
       "    .dataframe thead th {\n",
       "        text-align: right;\n",
       "    }\n",
       "</style>\n",
       "<table border=\"1\" class=\"dataframe\">\n",
       "  <thead>\n",
       "    <tr style=\"text-align: right;\">\n",
       "      <th></th>\n",
       "      <th>S&amp;P500</th>\n",
       "    </tr>\n",
       "    <tr>\n",
       "      <th>Date</th>\n",
       "      <th></th>\n",
       "    </tr>\n",
       "  </thead>\n",
       "  <tbody>\n",
       "    <tr>\n",
       "      <th>2001-06-11</th>\n",
       "      <td>-0.84</td>\n",
       "    </tr>\n",
       "  </tbody>\n",
       "</table>\n",
       "</div>"
      ],
      "text/plain": [
       "            S&P500\n",
       "Date              \n",
       "2001-06-11   -0.84"
      ]
     },
     "execution_count": 101,
     "metadata": {},
     "output_type": "execute_result"
    }
   ],
   "source": [
    "# Change 가 없음\n",
    "sp500 = fdr.DataReader(\"S&P500\",'2001-06-8')\n",
    "sp500[\"Change\"] = round(sp500[\"Adj Close\"].pct_change()*100,2)\n",
    "sp500.drop(['Open', 'High', 'Low', 'Close', 'Adj Close', 'Volume'],axis=1, inplace=True)\n",
    "sp500.drop(\"2001-06-8\",axis=0, inplace=True)\n",
    "sp500.rename(columns={\"Change\":\"S&P500\"},inplace=True)\n",
    "sp500.head(1)"
   ]
  },
  {
   "cell_type": "code",
   "execution_count": 103,
   "id": "ed2600d4-35d2-4af9-9219-b3165c3c5e00",
   "metadata": {
    "tags": []
   },
   "outputs": [
    {
     "data": {
      "text/html": [
       "<div>\n",
       "<style scoped>\n",
       "    .dataframe tbody tr th:only-of-type {\n",
       "        vertical-align: middle;\n",
       "    }\n",
       "\n",
       "    .dataframe tbody tr th {\n",
       "        vertical-align: top;\n",
       "    }\n",
       "\n",
       "    .dataframe thead th {\n",
       "        text-align: right;\n",
       "    }\n",
       "</style>\n",
       "<table border=\"1\" class=\"dataframe\">\n",
       "  <thead>\n",
       "    <tr style=\"text-align: right;\">\n",
       "      <th></th>\n",
       "      <th>Nikkei</th>\n",
       "    </tr>\n",
       "    <tr>\n",
       "      <th>Date</th>\n",
       "      <th></th>\n",
       "    </tr>\n",
       "  </thead>\n",
       "  <tbody>\n",
       "    <tr>\n",
       "      <th>2001-06-11</th>\n",
       "      <td>-1.52</td>\n",
       "    </tr>\n",
       "  </tbody>\n",
       "</table>\n",
       "</div>"
      ],
      "text/plain": [
       "            Nikkei\n",
       "Date              \n",
       "2001-06-11   -1.52"
      ]
     },
     "execution_count": 103,
     "metadata": {},
     "output_type": "execute_result"
    }
   ],
   "source": [
    "japan = fdr.DataReader('N225','2001-06-8')\n",
    "japan[\"Change\"] = round(japan[\"Adj Close\"].pct_change()*100,2)\n",
    "japan.drop(['Open', 'High', 'Low', 'Close', 'Adj Close', 'Volume'],axis=1, inplace=True)\n",
    "japan.drop(\"2001-06-8\",axis=0, inplace=True)\n",
    "japan.rename(columns={\"Change\":\"Nikkei\"},inplace=True)\n",
    "japan.head(1)"
   ]
  },
  {
   "cell_type": "code",
   "execution_count": 104,
   "id": "e449f40b-74b4-4a09-b366-5d0189ee69fe",
   "metadata": {
    "tags": []
   },
   "outputs": [
    {
     "data": {
      "text/html": [
       "<div>\n",
       "<style scoped>\n",
       "    .dataframe tbody tr th:only-of-type {\n",
       "        vertical-align: middle;\n",
       "    }\n",
       "\n",
       "    .dataframe tbody tr th {\n",
       "        vertical-align: top;\n",
       "    }\n",
       "\n",
       "    .dataframe thead th {\n",
       "        text-align: right;\n",
       "    }\n",
       "</style>\n",
       "<table border=\"1\" class=\"dataframe\">\n",
       "  <thead>\n",
       "    <tr style=\"text-align: right;\">\n",
       "      <th></th>\n",
       "      <th>USD/KRW</th>\n",
       "    </tr>\n",
       "    <tr>\n",
       "      <th>Date</th>\n",
       "      <th></th>\n",
       "    </tr>\n",
       "  </thead>\n",
       "  <tbody>\n",
       "    <tr>\n",
       "      <th>2003-12-01</th>\n",
       "      <td>NaN</td>\n",
       "    </tr>\n",
       "  </tbody>\n",
       "</table>\n",
       "</div>"
      ],
      "text/plain": [
       "            USD/KRW\n",
       "Date               \n",
       "2003-12-01      NaN"
      ]
     },
     "execution_count": 104,
     "metadata": {},
     "output_type": "execute_result"
    }
   ],
   "source": [
    "dollar = fdr.DataReader('USD/KRW','2001-06-8')\n",
    "dollar[\"Change\"] = round(dollar[\"Adj Close\"].pct_change()*100,2)\n",
    "dollar.drop(['Open', 'High', 'Low', 'Close', 'Adj Close', 'Volume'],axis=1, inplace=True)\n",
    "# dollar.drop(\"2001-06-8\",axis=0, inplace=True)\n",
    "dollar.rename(columns={\"Change\":\"USD/KRW\"},inplace=True)\n",
    "dollar.head(1)"
   ]
  },
  {
   "cell_type": "code",
   "execution_count": 105,
   "id": "59232e9d-9188-46b7-b36b-7fdce9af3883",
   "metadata": {
    "tags": []
   },
   "outputs": [
    {
     "data": {
      "text/html": [
       "<div>\n",
       "<style scoped>\n",
       "    .dataframe tbody tr th:only-of-type {\n",
       "        vertical-align: middle;\n",
       "    }\n",
       "\n",
       "    .dataframe tbody tr th {\n",
       "        vertical-align: top;\n",
       "    }\n",
       "\n",
       "    .dataframe thead th {\n",
       "        text-align: right;\n",
       "    }\n",
       "</style>\n",
       "<table border=\"1\" class=\"dataframe\">\n",
       "  <thead>\n",
       "    <tr style=\"text-align: right;\">\n",
       "      <th></th>\n",
       "      <th>US10YT</th>\n",
       "    </tr>\n",
       "    <tr>\n",
       "      <th>Date</th>\n",
       "      <th></th>\n",
       "    </tr>\n",
       "  </thead>\n",
       "  <tbody>\n",
       "    <tr>\n",
       "      <th>2001-06-11</th>\n",
       "      <td>-0.86</td>\n",
       "    </tr>\n",
       "  </tbody>\n",
       "</table>\n",
       "</div>"
      ],
      "text/plain": [
       "            US10YT\n",
       "Date              \n",
       "2001-06-11   -0.86"
      ]
     },
     "execution_count": 105,
     "metadata": {},
     "output_type": "execute_result"
    }
   ],
   "source": [
    "us10 = fdr.DataReader('US10YT','2001-06-8')\n",
    "us10[\"Change\"] = round(us10[\"Adj Close\"].pct_change()*100,2)\n",
    "us10.drop(['Open', 'High', 'Low', 'Close', 'Adj Close', 'Volume'],axis=1, inplace=True)\n",
    "us10.drop([\"2001-06-8\",\"2001-06-10\"],axis=0, inplace=True)\n",
    "us10.rename(columns={\"Change\":\"US10YT\"},inplace=True)\n",
    "us10.head(1)"
   ]
  },
  {
   "cell_type": "code",
   "execution_count": null,
   "id": "243d1796-7e85-4d4c-afdb-1dc76a34eb2d",
   "metadata": {
    "tags": []
   },
   "outputs": [
    {
     "data": {
      "text/html": [
       "<div>\n",
       "<style scoped>\n",
       "    .dataframe tbody tr th:only-of-type {\n",
       "        vertical-align: middle;\n",
       "    }\n",
       "\n",
       "    .dataframe tbody tr th {\n",
       "        vertical-align: top;\n",
       "    }\n",
       "\n",
       "    .dataframe thead th {\n",
       "        text-align: right;\n",
       "    }\n",
       "</style>\n",
       "<table border=\"1\" class=\"dataframe\">\n",
       "  <thead>\n",
       "    <tr style=\"text-align: right;\">\n",
       "      <th></th>\n",
       "      <th>NASDAQ</th>\n",
       "    </tr>\n",
       "    <tr>\n",
       "      <th>Date</th>\n",
       "      <th></th>\n",
       "    </tr>\n",
       "  </thead>\n",
       "  <tbody>\n",
       "    <tr>\n",
       "      <th>2001-06-11</th>\n",
       "      <td>-2.0</td>\n",
       "    </tr>\n",
       "  </tbody>\n",
       "</table>\n",
       "</div>"
      ],
      "text/plain": [
       "            NASDAQ\n",
       "Date              \n",
       "2001-06-11    -2.0"
      ]
     },
     "execution_count": 106,
     "metadata": {},
     "output_type": "execute_result"
    }
   ],
   "source": [
    "# Change 가 없음\n",
    "nasdaq = fdr.DataReader(\"IXIC\",'2001-06-8')\n",
    "nasdaq[\"Change\"] = round(nasdaq[\"Adj Close\"].pct_change()*100,2)\n",
    "nasdaq.drop(['Open', 'High', 'Low', 'Close', 'Adj Close', 'Volume'],axis=1, inplace=True)\n",
    "nasdaq.drop(\"2001-06-8\",axis=0, inplace=True)\n",
    "nasdaq.rename(columns={\"Change\":\"NASDAQ\"},inplace=True)\n",
    "nasdaq.head(1)"
   ]
  },
  {
   "cell_type": "markdown",
   "id": "c8535bd8-58b5-4ec5-98ec-30c71928b934",
   "metadata": {},
   "source": [
    "### 데이터 병합"
   ]
  },
  {
   "cell_type": "code",
   "execution_count": 86,
   "id": "f50c9670-9f3b-4751-be56-31a7b447b034",
   "metadata": {
    "tags": []
   },
   "outputs": [
    {
     "name": "stdout",
     "output_type": "stream",
     "text": [
      "2001-06-11 00:00:00 2001-06-11 00:00:00 2001-06-11 00:00:00 2003-12-01 00:00:00 2001-06-11 00:00:00 2001-06-11 00:00:00\n"
     ]
    }
   ],
   "source": [
    "print(kospi.index[0], sp500.index[0], japan.index[0], dollar.index[0], us10.index[0], nasdaq.index[0])"
   ]
  },
  {
   "cell_type": "code",
   "execution_count": 107,
   "id": "45ebd551-8a9a-4bc4-af19-fe07d1fbd02b",
   "metadata": {
    "tags": []
   },
   "outputs": [],
   "source": [
    "df = pd.concat([kospi, sp500, japan, dollar, us10, nasdaq], axis=1)\n",
    "df.drop(\"2024-01-24\",axis=0, inplace=True) \n",
    "df.fillna(df.mean(), inplace=True) # 확인후 결측치 채우기\n",
    "df = round(df, 2)"
   ]
  },
  {
   "cell_type": "code",
   "execution_count": 109,
   "id": "1a955b85-46db-4af9-b94e-1617bad7804e",
   "metadata": {
    "tags": []
   },
   "outputs": [
    {
     "data": {
      "text/plain": [
       "Index(['KOSPI', 'S&P500', 'Nikkei', 'USD/KRW', 'US10YT', 'NASDAQ'], dtype='object')"
      ]
     },
     "execution_count": 109,
     "metadata": {},
     "output_type": "execute_result"
    }
   ],
   "source": [
    "df.columns \n",
    "# Index(['Change', 'Change', 'Change', 'Change', 'Change', 'Change'], dtype='object')\n",
    "# 가능하면 원 데이터를 바꾸기\n",
    "# us10.rename(columns={\"Change\":\"US10YT\"},inplace=True)"
   ]
  },
  {
   "cell_type": "code",
   "execution_count": 110,
   "id": "4abed019-b771-4e71-ba38-585e798091c2",
   "metadata": {
    "tags": []
   },
   "outputs": [
    {
     "data": {
      "text/html": [
       "<div>\n",
       "<style scoped>\n",
       "    .dataframe tbody tr th:only-of-type {\n",
       "        vertical-align: middle;\n",
       "    }\n",
       "\n",
       "    .dataframe tbody tr th {\n",
       "        vertical-align: top;\n",
       "    }\n",
       "\n",
       "    .dataframe thead th {\n",
       "        text-align: right;\n",
       "    }\n",
       "</style>\n",
       "<table border=\"1\" class=\"dataframe\">\n",
       "  <thead>\n",
       "    <tr style=\"text-align: right;\">\n",
       "      <th></th>\n",
       "      <th>KOSPI</th>\n",
       "      <th>S&amp;P500</th>\n",
       "      <th>Nikkei</th>\n",
       "      <th>USD/KRW</th>\n",
       "      <th>US10YT</th>\n",
       "      <th>NASDAQ</th>\n",
       "    </tr>\n",
       "    <tr>\n",
       "      <th>Date</th>\n",
       "      <th></th>\n",
       "      <th></th>\n",
       "      <th></th>\n",
       "      <th></th>\n",
       "      <th></th>\n",
       "      <th></th>\n",
       "    </tr>\n",
       "  </thead>\n",
       "  <tbody>\n",
       "    <tr>\n",
       "      <th>2001-06-11</th>\n",
       "      <td>-2.18</td>\n",
       "      <td>-0.84</td>\n",
       "      <td>-1.52</td>\n",
       "      <td>0.01</td>\n",
       "      <td>-0.86</td>\n",
       "      <td>-2.00</td>\n",
       "    </tr>\n",
       "    <tr>\n",
       "      <th>2001-06-12</th>\n",
       "      <td>-0.18</td>\n",
       "      <td>0.12</td>\n",
       "      <td>-2.92</td>\n",
       "      <td>0.01</td>\n",
       "      <td>-0.89</td>\n",
       "      <td>-0.04</td>\n",
       "    </tr>\n",
       "    <tr>\n",
       "      <th>2001-06-13</th>\n",
       "      <td>1.14</td>\n",
       "      <td>-1.13</td>\n",
       "      <td>-0.13</td>\n",
       "      <td>0.01</td>\n",
       "      <td>0.32</td>\n",
       "      <td>-2.23</td>\n",
       "    </tr>\n",
       "    <tr>\n",
       "      <th>2001-06-14</th>\n",
       "      <td>-0.05</td>\n",
       "      <td>-1.75</td>\n",
       "      <td>0.18</td>\n",
       "      <td>0.01</td>\n",
       "      <td>-0.80</td>\n",
       "      <td>-3.66</td>\n",
       "    </tr>\n",
       "    <tr>\n",
       "      <th>2001-06-15</th>\n",
       "      <td>0.85</td>\n",
       "      <td>-0.45</td>\n",
       "      <td>-0.44</td>\n",
       "      <td>0.01</td>\n",
       "      <td>0.25</td>\n",
       "      <td>-0.77</td>\n",
       "    </tr>\n",
       "    <tr>\n",
       "      <th>...</th>\n",
       "      <td>...</td>\n",
       "      <td>...</td>\n",
       "      <td>...</td>\n",
       "      <td>...</td>\n",
       "      <td>...</td>\n",
       "      <td>...</td>\n",
       "    </tr>\n",
       "    <tr>\n",
       "      <th>2024-01-18</th>\n",
       "      <td>0.17</td>\n",
       "      <td>0.88</td>\n",
       "      <td>-0.03</td>\n",
       "      <td>0.47</td>\n",
       "      <td>0.93</td>\n",
       "      <td>1.35</td>\n",
       "    </tr>\n",
       "    <tr>\n",
       "      <th>2024-01-19</th>\n",
       "      <td>1.34</td>\n",
       "      <td>1.23</td>\n",
       "      <td>1.40</td>\n",
       "      <td>-0.48</td>\n",
       "      <td>0.05</td>\n",
       "      <td>1.70</td>\n",
       "    </tr>\n",
       "    <tr>\n",
       "      <th>2024-01-21</th>\n",
       "      <td>0.03</td>\n",
       "      <td>0.03</td>\n",
       "      <td>0.03</td>\n",
       "      <td>0.01</td>\n",
       "      <td>0.00</td>\n",
       "      <td>0.04</td>\n",
       "    </tr>\n",
       "    <tr>\n",
       "      <th>2024-01-22</th>\n",
       "      <td>-0.34</td>\n",
       "      <td>0.22</td>\n",
       "      <td>1.62</td>\n",
       "      <td>-0.33</td>\n",
       "      <td>-1.25</td>\n",
       "      <td>0.32</td>\n",
       "    </tr>\n",
       "    <tr>\n",
       "      <th>2024-01-23</th>\n",
       "      <td>0.58</td>\n",
       "      <td>0.29</td>\n",
       "      <td>-0.08</td>\n",
       "      <td>0.41</td>\n",
       "      <td>1.17</td>\n",
       "      <td>0.43</td>\n",
       "    </tr>\n",
       "  </tbody>\n",
       "</table>\n",
       "<p>7082 rows × 6 columns</p>\n",
       "</div>"
      ],
      "text/plain": [
       "            KOSPI  S&P500  Nikkei  USD/KRW  US10YT  NASDAQ\n",
       "Date                                                      \n",
       "2001-06-11  -2.18   -0.84   -1.52     0.01   -0.86   -2.00\n",
       "2001-06-12  -0.18    0.12   -2.92     0.01   -0.89   -0.04\n",
       "2001-06-13   1.14   -1.13   -0.13     0.01    0.32   -2.23\n",
       "2001-06-14  -0.05   -1.75    0.18     0.01   -0.80   -3.66\n",
       "2001-06-15   0.85   -0.45   -0.44     0.01    0.25   -0.77\n",
       "...           ...     ...     ...      ...     ...     ...\n",
       "2024-01-18   0.17    0.88   -0.03     0.47    0.93    1.35\n",
       "2024-01-19   1.34    1.23    1.40    -0.48    0.05    1.70\n",
       "2024-01-21   0.03    0.03    0.03     0.01    0.00    0.04\n",
       "2024-01-22  -0.34    0.22    1.62    -0.33   -1.25    0.32\n",
       "2024-01-23   0.58    0.29   -0.08     0.41    1.17    0.43\n",
       "\n",
       "[7082 rows x 6 columns]"
      ]
     },
     "execution_count": 110,
     "metadata": {},
     "output_type": "execute_result"
    }
   ],
   "source": [
    "df"
   ]
  },
  {
   "cell_type": "markdown",
   "id": "9b6d2bac-aeb2-4b7d-b99b-c621408b9aad",
   "metadata": {},
   "source": [
    "## K-Mean을 사용한 군집 분류"
   ]
  },
  {
   "cell_type": "code",
   "execution_count": 113,
   "id": "cce08796-6450-4f56-8c5d-f8aa268b0f45",
   "metadata": {
    "tags": []
   },
   "outputs": [],
   "source": [
    "X = df[['S&P500', 'Nikkei', 'USD/KRW', 'US10YT', 'NASDAQ']]\n",
    "y = df['KOSPI']"
   ]
  },
  {
   "cell_type": "code",
   "execution_count": 119,
   "id": "70630781-8fd3-418b-9d5e-92c0164ac49e",
   "metadata": {
    "tags": []
   },
   "outputs": [],
   "source": [
    "import warnings\n",
    "# Ignore all future warnings\n",
    "warnings.simplefilter(action='ignore', category=FutureWarning)\n",
    "\n",
    "inertias = []\n",
    "for k in range(1,10):\n",
    "    model = KMeans(n_clusters=k, random_state=42)\n",
    "    model.fit(X)\n",
    "    inertias.append(model.inertia_)"
   ]
  },
  {
   "cell_type": "code",
   "execution_count": 123,
   "id": "f91e1f12-b950-498f-8a15-c43b67f1645c",
   "metadata": {
    "tags": []
   },
   "outputs": [
    {
     "data": {
      "image/png": "[encoded data removed]",
      "text/plain": [
       "<Figure size 640x480 with 1 Axes>"
      ]
     },
     "metadata": {},
     "output_type": "display_data"
    }
   ],
   "source": [
    "plt.plot(range(1,10), inertias, '-*')\n",
    "plt.xlabel(\"클러스터의 갯수\")\n",
    "plt.ylabel(\"inertias\")\n",
    "plt.xticks(range(1,10))\n",
    "plt.show()\n",
    "# 기울기가 완만해지는 첫번쨰 구간을 잡는다 (3번째 별, k=3)\n",
    "# 분류를 그 갯수 이상 해보았자 차이가 없다"
   ]
  },
  {
   "cell_type": "code",
   "execution_count": 153,
   "id": "f6b98c82-0400-4939-83d5-d08dd3d6b1e7",
   "metadata": {
    "tags": []
   },
   "outputs": [],
   "source": [
    "# k=3\n",
    "kmeans = KMeans(n_clusters=3, random_state=42)\n",
    "kmeans.fit(X)\n",
    "y_kmeans = kmeans.predict(X)"
   ]
  },
  {
   "cell_type": "code",
   "execution_count": 154,
   "id": "aff74574-7502-4969-8a5c-a0dd80000cb4",
   "metadata": {
    "tags": []
   },
   "outputs": [
    {
     "data": {
      "text/plain": [
       "(7082,)"
      ]
     },
     "execution_count": 154,
     "metadata": {},
     "output_type": "execute_result"
    }
   ],
   "source": [
    "# print(list(y_kmeans)) #0,1,2로 이루어진 행렬\n",
    "y_kmeans.shape"
   ]
  },
  {
   "cell_type": "markdown",
   "id": "59d99a8d-8667-42d0-8101-2777f1f2025c",
   "metadata": {},
   "source": [
    "### t-SNE\n",
    "현재 5차원( 5열 ) => 차원 축소 (t-SNE) (2차원~)"
   ]
  },
  {
   "cell_type": "code",
   "execution_count": 155,
   "id": "fe009a76-8632-436b-bc3e-44778ac9686c",
   "metadata": {
    "tags": []
   },
   "outputs": [],
   "source": [
    "from sklearn.manifold import TSNE\n",
    "n_sne = X.shape[0]  #7082\n",
    "tsne = TSNE(n_components=2)\n",
    "tsne_results = tsne.fit_transform(X)"
   ]
  },
  {
   "cell_type": "code",
   "execution_count": 156,
   "id": "8c8817f7-e025-45e1-899f-04e65373673a",
   "metadata": {
    "tags": []
   },
   "outputs": [
    {
     "data": {
      "text/plain": [
       "array([[-39.51434  ,  19.803585 ],\n",
       "       [-23.570822 ,  20.259167 ],\n",
       "       [-48.250286 ,  14.262712 ],\n",
       "       ...,\n",
       "       [ 17.785528 ,  62.85028  ],\n",
       "       [-13.448374 , -45.361664 ],\n",
       "       [ 29.566404 ,   2.1667464]], dtype=float32)"
      ]
     },
     "execution_count": 156,
     "metadata": {},
     "output_type": "execute_result"
    }
   ],
   "source": [
    "tsne_results"
   ]
  },
  {
   "cell_type": "code",
   "execution_count": 157,
   "id": "bd9eb69f-c25f-4d9f-84ee-8418a9e0f428",
   "metadata": {
    "tags": []
   },
   "outputs": [
    {
     "name": "stderr",
     "output_type": "stream",
     "text": [
      "C:\\Users\\user\\anaconda3\\Lib\\site-packages\\seaborn\\relational.py:573: UserWarning: No data for colormapping provided via 'c'. Parameters 'cmap' will be ignored\n",
      "  points = ax.scatter(x=x, y=y, **kws)\n"
     ]
    },
    {
     "data": {
      "text/plain": [
       "<Axes: >"
      ]
     },
     "execution_count": 157,
     "metadata": {},
     "output_type": "execute_result"
    },
    {
     "data": {
      "image/png": "[encoded data removed]",
      "text/plain": [
       "<Figure size 640x480 with 1 Axes>"
      ]
     },
     "metadata": {},
     "output_type": "display_data"
    }
   ],
   "source": [
    "# plt.scatter(tsne_results[:,0], tsne_results[:,1], c=y_kmeans, cmap=\"bwr\" ) 아래가 심미적으로 낫다\n",
    "sns.scatterplot(x=tsne_results[:,0], y=tsne_results[:,1], data=y, hue=y_kmeans,  cmap=\"bar\")"
   ]
  },
  {
   "cell_type": "code",
   "execution_count": 162,
   "id": "56daffe3-4c8c-4ecc-b099-55b75a5df310",
   "metadata": {
    "tags": []
   },
   "outputs": [],
   "source": [
    "df1 = df.copy()\n",
    "df1['cluster'] = y_kmeans\n",
    "cluster_2 = df1[df1['cluster'] == 2]\n",
    "cluster_1 = df1[df1['cluster'] == 1]\n",
    "cluster_0 = df1[df1['cluster'] == 0] # cluster == 0 인 df table"
   ]
  },
  {
   "cell_type": "code",
   "execution_count": 165,
   "id": "af80656b-1782-4e2d-8b44-4595cd268af5",
   "metadata": {
    "tags": []
   },
   "outputs": [
    {
     "data": {
      "text/html": [
       "<div>\n",
       "<style scoped>\n",
       "    .dataframe tbody tr th:only-of-type {\n",
       "        vertical-align: middle;\n",
       "    }\n",
       "\n",
       "    .dataframe tbody tr th {\n",
       "        vertical-align: top;\n",
       "    }\n",
       "\n",
       "    .dataframe thead th {\n",
       "        text-align: right;\n",
       "    }\n",
       "</style>\n",
       "<table border=\"1\" class=\"dataframe\">\n",
       "  <thead>\n",
       "    <tr style=\"text-align: right;\">\n",
       "      <th>cluster</th>\n",
       "      <th>0</th>\n",
       "      <th>1</th>\n",
       "      <th>2</th>\n",
       "    </tr>\n",
       "  </thead>\n",
       "  <tbody>\n",
       "    <tr>\n",
       "      <th>KOSPI</th>\n",
       "      <td>0.076439</td>\n",
       "      <td>0.309715</td>\n",
       "      <td>-0.373436</td>\n",
       "    </tr>\n",
       "    <tr>\n",
       "      <th>S&amp;P500</th>\n",
       "      <td>0.176716</td>\n",
       "      <td>0.709888</td>\n",
       "      <td>-1.124891</td>\n",
       "    </tr>\n",
       "    <tr>\n",
       "      <th>Nikkei</th>\n",
       "      <td>0.073304</td>\n",
       "      <td>0.384608</td>\n",
       "      <td>-0.448645</td>\n",
       "    </tr>\n",
       "    <tr>\n",
       "      <th>USD/KRW</th>\n",
       "      <td>-0.009973</td>\n",
       "      <td>-0.014171</td>\n",
       "      <td>0.094231</td>\n",
       "    </tr>\n",
       "    <tr>\n",
       "      <th>US10YT</th>\n",
       "      <td>-0.029174</td>\n",
       "      <td>3.454832</td>\n",
       "      <td>-2.586405</td>\n",
       "    </tr>\n",
       "    <tr>\n",
       "      <th>NASDAQ</th>\n",
       "      <td>0.219341</td>\n",
       "      <td>0.802136</td>\n",
       "      <td>-1.301145</td>\n",
       "    </tr>\n",
       "    <tr>\n",
       "      <th>return</th>\n",
       "      <td>0.084442</td>\n",
       "      <td>0.941168</td>\n",
       "      <td>-0.956715</td>\n",
       "    </tr>\n",
       "    <tr>\n",
       "      <th>std</th>\n",
       "      <td>0.090114</td>\n",
       "      <td>1.155602</td>\n",
       "      <td>0.866568</td>\n",
       "    </tr>\n",
       "  </tbody>\n",
       "</table>\n",
       "</div>"
      ],
      "text/plain": [
       "cluster         0         1         2\n",
       "KOSPI    0.076439  0.309715 -0.373436\n",
       "S&P500   0.176716  0.709888 -1.124891\n",
       "Nikkei   0.073304  0.384608 -0.448645\n",
       "USD/KRW -0.009973 -0.014171  0.094231\n",
       "US10YT  -0.029174  3.454832 -2.586405\n",
       "NASDAQ   0.219341  0.802136 -1.301145\n",
       "return   0.084442  0.941168 -0.956715\n",
       "std      0.090114  1.155602  0.866568"
      ]
     },
     "execution_count": 165,
     "metadata": {},
     "output_type": "execute_result"
    }
   ],
   "source": [
    "cluster_total = df1.groupby('cluster').mean()    # cluster == * 인 것들의 열의 합평균\n",
    "cluster_total[\"return\"] = cluster_total.T.mean() # 각 (*)합평균들의 행의 합평균 \n",
    "cluster_total[\"std\"] = cluster_total.T.std()     # 각 (*)합평균들의 행의 분산\n",
    "cluster_total = cluster_total.T                  # 그래프 열과 행 바꾸기\n",
    "cluster_total"
   ]
  },
  {
   "cell_type": "markdown",
   "id": "1532f82c-b91e-4342-81bd-2b6bb017c8fe",
   "metadata": {},
   "source": [
    "안정데이터(있는데이터) 불안정데이터(예측 데이터)가 있을시"
   ]
  },
  {
   "cell_type": "markdown",
   "id": "c141bf56-6107-498d-9a29-da0e059fdf1e",
   "metadata": {},
   "source": []
  },
  {
   "cell_type": "code",
   "execution_count": null,
   "id": "af4d3bae-6259-46c7-bbcd-406d602a800c",
   "metadata": {},
   "outputs": [],
   "source": []
  }
 ],
 "metadata": {
  "kernelspec": {
   "display_name": "Python 3 (ipykernel)",
   "language": "python",
   "name": "python3"
  },
  "language_info": {
   "codemirror_mode": {
    "name": "ipython",
    "version": 3
   },
   "file_extension": ".py",
   "mimetype": "text/x-python",
   "name": "python",
   "nbconvert_exporter": "python",
   "pygments_lexer": "ipython3",
   "version": "3.11.5"
  }
 },
 "nbformat": 4,
 "nbformat_minor": 5
}
