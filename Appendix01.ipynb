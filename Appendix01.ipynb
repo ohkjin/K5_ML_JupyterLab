{
 "cells": [
  {
   "cell_type": "markdown",
   "id": "256bd5e0-1cc4-4d46-9d50-35c8709b05d7",
   "metadata": {},
   "source": [
    "# 캘리포니아 집값 예측( 지도학습 )\n",
    "- 캘리포니아의 집 값을 예측하는 회귀 모델을 생성하자\n",
    "1. ~~분류~~ _회귀_\n",
    "2. 전처리(클리닝)\n",
    "    1. 데이터 로드\n",
    "    2. 데이터 확인\n",
    "3. 데이터 나누기\n",
    "    1. 후반 전처리\n",
    "4. Baseline (Linear Modeling)\n",
    "5. 개선"
   ]
  },
  {
   "cell_type": "markdown",
   "id": "d0a207ce-430d-498f-aecd-4a3dde39e46b",
   "metadata": {},
   "source": [
    "## 데이터 로드"
   ]
  },
  {
   "cell_type": "code",
   "execution_count": 36,
   "id": "7e6aaff8-8cd1-4878-9d03-efd6999deb8f",
   "metadata": {
    "tags": []
   },
   "outputs": [],
   "source": [
    "# import를 한곳에 모으는것이 고치기에도 편하고 작업 오버뷰를 대략 알 수 있다\n",
    "# 데이터 처리 및 시각화\n",
    "import numpy as np\n",
    "import pandas as pd\n",
    "import seaborn as sns\n",
    "import matplotlib.pyplot as plt\n",
    "\n",
    "# 왜도 및 데이터의 편증을 해결하기 위해 필요\n",
    "from scipy.stats import skew\n",
    "\n",
    "# 3장 비지도 학습에서의 \"전처리 기법\"\n",
    "from sklearn.preprocessing import LabelEncoder, StandardScaler\n",
    "from sklearn.model_selection import train_test_split\n",
    "\n",
    "from sklearn.neighbors import KNeighborsRegressor\n",
    "from sklearn.linear_model import LinearRegression\n",
    "from sklearn.ensemble import RandomForestRegressor, GradientBoostingRegressor\n",
    "from sklearn.metrics import r2_score, mean_squared_error"
   ]
  },
  {
   "cell_type": "code",
   "execution_count": 2,
   "id": "8b4a7c07-5cd4-413c-8a87-47a2856414ec",
   "metadata": {
    "tags": []
   },
   "outputs": [
    {
     "data": {
      "text/html": [
       "<div>\n",
       "<style scoped>\n",
       "    .dataframe tbody tr th:only-of-type {\n",
       "        vertical-align: middle;\n",
       "    }\n",
       "\n",
       "    .dataframe tbody tr th {\n",
       "        vertical-align: top;\n",
       "    }\n",
       "\n",
       "    .dataframe thead th {\n",
       "        text-align: right;\n",
       "    }\n",
       "</style>\n",
       "<table border=\"1\" class=\"dataframe\">\n",
       "  <thead>\n",
       "    <tr style=\"text-align: right;\">\n",
       "      <th></th>\n",
       "      <th>longitude</th>\n",
       "      <th>latitude</th>\n",
       "      <th>housing_median_age</th>\n",
       "      <th>total_rooms</th>\n",
       "      <th>total_bedrooms</th>\n",
       "      <th>population</th>\n",
       "      <th>households</th>\n",
       "      <th>median_income</th>\n",
       "      <th>median_house_value</th>\n",
       "      <th>ocean_proximity</th>\n",
       "    </tr>\n",
       "  </thead>\n",
       "  <tbody>\n",
       "    <tr>\n",
       "      <th>0</th>\n",
       "      <td>-122.23</td>\n",
       "      <td>37.88</td>\n",
       "      <td>41.0</td>\n",
       "      <td>880.0</td>\n",
       "      <td>129.0</td>\n",
       "      <td>322.0</td>\n",
       "      <td>126.0</td>\n",
       "      <td>8.3252</td>\n",
       "      <td>452600.0</td>\n",
       "      <td>NEAR BAY</td>\n",
       "    </tr>\n",
       "    <tr>\n",
       "      <th>1</th>\n",
       "      <td>-122.22</td>\n",
       "      <td>37.86</td>\n",
       "      <td>21.0</td>\n",
       "      <td>7099.0</td>\n",
       "      <td>1106.0</td>\n",
       "      <td>2401.0</td>\n",
       "      <td>1138.0</td>\n",
       "      <td>8.3014</td>\n",
       "      <td>358500.0</td>\n",
       "      <td>NEAR BAY</td>\n",
       "    </tr>\n",
       "    <tr>\n",
       "      <th>2</th>\n",
       "      <td>-122.24</td>\n",
       "      <td>37.85</td>\n",
       "      <td>52.0</td>\n",
       "      <td>1467.0</td>\n",
       "      <td>190.0</td>\n",
       "      <td>496.0</td>\n",
       "      <td>177.0</td>\n",
       "      <td>7.2574</td>\n",
       "      <td>352100.0</td>\n",
       "      <td>NEAR BAY</td>\n",
       "    </tr>\n",
       "    <tr>\n",
       "      <th>3</th>\n",
       "      <td>-122.25</td>\n",
       "      <td>37.85</td>\n",
       "      <td>52.0</td>\n",
       "      <td>1274.0</td>\n",
       "      <td>235.0</td>\n",
       "      <td>558.0</td>\n",
       "      <td>219.0</td>\n",
       "      <td>5.6431</td>\n",
       "      <td>341300.0</td>\n",
       "      <td>NEAR BAY</td>\n",
       "    </tr>\n",
       "    <tr>\n",
       "      <th>4</th>\n",
       "      <td>-122.25</td>\n",
       "      <td>37.85</td>\n",
       "      <td>52.0</td>\n",
       "      <td>1627.0</td>\n",
       "      <td>280.0</td>\n",
       "      <td>565.0</td>\n",
       "      <td>259.0</td>\n",
       "      <td>3.8462</td>\n",
       "      <td>342200.0</td>\n",
       "      <td>NEAR BAY</td>\n",
       "    </tr>\n",
       "  </tbody>\n",
       "</table>\n",
       "</div>"
      ],
      "text/plain": [
       "   longitude  latitude  housing_median_age  total_rooms  total_bedrooms  \\\n",
       "0    -122.23     37.88                41.0        880.0           129.0   \n",
       "1    -122.22     37.86                21.0       7099.0          1106.0   \n",
       "2    -122.24     37.85                52.0       1467.0           190.0   \n",
       "3    -122.25     37.85                52.0       1274.0           235.0   \n",
       "4    -122.25     37.85                52.0       1627.0           280.0   \n",
       "\n",
       "   population  households  median_income  median_house_value ocean_proximity  \n",
       "0       322.0       126.0         8.3252            452600.0        NEAR BAY  \n",
       "1      2401.0      1138.0         8.3014            358500.0        NEAR BAY  \n",
       "2       496.0       177.0         7.2574            352100.0        NEAR BAY  \n",
       "3       558.0       219.0         5.6431            341300.0        NEAR BAY  \n",
       "4       565.0       259.0         3.8462            342200.0        NEAR BAY  "
      ]
     },
     "execution_count": 2,
     "metadata": {},
     "output_type": "execute_result"
    }
   ],
   "source": [
    "data = pd.read_csv(\"./data/housing.csv\")\n",
    "# pd.read_sql(\"SELECT * FROM...\n",
    "data.head()\n",
    "# drop data such as refresh token or unrelated data"
   ]
  },
  {
   "cell_type": "code",
   "execution_count": 3,
   "id": "7fdf682b-7642-4dad-a460-538fd58d96ab",
   "metadata": {
    "tags": []
   },
   "outputs": [
    {
     "data": {
      "text/plain": [
       "array(['longitude', 'latitude', 'housing_median_age', 'total_rooms',\n",
       "       'total_bedrooms', 'population', 'households', 'median_income',\n",
       "       'median_house_value', 'ocean_proximity'], dtype=object)"
      ]
     },
     "execution_count": 3,
     "metadata": {},
     "output_type": "execute_result"
    }
   ],
   "source": [
    "data.keys()\n",
    "data.columns.values"
   ]
  },
  {
   "cell_type": "code",
   "execution_count": 4,
   "id": "366ac36d-fbbc-4260-a079-eeec5dad572a",
   "metadata": {
    "tags": []
   },
   "outputs": [
    {
     "name": "stdout",
     "output_type": "stream",
     "text": [
      "<class 'pandas.core.frame.DataFrame'>\n",
      "RangeIndex: 20640 entries, 0 to 20639\n",
      "Data columns (total 10 columns):\n",
      " #   Column              Non-Null Count  Dtype  \n",
      "---  ------              --------------  -----  \n",
      " 0   longitude           20640 non-null  float64\n",
      " 1   latitude            20640 non-null  float64\n",
      " 2   housing_median_age  20640 non-null  float64\n",
      " 3   total_rooms         20640 non-null  float64\n",
      " 4   total_bedrooms      20433 non-null  float64\n",
      " 5   population          20640 non-null  float64\n",
      " 6   households          20640 non-null  float64\n",
      " 7   median_income       20640 non-null  float64\n",
      " 8   median_house_value  20640 non-null  float64\n",
      " 9   ocean_proximity     20640 non-null  object \n",
      "dtypes: float64(9), object(1)\n",
      "memory usage: 1.6+ MB\n"
     ]
    }
   ],
   "source": [
    "data.info()"
   ]
  },
  {
   "cell_type": "markdown",
   "id": "1949e204-1bbc-43a0-817d-19a75c2606c6",
   "metadata": {
    "tags": []
   },
   "source": [
    "회귀는 무조건 숫자 , 분류는 String관계 없음 <br>\n",
    "total_bedrooms: 데이타 결측치 <br>\n",
    "ocean_proximity: 숫자화 해야함 <br>"
   ]
  },
  {
   "cell_type": "markdown",
   "id": "1e613e8e-b771-422a-89d3-185faac50106",
   "metadata": {},
   "source": [
    "## 전처리"
   ]
  },
  {
   "cell_type": "code",
   "execution_count": 5,
   "id": "b70a8038-88d5-464e-a2c3-c568605bb3c2",
   "metadata": {
    "tags": []
   },
   "outputs": [],
   "source": [
    "for x in data.total_bedrooms:\n",
    "    if x==0:\n",
    "        print(x)"
   ]
  },
  {
   "cell_type": "markdown",
   "id": "7162a3a9-5989-46ab-b757-4d630e23ac86",
   "metadata": {},
   "source": [
    "### 결측치 채우기"
   ]
  },
  {
   "cell_type": "code",
   "execution_count": 6,
   "id": "b8e655ec-fa9d-47f4-9fe1-b7df3e9d4a86",
   "metadata": {
    "tags": []
   },
   "outputs": [
    {
     "data": {
      "text/plain": [
       "longitude               0\n",
       "latitude                0\n",
       "housing_median_age      0\n",
       "total_rooms             0\n",
       "total_bedrooms        207\n",
       "population              0\n",
       "households              0\n",
       "median_income           0\n",
       "median_house_value      0\n",
       "ocean_proximity         0\n",
       "dtype: int64"
      ]
     },
     "execution_count": 6,
     "metadata": {},
     "output_type": "execute_result"
    }
   ],
   "source": [
    "# null 갯수 체크\n",
    "data.isnull().sum()"
   ]
  },
  {
   "cell_type": "code",
   "execution_count": 7,
   "id": "bc164377-9eac-46df-a9cc-29dece63e472",
   "metadata": {
    "tags": []
   },
   "outputs": [
    {
     "data": {
      "text/html": [
       "<div>\n",
       "<style scoped>\n",
       "    .dataframe tbody tr th:only-of-type {\n",
       "        vertical-align: middle;\n",
       "    }\n",
       "\n",
       "    .dataframe tbody tr th {\n",
       "        vertical-align: top;\n",
       "    }\n",
       "\n",
       "    .dataframe thead th {\n",
       "        text-align: right;\n",
       "    }\n",
       "</style>\n",
       "<table border=\"1\" class=\"dataframe\">\n",
       "  <thead>\n",
       "    <tr style=\"text-align: right;\">\n",
       "      <th></th>\n",
       "      <th>longitude</th>\n",
       "      <th>latitude</th>\n",
       "      <th>housing_median_age</th>\n",
       "      <th>total_rooms</th>\n",
       "      <th>total_bedrooms</th>\n",
       "      <th>population</th>\n",
       "      <th>households</th>\n",
       "      <th>median_income</th>\n",
       "      <th>median_house_value</th>\n",
       "    </tr>\n",
       "  </thead>\n",
       "  <tbody>\n",
       "    <tr>\n",
       "      <th>count</th>\n",
       "      <td>20640.000000</td>\n",
       "      <td>20640.000000</td>\n",
       "      <td>20640.000000</td>\n",
       "      <td>20640.000000</td>\n",
       "      <td>20433.000000</td>\n",
       "      <td>20640.000000</td>\n",
       "      <td>20640.000000</td>\n",
       "      <td>20640.000000</td>\n",
       "      <td>20640.000000</td>\n",
       "    </tr>\n",
       "    <tr>\n",
       "      <th>mean</th>\n",
       "      <td>-119.569704</td>\n",
       "      <td>35.631861</td>\n",
       "      <td>28.639486</td>\n",
       "      <td>2635.763081</td>\n",
       "      <td>537.870553</td>\n",
       "      <td>1425.476744</td>\n",
       "      <td>499.539680</td>\n",
       "      <td>3.870671</td>\n",
       "      <td>206855.816909</td>\n",
       "    </tr>\n",
       "    <tr>\n",
       "      <th>std</th>\n",
       "      <td>2.003532</td>\n",
       "      <td>2.135952</td>\n",
       "      <td>12.585558</td>\n",
       "      <td>2181.615252</td>\n",
       "      <td>421.385070</td>\n",
       "      <td>1132.462122</td>\n",
       "      <td>382.329753</td>\n",
       "      <td>1.899822</td>\n",
       "      <td>115395.615874</td>\n",
       "    </tr>\n",
       "    <tr>\n",
       "      <th>min</th>\n",
       "      <td>-124.350000</td>\n",
       "      <td>32.540000</td>\n",
       "      <td>1.000000</td>\n",
       "      <td>2.000000</td>\n",
       "      <td>1.000000</td>\n",
       "      <td>3.000000</td>\n",
       "      <td>1.000000</td>\n",
       "      <td>0.499900</td>\n",
       "      <td>14999.000000</td>\n",
       "    </tr>\n",
       "    <tr>\n",
       "      <th>25%</th>\n",
       "      <td>-121.800000</td>\n",
       "      <td>33.930000</td>\n",
       "      <td>18.000000</td>\n",
       "      <td>1447.750000</td>\n",
       "      <td>296.000000</td>\n",
       "      <td>787.000000</td>\n",
       "      <td>280.000000</td>\n",
       "      <td>2.563400</td>\n",
       "      <td>119600.000000</td>\n",
       "    </tr>\n",
       "    <tr>\n",
       "      <th>50%</th>\n",
       "      <td>-118.490000</td>\n",
       "      <td>34.260000</td>\n",
       "      <td>29.000000</td>\n",
       "      <td>2127.000000</td>\n",
       "      <td>435.000000</td>\n",
       "      <td>1166.000000</td>\n",
       "      <td>409.000000</td>\n",
       "      <td>3.534800</td>\n",
       "      <td>179700.000000</td>\n",
       "    </tr>\n",
       "    <tr>\n",
       "      <th>75%</th>\n",
       "      <td>-118.010000</td>\n",
       "      <td>37.710000</td>\n",
       "      <td>37.000000</td>\n",
       "      <td>3148.000000</td>\n",
       "      <td>647.000000</td>\n",
       "      <td>1725.000000</td>\n",
       "      <td>605.000000</td>\n",
       "      <td>4.743250</td>\n",
       "      <td>264725.000000</td>\n",
       "    </tr>\n",
       "    <tr>\n",
       "      <th>max</th>\n",
       "      <td>-114.310000</td>\n",
       "      <td>41.950000</td>\n",
       "      <td>52.000000</td>\n",
       "      <td>39320.000000</td>\n",
       "      <td>6445.000000</td>\n",
       "      <td>35682.000000</td>\n",
       "      <td>6082.000000</td>\n",
       "      <td>15.000100</td>\n",
       "      <td>500001.000000</td>\n",
       "    </tr>\n",
       "  </tbody>\n",
       "</table>\n",
       "</div>"
      ],
      "text/plain": [
       "          longitude      latitude  housing_median_age   total_rooms  \\\n",
       "count  20640.000000  20640.000000        20640.000000  20640.000000   \n",
       "mean    -119.569704     35.631861           28.639486   2635.763081   \n",
       "std        2.003532      2.135952           12.585558   2181.615252   \n",
       "min     -124.350000     32.540000            1.000000      2.000000   \n",
       "25%     -121.800000     33.930000           18.000000   1447.750000   \n",
       "50%     -118.490000     34.260000           29.000000   2127.000000   \n",
       "75%     -118.010000     37.710000           37.000000   3148.000000   \n",
       "max     -114.310000     41.950000           52.000000  39320.000000   \n",
       "\n",
       "       total_bedrooms    population    households  median_income  \\\n",
       "count    20433.000000  20640.000000  20640.000000   20640.000000   \n",
       "mean       537.870553   1425.476744    499.539680       3.870671   \n",
       "std        421.385070   1132.462122    382.329753       1.899822   \n",
       "min          1.000000      3.000000      1.000000       0.499900   \n",
       "25%        296.000000    787.000000    280.000000       2.563400   \n",
       "50%        435.000000   1166.000000    409.000000       3.534800   \n",
       "75%        647.000000   1725.000000    605.000000       4.743250   \n",
       "max       6445.000000  35682.000000   6082.000000      15.000100   \n",
       "\n",
       "       median_house_value  \n",
       "count        20640.000000  \n",
       "mean        206855.816909  \n",
       "std         115395.615874  \n",
       "min          14999.000000  \n",
       "25%         119600.000000  \n",
       "50%         179700.000000  \n",
       "75%         264725.000000  \n",
       "max         500001.000000  "
      ]
     },
     "execution_count": 7,
     "metadata": {},
     "output_type": "execute_result"
    }
   ],
   "source": [
    "data.describe()"
   ]
  },
  {
   "cell_type": "code",
   "execution_count": 8,
   "id": "4aaa08d3-2cb7-4466-89bb-9e1c9b1259d6",
   "metadata": {
    "tags": []
   },
   "outputs": [
    {
     "data": {
      "text/plain": [
       "(-5000.0, 20000.0)"
      ]
     },
     "execution_count": 8,
     "metadata": {},
     "output_type": "execute_result"
    },
    {
     "data": {
      "image/png": "[encoded data removed]",
      "text/plain": [
       "<Figure size 1000x600 with 1 Axes>"
      ]
     },
     "metadata": {},
     "output_type": "display_data"
    }
   ],
   "source": [
    "# 어떠한 값으로 채워야하는지 분석을 위한 시각화\n",
    "sns.set(style=\"whitegrid\")\n",
    "plt.figure(figsize=(10,6)) # figure 크기 지정\n",
    "sns.histplot(data[\"total_rooms\"], kde=True, color=\"r\")\n",
    "sns.histplot(data[\"total_bedrooms\"], kde=True, color=\"grey\")\n",
    "plt.xlim(-5000,20000)"
   ]
  },
  {
   "cell_type": "code",
   "execution_count": 9,
   "id": "986a88de-5020-4a4c-9039-670baef70a7d",
   "metadata": {
    "tags": []
   },
   "outputs": [],
   "source": [
    "# null 값 중위값으로 변경: 잘린 데이터가 많은 관계로 평균 사용 불가\n",
    "data[\"total_bedrooms\"].fillna(data[\"total_bedrooms\"].median(), inplace=True)"
   ]
  },
  {
   "cell_type": "code",
   "execution_count": 10,
   "id": "80209186-423c-462e-b193-575f6554fc39",
   "metadata": {
    "tags": []
   },
   "outputs": [
    {
     "data": {
      "text/plain": [
       "longitude             0\n",
       "latitude              0\n",
       "housing_median_age    0\n",
       "total_rooms           0\n",
       "total_bedrooms        0\n",
       "population            0\n",
       "households            0\n",
       "median_income         0\n",
       "median_house_value    0\n",
       "ocean_proximity       0\n",
       "dtype: int64"
      ]
     },
     "execution_count": 10,
     "metadata": {},
     "output_type": "execute_result"
    }
   ],
   "source": [
    "data.isnull().sum()"
   ]
  },
  {
   "cell_type": "code",
   "execution_count": 11,
   "id": "c2f39808-4616-4eb4-b6de-d795ab7aa6aa",
   "metadata": {
    "tags": []
   },
   "outputs": [
    {
     "data": {
      "text/plain": [
       "435.0"
      ]
     },
     "execution_count": 11,
     "metadata": {},
     "output_type": "execute_result"
    }
   ],
   "source": [
    "data[\"total_bedrooms\"].median()"
   ]
  },
  {
   "cell_type": "markdown",
   "id": "79dd57a1-6f70-47fe-a74c-47486b0b96cc",
   "metadata": {},
   "source": [
    "### 데이터 경향 분석"
   ]
  },
  {
   "cell_type": "code",
   "execution_count": 12,
   "id": "193b8d77-454e-4297-9a35-83ec02bdf0f9",
   "metadata": {
    "tags": []
   },
   "outputs": [
    {
     "data": {
      "text/plain": [
       "<Axes: >"
      ]
     },
     "execution_count": 12,
     "metadata": {},
     "output_type": "execute_result"
    },
    {
     "data": {
      "image/png": "[encoded data removed]",
      "text/plain": [
       "<Figure size 2000x1000 with 2 Axes>"
      ]
     },
     "metadata": {},
     "output_type": "display_data"
    }
   ],
   "source": [
    "# 연관 관계\n",
    "plt.figure(figsize=(20,10))\n",
    "sns.heatmap(data.corr(numeric_only=True), annot=True, cmap=\"winter\")"
   ]
  },
  {
   "cell_type": "code",
   "execution_count": 13,
   "id": "f7c28a41-9024-4eed-b548-0fb2e0e141f3",
   "metadata": {
    "tags": []
   },
   "outputs": [
    {
     "data": {
      "text/plain": [
       "<Axes: xlabel='median_house_value', ylabel='Count'>"
      ]
     },
     "execution_count": 13,
     "metadata": {},
     "output_type": "execute_result"
    },
    {
     "data": {
      "image/png": "[encoded data removed]",
      "text/plain": [
       "<Figure size 1000x600 with 1 Axes>"
      ]
     },
     "metadata": {},
     "output_type": "display_data"
    }
   ],
   "source": [
    "# 시각화\n",
    "sns.set(style=\"whitegrid\")\n",
    "plt.figure(figsize=(10,6))\n",
    "sns.histplot(data[\"median_house_value\"], kde=True, color=\"b\")\n"
   ]
  },
  {
   "cell_type": "markdown",
   "id": "2ee759c1-db0c-4179-8db6-a0c630e6351b",
   "metadata": {},
   "source": [
    "두개의 밀집 군단"
   ]
  },
  {
   "cell_type": "code",
   "execution_count": 14,
   "id": "4af86857-bcce-4454-a8a6-8f0dca29227c",
   "metadata": {
    "tags": []
   },
   "outputs": [
    {
     "data": {
      "text/plain": [
       "array([[<Axes: title={'center': 'longitude'}>,\n",
       "        <Axes: title={'center': 'latitude'}>,\n",
       "        <Axes: title={'center': 'housing_median_age'}>],\n",
       "       [<Axes: title={'center': 'total_rooms'}>,\n",
       "        <Axes: title={'center': 'total_bedrooms'}>,\n",
       "        <Axes: title={'center': 'population'}>],\n",
       "       [<Axes: title={'center': 'households'}>,\n",
       "        <Axes: title={'center': 'median_income'}>,\n",
       "        <Axes: title={'center': 'median_house_value'}>]], dtype=object)"
      ]
     },
     "execution_count": 14,
     "metadata": {},
     "output_type": "execute_result"
    },
    {
     "data": {
      "image/png": "[encoded data removed]",
      "text/plain": [
       "<Figure size 2000x1000 with 9 Axes>"
      ]
     },
     "metadata": {},
     "output_type": "display_data"
    }
   ],
   "source": [
    "# 대략의 분포와 경향성 확인\n",
    "data.hist(bins=30, figsize=(20,10))"
   ]
  },
  {
   "cell_type": "markdown",
   "id": "5fec40b2-be4d-4e89-bb8b-f52ebd6812c8",
   "metadata": {},
   "source": [
    "#### 데이터 분석 결과\n",
    "- 데이터의 왜도가 심함\n",
    "- 집값과 소득의 상관관계가 높음"
   ]
  },
  {
   "cell_type": "markdown",
   "id": "ec225cf4-51a8-47d8-9570-c5132ceebdfc",
   "metadata": {},
   "source": [
    "### 범주형 데이터 확인\n",
    "숫자로 측정하고 표시하는 것이 불가능한 자료"
   ]
  },
  {
   "cell_type": "code",
   "execution_count": 15,
   "id": "7ed81f6c-c6be-4858-95a8-23c610f95e95",
   "metadata": {
    "tags": []
   },
   "outputs": [
    {
     "data": {
      "text/plain": [
       "<Axes: xlabel='ocean_proximity', ylabel='count'>"
      ]
     },
     "execution_count": 15,
     "metadata": {},
     "output_type": "execute_result"
    },
    {
     "data": {
      "image/png": "[encoded data removed]",
      "text/plain": [
       "<Figure size 640x480 with 1 Axes>"
      ]
     },
     "metadata": {},
     "output_type": "display_data"
    }
   ],
   "source": [
    "sns.countplot( x = data[\"ocean_proximity\"])"
   ]
  },
  {
   "cell_type": "markdown",
   "id": "48b54c06-3e3f-413f-8b28-4277fb243965",
   "metadata": {},
   "source": [
    "## 특성 공학"
   ]
  },
  {
   "cell_type": "code",
   "execution_count": 16,
   "id": "78676703-fbdf-4b33-887c-5d8881b62b04",
   "metadata": {
    "tags": []
   },
   "outputs": [],
   "source": [
    "data[\"bed_per_room\"] = data[\"total_bedrooms\"]/data[\"total_rooms\"]"
   ]
  },
  {
   "cell_type": "code",
   "execution_count": 17,
   "id": "eb8e1835-7f4e-400e-acd8-c1a6ccb14ff1",
   "metadata": {
    "tags": []
   },
   "outputs": [
    {
     "data": {
      "text/html": [
       "<div>\n",
       "<style scoped>\n",
       "    .dataframe tbody tr th:only-of-type {\n",
       "        vertical-align: middle;\n",
       "    }\n",
       "\n",
       "    .dataframe tbody tr th {\n",
       "        vertical-align: top;\n",
       "    }\n",
       "\n",
       "    .dataframe thead th {\n",
       "        text-align: right;\n",
       "    }\n",
       "</style>\n",
       "<table border=\"1\" class=\"dataframe\">\n",
       "  <thead>\n",
       "    <tr style=\"text-align: right;\">\n",
       "      <th></th>\n",
       "      <th>longitude</th>\n",
       "      <th>latitude</th>\n",
       "      <th>housing_median_age</th>\n",
       "      <th>total_rooms</th>\n",
       "      <th>total_bedrooms</th>\n",
       "      <th>population</th>\n",
       "      <th>households</th>\n",
       "      <th>median_income</th>\n",
       "      <th>median_house_value</th>\n",
       "      <th>ocean_proximity</th>\n",
       "      <th>bed_per_room</th>\n",
       "    </tr>\n",
       "  </thead>\n",
       "  <tbody>\n",
       "    <tr>\n",
       "      <th>0</th>\n",
       "      <td>-122.23</td>\n",
       "      <td>37.88</td>\n",
       "      <td>41.0</td>\n",
       "      <td>880.0</td>\n",
       "      <td>129.0</td>\n",
       "      <td>322.0</td>\n",
       "      <td>126.0</td>\n",
       "      <td>8.3252</td>\n",
       "      <td>452600.0</td>\n",
       "      <td>NEAR BAY</td>\n",
       "      <td>0.146591</td>\n",
       "    </tr>\n",
       "    <tr>\n",
       "      <th>1</th>\n",
       "      <td>-122.22</td>\n",
       "      <td>37.86</td>\n",
       "      <td>21.0</td>\n",
       "      <td>7099.0</td>\n",
       "      <td>1106.0</td>\n",
       "      <td>2401.0</td>\n",
       "      <td>1138.0</td>\n",
       "      <td>8.3014</td>\n",
       "      <td>358500.0</td>\n",
       "      <td>NEAR BAY</td>\n",
       "      <td>0.155797</td>\n",
       "    </tr>\n",
       "    <tr>\n",
       "      <th>2</th>\n",
       "      <td>-122.24</td>\n",
       "      <td>37.85</td>\n",
       "      <td>52.0</td>\n",
       "      <td>1467.0</td>\n",
       "      <td>190.0</td>\n",
       "      <td>496.0</td>\n",
       "      <td>177.0</td>\n",
       "      <td>7.2574</td>\n",
       "      <td>352100.0</td>\n",
       "      <td>NEAR BAY</td>\n",
       "      <td>0.129516</td>\n",
       "    </tr>\n",
       "    <tr>\n",
       "      <th>3</th>\n",
       "      <td>-122.25</td>\n",
       "      <td>37.85</td>\n",
       "      <td>52.0</td>\n",
       "      <td>1274.0</td>\n",
       "      <td>235.0</td>\n",
       "      <td>558.0</td>\n",
       "      <td>219.0</td>\n",
       "      <td>5.6431</td>\n",
       "      <td>341300.0</td>\n",
       "      <td>NEAR BAY</td>\n",
       "      <td>0.184458</td>\n",
       "    </tr>\n",
       "    <tr>\n",
       "      <th>4</th>\n",
       "      <td>-122.25</td>\n",
       "      <td>37.85</td>\n",
       "      <td>52.0</td>\n",
       "      <td>1627.0</td>\n",
       "      <td>280.0</td>\n",
       "      <td>565.0</td>\n",
       "      <td>259.0</td>\n",
       "      <td>3.8462</td>\n",
       "      <td>342200.0</td>\n",
       "      <td>NEAR BAY</td>\n",
       "      <td>0.172096</td>\n",
       "    </tr>\n",
       "  </tbody>\n",
       "</table>\n",
       "</div>"
      ],
      "text/plain": [
       "   longitude  latitude  housing_median_age  total_rooms  total_bedrooms  \\\n",
       "0    -122.23     37.88                41.0        880.0           129.0   \n",
       "1    -122.22     37.86                21.0       7099.0          1106.0   \n",
       "2    -122.24     37.85                52.0       1467.0           190.0   \n",
       "3    -122.25     37.85                52.0       1274.0           235.0   \n",
       "4    -122.25     37.85                52.0       1627.0           280.0   \n",
       "\n",
       "   population  households  median_income  median_house_value ocean_proximity  \\\n",
       "0       322.0       126.0         8.3252            452600.0        NEAR BAY   \n",
       "1      2401.0      1138.0         8.3014            358500.0        NEAR BAY   \n",
       "2       496.0       177.0         7.2574            352100.0        NEAR BAY   \n",
       "3       558.0       219.0         5.6431            341300.0        NEAR BAY   \n",
       "4       565.0       259.0         3.8462            342200.0        NEAR BAY   \n",
       "\n",
       "   bed_per_room  \n",
       "0      0.146591  \n",
       "1      0.155797  \n",
       "2      0.129516  \n",
       "3      0.184458  \n",
       "4      0.172096  "
      ]
     },
     "execution_count": 17,
     "metadata": {},
     "output_type": "execute_result"
    }
   ],
   "source": [
    "data.head()"
   ]
  },
  {
   "cell_type": "markdown",
   "id": "60d32790-a41f-41ae-94d7-c219ba4422ad",
   "metadata": {},
   "source": [
    "### 데이터 나누기"
   ]
  },
  {
   "cell_type": "code",
   "execution_count": 18,
   "id": "4f9b5b14-cdd7-4742-a857-57f086e2376d",
   "metadata": {
    "tags": []
   },
   "outputs": [],
   "source": [
    "X = data.drop([\"median_house_value\"],axis=1)\n",
    "# 아래에서 log scale을 사용하려면 target 값도 log scale로 치환해줘야한다\n",
    "y = np.log(data[\"median_house_value\"])"
   ]
  },
  {
   "cell_type": "markdown",
   "id": "e94c5b88-44be-4607-bceb-0d9abb8a4a5c",
   "metadata": {},
   "source": [
    "#### 데이터 왜도가 심할떄"
   ]
  },
  {
   "cell_type": "code",
   "execution_count": 19,
   "id": "3c364f66-3cb9-4499-b121-1741e3c07200",
   "metadata": {
    "tags": []
   },
   "outputs": [],
   "source": [
    "#from scipy.stats import skew : 왜도를 구해줌\n",
    "#숫자로 된 값만 가져와서 column 명을 Features로\n",
    "skew_df = pd.DataFrame(X.select_dtypes(np.number).columns, columns=[\"Features\"])\n",
    "#skew_df의 Features항의 X값들의 왜도를 구해서 Skew 밑에 저장\n",
    "skew_df[\"Skew\"] = skew_df[\"Features\"].apply(lambda features: skew(X[features]))\n",
    "skew_df[\"Abs_Skew\"] = skew_df[\"Skew\"].apply(abs)\n",
    "# 왜도인지 아닌지 판명\n",
    "skew_df[\"Skewd\"] = skew_df[\"Abs_Skew\"].apply(lambda X: True if X>0.5 else False)"
   ]
  },
  {
   "cell_type": "code",
   "execution_count": 20,
   "id": "4596a5be-9d02-4bc7-b554-b5bc7309fb78",
   "metadata": {
    "tags": []
   },
   "outputs": [
    {
     "data": {
      "text/plain": [
       "array(['total_rooms', 'total_bedrooms', 'population', 'households',\n",
       "       'median_income', 'bed_per_room'], dtype=object)"
      ]
     },
     "execution_count": 20,
     "metadata": {},
     "output_type": "execute_result"
    }
   ],
   "source": [
    "skew_columns = skew_df[skew_df[\"Abs_Skew\"]>0.5][\"Features\"].values\n",
    "skew_columns"
   ]
  },
  {
   "cell_type": "code",
   "execution_count": 21,
   "id": "598bac41-2cb7-4622-a066-d84b185015c9",
   "metadata": {
    "tags": []
   },
   "outputs": [],
   "source": [
    "# 아래에서 log scale을 사용하려면 target 값도 log scale로 치환해줘야한다\n",
    "for column in skew_columns:\n",
    "    X[column] = np.log(X[column])"
   ]
  },
  {
   "cell_type": "code",
   "execution_count": 22,
   "id": "4b5f8be7-2d48-4395-8cf0-7c7c98d7a0f9",
   "metadata": {
    "tags": []
   },
   "outputs": [
    {
     "data": {
      "text/html": [
       "<div>\n",
       "<style scoped>\n",
       "    .dataframe tbody tr th:only-of-type {\n",
       "        vertical-align: middle;\n",
       "    }\n",
       "\n",
       "    .dataframe tbody tr th {\n",
       "        vertical-align: top;\n",
       "    }\n",
       "\n",
       "    .dataframe thead th {\n",
       "        text-align: right;\n",
       "    }\n",
       "</style>\n",
       "<table border=\"1\" class=\"dataframe\">\n",
       "  <thead>\n",
       "    <tr style=\"text-align: right;\">\n",
       "      <th></th>\n",
       "      <th>Features</th>\n",
       "      <th>Skew</th>\n",
       "      <th>Abs_Skew</th>\n",
       "      <th>Skewd</th>\n",
       "    </tr>\n",
       "  </thead>\n",
       "  <tbody>\n",
       "    <tr>\n",
       "      <th>0</th>\n",
       "      <td>longitude</td>\n",
       "      <td>-0.297780</td>\n",
       "      <td>0.297780</td>\n",
       "      <td>False</td>\n",
       "    </tr>\n",
       "    <tr>\n",
       "      <th>1</th>\n",
       "      <td>latitude</td>\n",
       "      <td>0.465919</td>\n",
       "      <td>0.465919</td>\n",
       "      <td>False</td>\n",
       "    </tr>\n",
       "    <tr>\n",
       "      <th>2</th>\n",
       "      <td>housing_median_age</td>\n",
       "      <td>0.060326</td>\n",
       "      <td>0.060326</td>\n",
       "      <td>False</td>\n",
       "    </tr>\n",
       "    <tr>\n",
       "      <th>3</th>\n",
       "      <td>total_rooms</td>\n",
       "      <td>4.147042</td>\n",
       "      <td>4.147042</td>\n",
       "      <td>True</td>\n",
       "    </tr>\n",
       "    <tr>\n",
       "      <th>4</th>\n",
       "      <td>total_bedrooms</td>\n",
       "      <td>3.480888</td>\n",
       "      <td>3.480888</td>\n",
       "      <td>True</td>\n",
       "    </tr>\n",
       "    <tr>\n",
       "      <th>5</th>\n",
       "      <td>population</td>\n",
       "      <td>4.935500</td>\n",
       "      <td>4.935500</td>\n",
       "      <td>True</td>\n",
       "    </tr>\n",
       "    <tr>\n",
       "      <th>6</th>\n",
       "      <td>households</td>\n",
       "      <td>3.410190</td>\n",
       "      <td>3.410190</td>\n",
       "      <td>True</td>\n",
       "    </tr>\n",
       "    <tr>\n",
       "      <th>7</th>\n",
       "      <td>median_income</td>\n",
       "      <td>1.646537</td>\n",
       "      <td>1.646537</td>\n",
       "      <td>True</td>\n",
       "    </tr>\n",
       "    <tr>\n",
       "      <th>8</th>\n",
       "      <td>bed_per_room</td>\n",
       "      <td>6.316445</td>\n",
       "      <td>6.316445</td>\n",
       "      <td>True</td>\n",
       "    </tr>\n",
       "  </tbody>\n",
       "</table>\n",
       "</div>"
      ],
      "text/plain": [
       "             Features      Skew  Abs_Skew  Skewd\n",
       "0           longitude -0.297780  0.297780  False\n",
       "1            latitude  0.465919  0.465919  False\n",
       "2  housing_median_age  0.060326  0.060326  False\n",
       "3         total_rooms  4.147042  4.147042   True\n",
       "4      total_bedrooms  3.480888  3.480888   True\n",
       "5          population  4.935500  4.935500   True\n",
       "6          households  3.410190  3.410190   True\n",
       "7       median_income  1.646537  1.646537   True\n",
       "8        bed_per_room  6.316445  6.316445   True"
      ]
     },
     "execution_count": 22,
     "metadata": {},
     "output_type": "execute_result"
    }
   ],
   "source": [
    "skew_df"
   ]
  },
  {
   "cell_type": "markdown",
   "id": "06818f20-a66b-480c-a9e2-f03d63483dcd",
   "metadata": {
    "tags": []
   },
   "source": [
    "#### Encoding"
   ]
  },
  {
   "cell_type": "code",
   "execution_count": 26,
   "id": "d4b97f5e-9426-446c-a9cf-353de7e90155",
   "metadata": {
    "tags": []
   },
   "outputs": [],
   "source": [
    "# 범주에 있는 Object를 숫자로 치환\n",
    "encoder = LabelEncoder()\n",
    "X[\"ocean_proximity\"] = encoder.fit_transform(X[\"ocean_proximity\"])"
   ]
  },
  {
   "cell_type": "code",
   "execution_count": 27,
   "id": "f863ff60-9e7f-46b4-9f4a-9316c70bea0a",
   "metadata": {
    "tags": []
   },
   "outputs": [
    {
     "data": {
      "text/html": [
       "<div>\n",
       "<style scoped>\n",
       "    .dataframe tbody tr th:only-of-type {\n",
       "        vertical-align: middle;\n",
       "    }\n",
       "\n",
       "    .dataframe tbody tr th {\n",
       "        vertical-align: top;\n",
       "    }\n",
       "\n",
       "    .dataframe thead th {\n",
       "        text-align: right;\n",
       "    }\n",
       "</style>\n",
       "<table border=\"1\" class=\"dataframe\">\n",
       "  <thead>\n",
       "    <tr style=\"text-align: right;\">\n",
       "      <th></th>\n",
       "      <th>longitude</th>\n",
       "      <th>latitude</th>\n",
       "      <th>housing_median_age</th>\n",
       "      <th>total_rooms</th>\n",
       "      <th>total_bedrooms</th>\n",
       "      <th>population</th>\n",
       "      <th>households</th>\n",
       "      <th>median_income</th>\n",
       "      <th>ocean_proximity</th>\n",
       "      <th>bed_per_room</th>\n",
       "    </tr>\n",
       "  </thead>\n",
       "  <tbody>\n",
       "    <tr>\n",
       "      <th>0</th>\n",
       "      <td>-122.23</td>\n",
       "      <td>37.88</td>\n",
       "      <td>41.0</td>\n",
       "      <td>6.779922</td>\n",
       "      <td>4.859812</td>\n",
       "      <td>5.774552</td>\n",
       "      <td>4.836282</td>\n",
       "      <td>2.119287</td>\n",
       "      <td>3</td>\n",
       "      <td>-1.920110</td>\n",
       "    </tr>\n",
       "    <tr>\n",
       "      <th>1</th>\n",
       "      <td>-122.22</td>\n",
       "      <td>37.86</td>\n",
       "      <td>21.0</td>\n",
       "      <td>8.867709</td>\n",
       "      <td>7.008505</td>\n",
       "      <td>7.783641</td>\n",
       "      <td>7.037028</td>\n",
       "      <td>2.116424</td>\n",
       "      <td>3</td>\n",
       "      <td>-1.859204</td>\n",
       "    </tr>\n",
       "    <tr>\n",
       "      <th>2</th>\n",
       "      <td>-122.24</td>\n",
       "      <td>37.85</td>\n",
       "      <td>52.0</td>\n",
       "      <td>7.290975</td>\n",
       "      <td>5.247024</td>\n",
       "      <td>6.206576</td>\n",
       "      <td>5.176150</td>\n",
       "      <td>1.982022</td>\n",
       "      <td>3</td>\n",
       "      <td>-2.043951</td>\n",
       "    </tr>\n",
       "    <tr>\n",
       "      <th>3</th>\n",
       "      <td>-122.25</td>\n",
       "      <td>37.85</td>\n",
       "      <td>52.0</td>\n",
       "      <td>7.149917</td>\n",
       "      <td>5.459586</td>\n",
       "      <td>6.324359</td>\n",
       "      <td>5.389072</td>\n",
       "      <td>1.730434</td>\n",
       "      <td>3</td>\n",
       "      <td>-1.690331</td>\n",
       "    </tr>\n",
       "    <tr>\n",
       "      <th>4</th>\n",
       "      <td>-122.25</td>\n",
       "      <td>37.85</td>\n",
       "      <td>52.0</td>\n",
       "      <td>7.394493</td>\n",
       "      <td>5.634790</td>\n",
       "      <td>6.336826</td>\n",
       "      <td>5.556828</td>\n",
       "      <td>1.347086</td>\n",
       "      <td>3</td>\n",
       "      <td>-1.759704</td>\n",
       "    </tr>\n",
       "  </tbody>\n",
       "</table>\n",
       "</div>"
      ],
      "text/plain": [
       "   longitude  latitude  housing_median_age  total_rooms  total_bedrooms  \\\n",
       "0    -122.23     37.88                41.0     6.779922        4.859812   \n",
       "1    -122.22     37.86                21.0     8.867709        7.008505   \n",
       "2    -122.24     37.85                52.0     7.290975        5.247024   \n",
       "3    -122.25     37.85                52.0     7.149917        5.459586   \n",
       "4    -122.25     37.85                52.0     7.394493        5.634790   \n",
       "\n",
       "   population  households  median_income  ocean_proximity  bed_per_room  \n",
       "0    5.774552    4.836282       2.119287                3     -1.920110  \n",
       "1    7.783641    7.037028       2.116424                3     -1.859204  \n",
       "2    6.206576    5.176150       1.982022                3     -2.043951  \n",
       "3    6.324359    5.389072       1.730434                3     -1.690331  \n",
       "4    6.336826    5.556828       1.347086                3     -1.759704  "
      ]
     },
     "execution_count": 27,
     "metadata": {},
     "output_type": "execute_result"
    }
   ],
   "source": [
    "X.head()"
   ]
  },
  {
   "cell_type": "code",
   "execution_count": 31,
   "id": "f42ccf46-ab39-42ba-892d-b1b33325a50d",
   "metadata": {
    "tags": []
   },
   "outputs": [],
   "source": [
    "scaler = StandardScaler() # 컬럼 당 minmax 가 다 다름\n",
    "scaler.fit(X)\n",
    "X = pd.DataFrame(scaler.transform(X), index = X.index, columns= X.columns)"
   ]
  },
  {
   "cell_type": "code",
   "execution_count": 34,
   "id": "d43a408d-5892-42de-8d2d-5001e06ce25c",
   "metadata": {
    "tags": []
   },
   "outputs": [
    {
     "name": "stdout",
     "output_type": "stream",
     "text": [
      "       longitude  latitude  housing_median_age  total_rooms  total_bedrooms  \\\n",
      "14196   1.267645 -1.367976            0.346478     0.557448        0.534421   \n",
      "8267    0.703627 -0.871699            1.617807     0.662187        0.846155   \n",
      "17445  -0.454356 -0.455012           -1.957806    -0.107181       -0.341781   \n",
      "14265   1.227714 -1.377340            0.584852    -0.491620       -0.200175   \n",
      "2271   -0.114948  0.537543            1.141059     0.195762        0.020301   \n",
      "...          ...       ...                 ...          ...             ...   \n",
      "11284   0.803453 -0.867017            0.505394    -0.579684       -1.025942   \n",
      "11964   1.067992 -0.754652            0.346478     0.539449        0.403696   \n",
      "5390    0.593818 -0.749970            0.584852     0.028731        0.401287   \n",
      "860    -1.193070  0.912092           -1.083767     0.736035        0.467173   \n",
      "15795  -1.422670  1.001048            1.856182     0.958639        1.550273   \n",
      "\n",
      "       population  households  median_income  ocean_proximity  bed_per_room  \n",
      "14196    0.970267    0.618974      -0.133563         1.995003     -0.115425  \n",
      "8267     0.212206    0.882932       0.199345         1.995003      0.469996  \n",
      "17445   -0.277847   -0.223305       0.382797         1.995003     -0.664511  \n",
      "14265    0.315349   -0.148267      -1.233399         1.995003      0.880744  \n",
      "2271    -0.339923   -0.055432       0.050282        -0.116739     -0.521384  \n",
      "...           ...         ...            ...              ...           ...  \n",
      "11284   -0.724314   -0.819734       1.290014        -0.820653     -1.230821  \n",
      "11964    0.602524    0.172180      -0.274781        -0.116739     -0.437685  \n",
      "5390     0.604840    0.390688      -0.356879        -0.820653      1.067779  \n",
      "860      0.620937    0.471103       1.061028        -0.820653     -0.837467  \n",
      "15795    1.146141    1.560150      -0.634073         1.291089      1.614980  \n",
      "\n",
      "[16512 rows x 10 columns]        longitude  latitude  housing_median_age  total_rooms  total_bedrooms  \\\n",
      "20046   0.279366  0.200449           -0.289187    -0.415198        0.032972   \n",
      "3024    0.054757 -0.230283            0.108104     0.477178        0.032972   \n",
      "15663  -1.432653  1.015093            1.856182     0.827715        0.032972   \n",
      "20484   0.424114 -0.632923           -0.924851     0.525134        0.032972   \n",
      "9814   -1.178096  0.462633            0.425936     0.178331        0.032972   \n",
      "...          ...       ...                 ...          ...             ...   \n",
      "15362   1.172810 -1.063655           -1.004309     0.573947        0.173693   \n",
      "16623  -0.629052 -0.127282           -0.050812     0.988836        1.008672   \n",
      "18086  -1.237992  0.785682           -0.289187     0.921927        0.324449   \n",
      "2144   -0.094982  0.532861            0.584852     0.263819        0.127390   \n",
      "3665    0.598809 -0.661015           -0.924851    -0.186667        0.118532   \n",
      "\n",
      "       population  households  median_income  ocean_proximity  bed_per_room  \n",
      "20046    0.290290   -0.132983      -1.540359        -0.116739      1.324245  \n",
      "3024     0.448913    0.530787      -0.670854        -0.116739     -1.318336  \n",
      "15663    0.208078    1.213074       0.005516         1.291089     -2.356378  \n",
      "20484    0.564930    0.305233       1.067853        -0.820653     -1.460348  \n",
      "9814    -0.074834    0.106837       0.150012         1.995003     -0.433365  \n",
      "...           ...         ...            ...              ...           ...  \n",
      "15362    0.249808    0.181265       0.600622        -0.820653     -1.200618  \n",
      "16623    0.520530    0.787654      -0.512937         1.995003     -0.030411  \n",
      "18086    0.466108    0.492892       2.077955        -0.820653     -1.797979  \n",
      "2144     0.119446    0.246096      -0.467908        -0.116739     -0.415264  \n",
      "3665     0.537655    0.169139       0.049027        -0.820653      0.893305  \n",
      "\n",
      "[4128 rows x 10 columns] 14196    11.542484\n",
      "8267     12.853438\n",
      "17445    12.058732\n",
      "14265    11.444647\n",
      "2271     11.477298\n",
      "           ...    \n",
      "11284    12.342350\n",
      "11964    11.490680\n",
      "5390     12.310883\n",
      "860      12.554967\n",
      "15795    12.691580\n",
      "Name: median_house_value, Length: 16512, dtype: float64 20046    10.772687\n",
      "3024     10.732039\n",
      "15663    13.122365\n",
      "20484    12.294999\n",
      "9814     12.535376\n",
      "           ...    \n",
      "15362    12.481049\n",
      "16623    12.494255\n",
      "18086    13.122365\n",
      "2144     11.188579\n",
      "3665     11.928341\n",
      "Name: median_house_value, Length: 4128, dtype: float64\n"
     ]
    }
   ],
   "source": [
    "X_train, X_test, y_train, y_test = train_test_split(X, y, test_size = 0.2, random_state=42)\n",
    "print(X_train, X_test, y_train, y_test)"
   ]
  },
  {
   "cell_type": "markdown",
   "id": "5d5465e6-4ef7-4541-b818-8e9174e5d7e3",
   "metadata": {
    "tags": []
   },
   "source": [
    "## 모델 생성\n",
    "rmse는 낮을수록 좋고 r2는 높을수록 좋다"
   ]
  },
  {
   "cell_type": "markdown",
   "id": "15e5e924-b1c9-4a0e-80ba-3800e07dee3e",
   "metadata": {},
   "source": [
    "### 선형모델"
   ]
  },
  {
   "cell_type": "code",
   "execution_count": 37,
   "id": "742529da-00c2-4712-9ded-6f4dea2efc2e",
   "metadata": {
    "tags": []
   },
   "outputs": [],
   "source": [
    "lr = LinearRegression()\n",
    "lr.fit(X_train, y_train)\n",
    "predictions_lr = lr.predict(X_test)"
   ]
  },
  {
   "cell_type": "code",
   "execution_count": 38,
   "id": "f642a6ac-32dd-4b0b-9fb3-0177e4f030f7",
   "metadata": {
    "tags": []
   },
   "outputs": [
    {
     "name": "stdout",
     "output_type": "stream",
     "text": [
      "0.3444308549750826 0.6344883264077854\n"
     ]
    }
   ],
   "source": [
    "rmse = np.sqrt(mean_squared_error(y_test,predictions_lr))\n",
    "r2 = r2_score(y_test,predictions_lr)\n",
    "print(rmse,r2)"
   ]
  },
  {
   "cell_type": "markdown",
   "id": "2019b119-088b-461d-bbb5-44a097054de0",
   "metadata": {},
   "source": [
    "### KNN"
   ]
  },
  {
   "cell_type": "code",
   "execution_count": 39,
   "id": "4fe5cb35-ff96-4fa7-bf6f-82da8df6a0bb",
   "metadata": {
    "tags": []
   },
   "outputs": [],
   "source": [
    "knn = KNeighborsRegressor()\n",
    "knn.fit(X_train, y_train)\n",
    "predictions_knn = knn.predict(X_test)"
   ]
  },
  {
   "cell_type": "code",
   "execution_count": 40,
   "id": "82c5478b-3273-4f31-8e80-1d27f0d1b242",
   "metadata": {
    "tags": []
   },
   "outputs": [
    {
     "name": "stdout",
     "output_type": "stream",
     "text": [
      "0.29601285396707333 0.7300282680211424\n"
     ]
    }
   ],
   "source": [
    "rmse = np.sqrt(mean_squared_error(y_test,predictions_knn))\n",
    "r2 = r2_score(y_test,predictions_knn)\n",
    "print(rmse,r2)"
   ]
  },
  {
   "cell_type": "markdown",
   "id": "15d02d62-e6a0-4603-bca0-bf886058b0b4",
   "metadata": {},
   "source": [
    "### RandomForest"
   ]
  },
  {
   "cell_type": "code",
   "execution_count": 41,
   "id": "5be22f4b-e965-44e4-a458-48433f88a726",
   "metadata": {
    "tags": []
   },
   "outputs": [],
   "source": [
    "rf = RandomForestRegressor()\n",
    "rf.fit(X_train, y_train)\n",
    "predictions_rf = rf.predict(X_test)"
   ]
  },
  {
   "cell_type": "code",
   "execution_count": 42,
   "id": "6b37be5a-4df1-403f-b997-f77b824b200c",
   "metadata": {
    "tags": []
   },
   "outputs": [
    {
     "name": "stdout",
     "output_type": "stream",
     "text": [
      "0.23354930181092184 0.8319438929450302\n"
     ]
    }
   ],
   "source": [
    "rmse = np.sqrt(mean_squared_error(y_test,predictions_rf))\n",
    "r2 = r2_score(y_test,predictions_rf)\n",
    "print(rmse,r2)"
   ]
  },
  {
   "cell_type": "code",
   "execution_count": 45,
   "id": "3bfe9971-638c-4b70-8fa8-fca9c8cc058e",
   "metadata": {
    "tags": []
   },
   "outputs": [
    {
     "name": "stdout",
     "output_type": "stream",
     "text": [
      "0.23375158672383123 0.8316526487673266\n"
     ]
    }
   ],
   "source": [
    "rf = RandomForestRegressor(n_estimators=100)\n",
    "rf.fit(X_train, y_train)\n",
    "predictions_rf = rf.predict(X_test)\n",
    "rmse = np.sqrt(mean_squared_error(y_test,predictions_rf))\n",
    "r2 = r2_score(y_test,predictions_rf)\n",
    "print(rmse,r2)"
   ]
  },
  {
   "cell_type": "markdown",
   "id": "53f92ac2-1577-4d87-ae17-74cfae4ece41",
   "metadata": {},
   "source": [
    "### GradientBoostingRegressor"
   ]
  },
  {
   "cell_type": "code",
   "execution_count": 43,
   "id": "f030f5da-a942-49da-9cd3-139ed227e795",
   "metadata": {
    "tags": []
   },
   "outputs": [],
   "source": [
    "gbr = GradientBoostingRegressor()\n",
    "gbr.fit(X_train, y_train)\n",
    "predictions_gbr = gbr.predict(X_test)"
   ]
  },
  {
   "cell_type": "code",
   "execution_count": 44,
   "id": "9556bc00-0dea-4587-90eb-98a7877d542e",
   "metadata": {
    "tags": []
   },
   "outputs": [
    {
     "name": "stdout",
     "output_type": "stream",
     "text": [
      "0.26771076075476546 0.7791848794474099\n"
     ]
    }
   ],
   "source": [
    "rmse = np.sqrt(mean_squared_error(y_test,predictions_gbr))\n",
    "r2 = r2_score(y_test,predictions_gbr)\n",
    "print(rmse,r2)"
   ]
  },
  {
   "cell_type": "markdown",
   "id": "64c7f02e-bf23-48c2-95d4-c7f43a5a9a69",
   "metadata": {},
   "source": [
    "### 유행 모델"
   ]
  },
  {
   "cell_type": "markdown",
   "id": "13f053e2-d767-41ac-a9c3-dfa72e8c5b64",
   "metadata": {
    "tags": []
   },
   "source": [
    "#### CatBoost"
   ]
  },
  {
   "cell_type": "code",
   "execution_count": 48,
   "id": "977558f0-7a36-4d2b-af84-33211c20f29a",
   "metadata": {
    "tags": []
   },
   "outputs": [],
   "source": [
    "# !pip install catboost xgboost lightgbm"
   ]
  },
  {
   "cell_type": "code",
   "execution_count": 49,
   "id": "7c17f753-ebf0-4ea8-9585-a7a319ed3918",
   "metadata": {
    "tags": []
   },
   "outputs": [],
   "source": [
    "from catboost import CatBoostRegressor"
   ]
  },
  {
   "cell_type": "code",
   "execution_count": 51,
   "id": "097498d3-d36e-4b96-b411-d7e423dccdbc",
   "metadata": {
    "scrolled": true,
    "tags": []
   },
   "outputs": [
    {
     "name": "stdout",
     "output_type": "stream",
     "text": [
      "Learning rate set to 0.063766\n",
      "0:\tlearn: 0.5477066\ttotal: 2.78ms\tremaining: 2.78s\n",
      "1:\tlearn: 0.5272182\ttotal: 5.3ms\tremaining: 2.65s\n",
      "2:\tlearn: 0.5082013\ttotal: 7.96ms\tremaining: 2.64s\n",
      "3:\tlearn: 0.4912890\ttotal: 10.7ms\tremaining: 2.66s\n",
      "4:\tlearn: 0.4750285\ttotal: 13.5ms\tremaining: 2.69s\n",
      "5:\tlearn: 0.4605128\ttotal: 16.4ms\tremaining: 2.71s\n",
      "6:\tlearn: 0.4475175\ttotal: 19.6ms\tremaining: 2.78s\n",
      "7:\tlearn: 0.4353580\ttotal: 22.3ms\tremaining: 2.76s\n",
      "8:\tlearn: 0.4240331\ttotal: 25ms\tremaining: 2.75s\n",
      "9:\tlearn: 0.4146684\ttotal: 27.7ms\tremaining: 2.75s\n",
      "10:\tlearn: 0.4052256\ttotal: 30.3ms\tremaining: 2.73s\n",
      "11:\tlearn: 0.3969183\ttotal: 32.9ms\tremaining: 2.71s\n",
      "12:\tlearn: 0.3896859\ttotal: 34.8ms\tremaining: 2.64s\n",
      "13:\tlearn: 0.3833644\ttotal: 36.7ms\tremaining: 2.58s\n",
      "14:\tlearn: 0.3761449\ttotal: 38.5ms\tremaining: 2.53s\n",
      "15:\tlearn: 0.3707153\ttotal: 40.3ms\tremaining: 2.48s\n",
      "16:\tlearn: 0.3645221\ttotal: 42.1ms\tremaining: 2.43s\n",
      "17:\tlearn: 0.3598349\ttotal: 44.6ms\tremaining: 2.43s\n",
      "18:\tlearn: 0.3544757\ttotal: 47ms\tremaining: 2.43s\n",
      "19:\tlearn: 0.3504636\ttotal: 49.4ms\tremaining: 2.42s\n",
      "20:\tlearn: 0.3468024\ttotal: 51.2ms\tremaining: 2.39s\n",
      "21:\tlearn: 0.3434003\ttotal: 53ms\tremaining: 2.36s\n",
      "22:\tlearn: 0.3395912\ttotal: 54.8ms\tremaining: 2.33s\n",
      "23:\tlearn: 0.3367357\ttotal: 56.6ms\tremaining: 2.3s\n",
      "24:\tlearn: 0.3337247\ttotal: 58.3ms\tremaining: 2.27s\n",
      "25:\tlearn: 0.3309168\ttotal: 60.5ms\tremaining: 2.27s\n",
      "26:\tlearn: 0.3286635\ttotal: 62.6ms\tremaining: 2.25s\n",
      "27:\tlearn: 0.3262842\ttotal: 64.4ms\tremaining: 2.23s\n",
      "28:\tlearn: 0.3227118\ttotal: 66.2ms\tremaining: 2.22s\n",
      "29:\tlearn: 0.3205430\ttotal: 68ms\tremaining: 2.2s\n",
      "30:\tlearn: 0.3183246\ttotal: 69.8ms\tremaining: 2.18s\n",
      "31:\tlearn: 0.3158386\ttotal: 71.6ms\tremaining: 2.16s\n",
      "32:\tlearn: 0.3137790\ttotal: 73.3ms\tremaining: 2.15s\n",
      "33:\tlearn: 0.3122432\ttotal: 75.3ms\tremaining: 2.14s\n",
      "34:\tlearn: 0.3105405\ttotal: 77.1ms\tremaining: 2.13s\n",
      "35:\tlearn: 0.3090267\ttotal: 78.9ms\tremaining: 2.11s\n",
      "36:\tlearn: 0.3076719\ttotal: 80.7ms\tremaining: 2.1s\n",
      "37:\tlearn: 0.3062842\ttotal: 82.5ms\tremaining: 2.09s\n",
      "38:\tlearn: 0.3040185\ttotal: 84.3ms\tremaining: 2.08s\n",
      "39:\tlearn: 0.3025463\ttotal: 86ms\tremaining: 2.06s\n",
      "40:\tlearn: 0.3014424\ttotal: 87.7ms\tremaining: 2.05s\n",
      "41:\tlearn: 0.3005503\ttotal: 89.5ms\tremaining: 2.04s\n",
      "42:\tlearn: 0.2987502\ttotal: 91.7ms\tremaining: 2.04s\n",
      "43:\tlearn: 0.2973606\ttotal: 93.7ms\tremaining: 2.04s\n",
      "44:\tlearn: 0.2958181\ttotal: 95.5ms\tremaining: 2.02s\n",
      "45:\tlearn: 0.2946808\ttotal: 97.3ms\tremaining: 2.02s\n",
      "46:\tlearn: 0.2934845\ttotal: 99.1ms\tremaining: 2.01s\n",
      "47:\tlearn: 0.2921448\ttotal: 101ms\tremaining: 2s\n",
      "48:\tlearn: 0.2907701\ttotal: 103ms\tremaining: 1.99s\n",
      "49:\tlearn: 0.2899681\ttotal: 104ms\tremaining: 1.98s\n",
      "50:\tlearn: 0.2890025\ttotal: 106ms\tremaining: 1.98s\n",
      "51:\tlearn: 0.2876750\ttotal: 108ms\tremaining: 1.97s\n",
      "52:\tlearn: 0.2870642\ttotal: 110ms\tremaining: 1.96s\n",
      "53:\tlearn: 0.2861446\ttotal: 112ms\tremaining: 1.96s\n",
      "54:\tlearn: 0.2855364\ttotal: 114ms\tremaining: 1.95s\n",
      "55:\tlearn: 0.2844983\ttotal: 115ms\tremaining: 1.94s\n",
      "56:\tlearn: 0.2836777\ttotal: 117ms\tremaining: 1.94s\n",
      "57:\tlearn: 0.2829884\ttotal: 119ms\tremaining: 1.93s\n",
      "58:\tlearn: 0.2815835\ttotal: 121ms\tremaining: 1.92s\n",
      "59:\tlearn: 0.2809208\ttotal: 122ms\tremaining: 1.92s\n",
      "60:\tlearn: 0.2802145\ttotal: 125ms\tremaining: 1.92s\n",
      "61:\tlearn: 0.2796811\ttotal: 126ms\tremaining: 1.91s\n",
      "62:\tlearn: 0.2790909\ttotal: 128ms\tremaining: 1.9s\n",
      "63:\tlearn: 0.2780526\ttotal: 130ms\tremaining: 1.9s\n",
      "64:\tlearn: 0.2772495\ttotal: 132ms\tremaining: 1.89s\n",
      "65:\tlearn: 0.2765661\ttotal: 133ms\tremaining: 1.89s\n",
      "66:\tlearn: 0.2759557\ttotal: 135ms\tremaining: 1.88s\n",
      "67:\tlearn: 0.2753923\ttotal: 137ms\tremaining: 1.88s\n",
      "68:\tlearn: 0.2743847\ttotal: 139ms\tremaining: 1.87s\n",
      "69:\tlearn: 0.2737775\ttotal: 141ms\tremaining: 1.87s\n",
      "70:\tlearn: 0.2733751\ttotal: 142ms\tremaining: 1.86s\n",
      "71:\tlearn: 0.2725615\ttotal: 144ms\tremaining: 1.86s\n",
      "72:\tlearn: 0.2719404\ttotal: 146ms\tremaining: 1.85s\n",
      "73:\tlearn: 0.2715659\ttotal: 148ms\tremaining: 1.85s\n",
      "74:\tlearn: 0.2710058\ttotal: 149ms\tremaining: 1.84s\n",
      "75:\tlearn: 0.2703977\ttotal: 151ms\tremaining: 1.84s\n",
      "76:\tlearn: 0.2699400\ttotal: 153ms\tremaining: 1.83s\n",
      "77:\tlearn: 0.2695916\ttotal: 155ms\tremaining: 1.83s\n",
      "78:\tlearn: 0.2688354\ttotal: 157ms\tremaining: 1.82s\n",
      "79:\tlearn: 0.2682822\ttotal: 158ms\tremaining: 1.82s\n",
      "80:\tlearn: 0.2674771\ttotal: 160ms\tremaining: 1.82s\n",
      "81:\tlearn: 0.2666408\ttotal: 162ms\tremaining: 1.81s\n",
      "82:\tlearn: 0.2661250\ttotal: 164ms\tremaining: 1.81s\n",
      "83:\tlearn: 0.2656494\ttotal: 166ms\tremaining: 1.81s\n",
      "84:\tlearn: 0.2653208\ttotal: 167ms\tremaining: 1.8s\n",
      "85:\tlearn: 0.2645595\ttotal: 169ms\tremaining: 1.8s\n",
      "86:\tlearn: 0.2641794\ttotal: 171ms\tremaining: 1.8s\n",
      "87:\tlearn: 0.2637567\ttotal: 173ms\tremaining: 1.79s\n",
      "88:\tlearn: 0.2632666\ttotal: 175ms\tremaining: 1.79s\n",
      "89:\tlearn: 0.2628354\ttotal: 177ms\tremaining: 1.78s\n",
      "90:\tlearn: 0.2625212\ttotal: 178ms\tremaining: 1.78s\n",
      "91:\tlearn: 0.2621029\ttotal: 180ms\tremaining: 1.78s\n",
      "92:\tlearn: 0.2616091\ttotal: 182ms\tremaining: 1.77s\n",
      "93:\tlearn: 0.2612027\ttotal: 184ms\tremaining: 1.77s\n",
      "94:\tlearn: 0.2606360\ttotal: 186ms\tremaining: 1.77s\n",
      "95:\tlearn: 0.2602561\ttotal: 187ms\tremaining: 1.76s\n",
      "96:\tlearn: 0.2598015\ttotal: 189ms\tremaining: 1.76s\n",
      "97:\tlearn: 0.2594920\ttotal: 191ms\tremaining: 1.76s\n",
      "98:\tlearn: 0.2590747\ttotal: 193ms\tremaining: 1.75s\n",
      "99:\tlearn: 0.2586914\ttotal: 194ms\tremaining: 1.75s\n",
      "100:\tlearn: 0.2583609\ttotal: 196ms\tremaining: 1.75s\n",
      "101:\tlearn: 0.2579347\ttotal: 198ms\tremaining: 1.74s\n",
      "102:\tlearn: 0.2575324\ttotal: 200ms\tremaining: 1.75s\n",
      "103:\tlearn: 0.2573280\ttotal: 203ms\tremaining: 1.75s\n",
      "104:\tlearn: 0.2569556\ttotal: 205ms\tremaining: 1.75s\n",
      "105:\tlearn: 0.2567066\ttotal: 207ms\tremaining: 1.75s\n",
      "106:\tlearn: 0.2561890\ttotal: 210ms\tremaining: 1.75s\n",
      "107:\tlearn: 0.2559347\ttotal: 212ms\tremaining: 1.75s\n",
      "108:\tlearn: 0.2555337\ttotal: 213ms\tremaining: 1.74s\n",
      "109:\tlearn: 0.2553013\ttotal: 215ms\tremaining: 1.74s\n",
      "110:\tlearn: 0.2550661\ttotal: 217ms\tremaining: 1.74s\n",
      "111:\tlearn: 0.2546944\ttotal: 219ms\tremaining: 1.73s\n",
      "112:\tlearn: 0.2543012\ttotal: 221ms\tremaining: 1.73s\n",
      "113:\tlearn: 0.2538731\ttotal: 223ms\tremaining: 1.73s\n",
      "114:\tlearn: 0.2535282\ttotal: 225ms\tremaining: 1.73s\n",
      "115:\tlearn: 0.2531948\ttotal: 227ms\tremaining: 1.73s\n",
      "116:\tlearn: 0.2529017\ttotal: 229ms\tremaining: 1.73s\n",
      "117:\tlearn: 0.2526034\ttotal: 230ms\tremaining: 1.72s\n",
      "118:\tlearn: 0.2523031\ttotal: 232ms\tremaining: 1.72s\n",
      "119:\tlearn: 0.2520204\ttotal: 234ms\tremaining: 1.72s\n",
      "120:\tlearn: 0.2517102\ttotal: 236ms\tremaining: 1.72s\n",
      "121:\tlearn: 0.2514121\ttotal: 238ms\tremaining: 1.71s\n",
      "122:\tlearn: 0.2511763\ttotal: 240ms\tremaining: 1.71s\n",
      "123:\tlearn: 0.2509504\ttotal: 242ms\tremaining: 1.71s\n",
      "124:\tlearn: 0.2506108\ttotal: 244ms\tremaining: 1.71s\n",
      "125:\tlearn: 0.2503821\ttotal: 245ms\tremaining: 1.7s\n",
      "126:\tlearn: 0.2501654\ttotal: 247ms\tremaining: 1.7s\n",
      "127:\tlearn: 0.2499374\ttotal: 249ms\tremaining: 1.7s\n",
      "128:\tlearn: 0.2497764\ttotal: 251ms\tremaining: 1.69s\n",
      "129:\tlearn: 0.2493699\ttotal: 253ms\tremaining: 1.69s\n",
      "130:\tlearn: 0.2490975\ttotal: 255ms\tremaining: 1.69s\n",
      "131:\tlearn: 0.2488904\ttotal: 257ms\tremaining: 1.69s\n",
      "132:\tlearn: 0.2486457\ttotal: 258ms\tremaining: 1.68s\n",
      "133:\tlearn: 0.2484245\ttotal: 260ms\tremaining: 1.68s\n",
      "134:\tlearn: 0.2481696\ttotal: 262ms\tremaining: 1.68s\n",
      "135:\tlearn: 0.2480292\ttotal: 264ms\tremaining: 1.67s\n",
      "136:\tlearn: 0.2477831\ttotal: 265ms\tremaining: 1.67s\n",
      "137:\tlearn: 0.2474545\ttotal: 267ms\tremaining: 1.67s\n",
      "138:\tlearn: 0.2471986\ttotal: 269ms\tremaining: 1.67s\n",
      "139:\tlearn: 0.2469914\ttotal: 271ms\tremaining: 1.67s\n",
      "140:\tlearn: 0.2466945\ttotal: 273ms\tremaining: 1.66s\n",
      "141:\tlearn: 0.2465214\ttotal: 275ms\tremaining: 1.66s\n",
      "142:\tlearn: 0.2461037\ttotal: 276ms\tremaining: 1.66s\n",
      "143:\tlearn: 0.2458357\ttotal: 278ms\tremaining: 1.65s\n",
      "144:\tlearn: 0.2455918\ttotal: 280ms\tremaining: 1.65s\n",
      "145:\tlearn: 0.2453968\ttotal: 282ms\tremaining: 1.65s\n",
      "146:\tlearn: 0.2451405\ttotal: 283ms\tremaining: 1.64s\n",
      "147:\tlearn: 0.2450058\ttotal: 285ms\tremaining: 1.64s\n",
      "148:\tlearn: 0.2446156\ttotal: 287ms\tremaining: 1.64s\n",
      "149:\tlearn: 0.2444395\ttotal: 289ms\tremaining: 1.64s\n",
      "150:\tlearn: 0.2441787\ttotal: 290ms\tremaining: 1.63s\n",
      "151:\tlearn: 0.2439648\ttotal: 292ms\tremaining: 1.63s\n",
      "152:\tlearn: 0.2438137\ttotal: 294ms\tremaining: 1.63s\n",
      "153:\tlearn: 0.2435270\ttotal: 296ms\tremaining: 1.62s\n",
      "154:\tlearn: 0.2433520\ttotal: 297ms\tremaining: 1.62s\n",
      "155:\tlearn: 0.2431093\ttotal: 299ms\tremaining: 1.62s\n",
      "156:\tlearn: 0.2428515\ttotal: 301ms\tremaining: 1.61s\n",
      "157:\tlearn: 0.2426237\ttotal: 303ms\tremaining: 1.61s\n",
      "158:\tlearn: 0.2424201\ttotal: 304ms\tremaining: 1.61s\n",
      "159:\tlearn: 0.2422039\ttotal: 306ms\tremaining: 1.61s\n",
      "160:\tlearn: 0.2418836\ttotal: 308ms\tremaining: 1.6s\n",
      "161:\tlearn: 0.2417017\ttotal: 310ms\tremaining: 1.6s\n",
      "162:\tlearn: 0.2412223\ttotal: 312ms\tremaining: 1.6s\n",
      "163:\tlearn: 0.2409924\ttotal: 313ms\tremaining: 1.6s\n",
      "164:\tlearn: 0.2407841\ttotal: 315ms\tremaining: 1.59s\n",
      "165:\tlearn: 0.2405727\ttotal: 317ms\tremaining: 1.59s\n",
      "166:\tlearn: 0.2403944\ttotal: 319ms\tremaining: 1.59s\n",
      "167:\tlearn: 0.2402790\ttotal: 321ms\tremaining: 1.59s\n",
      "168:\tlearn: 0.2399794\ttotal: 322ms\tremaining: 1.58s\n",
      "169:\tlearn: 0.2396112\ttotal: 324ms\tremaining: 1.58s\n",
      "170:\tlearn: 0.2393224\ttotal: 326ms\tremaining: 1.58s\n",
      "171:\tlearn: 0.2391725\ttotal: 327ms\tremaining: 1.58s\n",
      "172:\tlearn: 0.2390282\ttotal: 329ms\tremaining: 1.57s\n",
      "173:\tlearn: 0.2387498\ttotal: 331ms\tremaining: 1.57s\n",
      "174:\tlearn: 0.2385311\ttotal: 333ms\tremaining: 1.57s\n",
      "175:\tlearn: 0.2383379\ttotal: 335ms\tremaining: 1.57s\n",
      "176:\tlearn: 0.2381655\ttotal: 337ms\tremaining: 1.56s\n",
      "177:\tlearn: 0.2377773\ttotal: 339ms\tremaining: 1.56s\n",
      "178:\tlearn: 0.2374631\ttotal: 340ms\tremaining: 1.56s\n",
      "179:\tlearn: 0.2372239\ttotal: 342ms\tremaining: 1.56s\n",
      "180:\tlearn: 0.2370299\ttotal: 344ms\tremaining: 1.56s\n",
      "181:\tlearn: 0.2366771\ttotal: 346ms\tremaining: 1.55s\n",
      "182:\tlearn: 0.2364620\ttotal: 348ms\tremaining: 1.55s\n",
      "183:\tlearn: 0.2360791\ttotal: 350ms\tremaining: 1.55s\n",
      "184:\tlearn: 0.2358753\ttotal: 352ms\tremaining: 1.55s\n",
      "185:\tlearn: 0.2356581\ttotal: 353ms\tremaining: 1.55s\n",
      "186:\tlearn: 0.2354236\ttotal: 355ms\tremaining: 1.54s\n",
      "187:\tlearn: 0.2351742\ttotal: 357ms\tremaining: 1.54s\n",
      "188:\tlearn: 0.2349671\ttotal: 359ms\tremaining: 1.54s\n",
      "189:\tlearn: 0.2347570\ttotal: 360ms\tremaining: 1.54s\n",
      "190:\tlearn: 0.2346429\ttotal: 362ms\tremaining: 1.53s\n",
      "191:\tlearn: 0.2343639\ttotal: 364ms\tremaining: 1.53s\n",
      "192:\tlearn: 0.2341667\ttotal: 366ms\tremaining: 1.53s\n",
      "193:\tlearn: 0.2339888\ttotal: 368ms\tremaining: 1.53s\n",
      "194:\tlearn: 0.2338416\ttotal: 370ms\tremaining: 1.52s\n",
      "195:\tlearn: 0.2336481\ttotal: 371ms\tremaining: 1.52s\n",
      "196:\tlearn: 0.2335062\ttotal: 373ms\tremaining: 1.52s\n",
      "197:\tlearn: 0.2333087\ttotal: 375ms\tremaining: 1.52s\n",
      "198:\tlearn: 0.2331172\ttotal: 377ms\tremaining: 1.52s\n",
      "199:\tlearn: 0.2328172\ttotal: 379ms\tremaining: 1.51s\n",
      "200:\tlearn: 0.2325941\ttotal: 380ms\tremaining: 1.51s\n",
      "201:\tlearn: 0.2324102\ttotal: 382ms\tremaining: 1.51s\n",
      "202:\tlearn: 0.2321754\ttotal: 384ms\tremaining: 1.51s\n",
      "203:\tlearn: 0.2319588\ttotal: 386ms\tremaining: 1.5s\n",
      "204:\tlearn: 0.2318453\ttotal: 387ms\tremaining: 1.5s\n",
      "205:\tlearn: 0.2316178\ttotal: 389ms\tremaining: 1.5s\n",
      "206:\tlearn: 0.2314633\ttotal: 391ms\tremaining: 1.5s\n",
      "207:\tlearn: 0.2313203\ttotal: 393ms\tremaining: 1.5s\n",
      "208:\tlearn: 0.2311479\ttotal: 394ms\tremaining: 1.49s\n",
      "209:\tlearn: 0.2309426\ttotal: 396ms\tremaining: 1.49s\n",
      "210:\tlearn: 0.2307935\ttotal: 398ms\tremaining: 1.49s\n",
      "211:\tlearn: 0.2306201\ttotal: 400ms\tremaining: 1.49s\n",
      "212:\tlearn: 0.2304642\ttotal: 402ms\tremaining: 1.48s\n",
      "213:\tlearn: 0.2302659\ttotal: 403ms\tremaining: 1.48s\n",
      "214:\tlearn: 0.2300328\ttotal: 405ms\tremaining: 1.48s\n",
      "215:\tlearn: 0.2298194\ttotal: 408ms\tremaining: 1.48s\n",
      "216:\tlearn: 0.2296946\ttotal: 410ms\tremaining: 1.48s\n",
      "217:\tlearn: 0.2294474\ttotal: 412ms\tremaining: 1.48s\n",
      "218:\tlearn: 0.2293065\ttotal: 414ms\tremaining: 1.48s\n",
      "219:\tlearn: 0.2290971\ttotal: 416ms\tremaining: 1.48s\n",
      "220:\tlearn: 0.2289411\ttotal: 419ms\tremaining: 1.48s\n",
      "221:\tlearn: 0.2287585\ttotal: 421ms\tremaining: 1.48s\n",
      "222:\tlearn: 0.2285173\ttotal: 423ms\tremaining: 1.47s\n",
      "223:\tlearn: 0.2283511\ttotal: 425ms\tremaining: 1.47s\n",
      "224:\tlearn: 0.2281143\ttotal: 426ms\tremaining: 1.47s\n",
      "225:\tlearn: 0.2279421\ttotal: 428ms\tremaining: 1.47s\n",
      "226:\tlearn: 0.2278049\ttotal: 430ms\tremaining: 1.47s\n",
      "227:\tlearn: 0.2276235\ttotal: 432ms\tremaining: 1.46s\n",
      "228:\tlearn: 0.2274811\ttotal: 434ms\tremaining: 1.46s\n",
      "229:\tlearn: 0.2273197\ttotal: 436ms\tremaining: 1.46s\n",
      "230:\tlearn: 0.2272004\ttotal: 438ms\tremaining: 1.46s\n",
      "231:\tlearn: 0.2269885\ttotal: 440ms\tremaining: 1.46s\n",
      "232:\tlearn: 0.2268538\ttotal: 441ms\tremaining: 1.45s\n",
      "233:\tlearn: 0.2266815\ttotal: 443ms\tremaining: 1.45s\n",
      "234:\tlearn: 0.2265374\ttotal: 445ms\tremaining: 1.45s\n",
      "235:\tlearn: 0.2263272\ttotal: 447ms\tremaining: 1.45s\n",
      "236:\tlearn: 0.2261244\ttotal: 449ms\tremaining: 1.45s\n",
      "237:\tlearn: 0.2259527\ttotal: 451ms\tremaining: 1.44s\n",
      "238:\tlearn: 0.2257695\ttotal: 452ms\tremaining: 1.44s\n",
      "239:\tlearn: 0.2255804\ttotal: 454ms\tremaining: 1.44s\n",
      "240:\tlearn: 0.2254536\ttotal: 456ms\tremaining: 1.44s\n",
      "241:\tlearn: 0.2252878\ttotal: 458ms\tremaining: 1.43s\n",
      "242:\tlearn: 0.2251454\ttotal: 459ms\tremaining: 1.43s\n",
      "243:\tlearn: 0.2250290\ttotal: 461ms\tremaining: 1.43s\n",
      "244:\tlearn: 0.2248482\ttotal: 463ms\tremaining: 1.43s\n",
      "245:\tlearn: 0.2245932\ttotal: 465ms\tremaining: 1.42s\n",
      "246:\tlearn: 0.2243672\ttotal: 467ms\tremaining: 1.42s\n",
      "247:\tlearn: 0.2241272\ttotal: 469ms\tremaining: 1.42s\n",
      "248:\tlearn: 0.2239851\ttotal: 470ms\tremaining: 1.42s\n",
      "249:\tlearn: 0.2238308\ttotal: 472ms\tremaining: 1.42s\n",
      "250:\tlearn: 0.2236198\ttotal: 474ms\tremaining: 1.41s\n",
      "251:\tlearn: 0.2235071\ttotal: 476ms\tremaining: 1.41s\n",
      "252:\tlearn: 0.2233214\ttotal: 478ms\tremaining: 1.41s\n",
      "253:\tlearn: 0.2231182\ttotal: 480ms\tremaining: 1.41s\n",
      "254:\tlearn: 0.2229760\ttotal: 481ms\tremaining: 1.41s\n",
      "255:\tlearn: 0.2228029\ttotal: 483ms\tremaining: 1.4s\n",
      "256:\tlearn: 0.2226524\ttotal: 485ms\tremaining: 1.4s\n",
      "257:\tlearn: 0.2225058\ttotal: 487ms\tremaining: 1.4s\n",
      "258:\tlearn: 0.2223494\ttotal: 489ms\tremaining: 1.4s\n",
      "259:\tlearn: 0.2222572\ttotal: 490ms\tremaining: 1.4s\n",
      "260:\tlearn: 0.2221132\ttotal: 492ms\tremaining: 1.39s\n",
      "261:\tlearn: 0.2219319\ttotal: 494ms\tremaining: 1.39s\n",
      "262:\tlearn: 0.2217964\ttotal: 496ms\tremaining: 1.39s\n",
      "263:\tlearn: 0.2215919\ttotal: 498ms\tremaining: 1.39s\n",
      "264:\tlearn: 0.2214265\ttotal: 500ms\tremaining: 1.39s\n",
      "265:\tlearn: 0.2212789\ttotal: 502ms\tremaining: 1.38s\n",
      "266:\tlearn: 0.2210567\ttotal: 503ms\tremaining: 1.38s\n",
      "267:\tlearn: 0.2208800\ttotal: 505ms\tremaining: 1.38s\n",
      "268:\tlearn: 0.2207513\ttotal: 507ms\tremaining: 1.38s\n",
      "269:\tlearn: 0.2206019\ttotal: 509ms\tremaining: 1.38s\n",
      "270:\tlearn: 0.2204645\ttotal: 511ms\tremaining: 1.37s\n",
      "271:\tlearn: 0.2203172\ttotal: 513ms\tremaining: 1.37s\n",
      "272:\tlearn: 0.2201925\ttotal: 515ms\tremaining: 1.37s\n",
      "273:\tlearn: 0.2200719\ttotal: 516ms\tremaining: 1.37s\n",
      "274:\tlearn: 0.2199389\ttotal: 518ms\tremaining: 1.36s\n",
      "275:\tlearn: 0.2198307\ttotal: 520ms\tremaining: 1.36s\n",
      "276:\tlearn: 0.2196494\ttotal: 522ms\tremaining: 1.36s\n",
      "277:\tlearn: 0.2194871\ttotal: 523ms\tremaining: 1.36s\n",
      "278:\tlearn: 0.2192867\ttotal: 526ms\tremaining: 1.36s\n",
      "279:\tlearn: 0.2190892\ttotal: 527ms\tremaining: 1.36s\n",
      "280:\tlearn: 0.2188463\ttotal: 529ms\tremaining: 1.35s\n",
      "281:\tlearn: 0.2187474\ttotal: 531ms\tremaining: 1.35s\n",
      "282:\tlearn: 0.2185923\ttotal: 533ms\tremaining: 1.35s\n",
      "283:\tlearn: 0.2184267\ttotal: 534ms\tremaining: 1.35s\n",
      "284:\tlearn: 0.2182975\ttotal: 536ms\tremaining: 1.34s\n",
      "285:\tlearn: 0.2181760\ttotal: 538ms\tremaining: 1.34s\n",
      "286:\tlearn: 0.2180410\ttotal: 540ms\tremaining: 1.34s\n",
      "287:\tlearn: 0.2179520\ttotal: 542ms\tremaining: 1.34s\n",
      "288:\tlearn: 0.2178408\ttotal: 543ms\tremaining: 1.34s\n",
      "289:\tlearn: 0.2176486\ttotal: 545ms\tremaining: 1.33s\n",
      "290:\tlearn: 0.2175007\ttotal: 547ms\tremaining: 1.33s\n",
      "291:\tlearn: 0.2173446\ttotal: 549ms\tremaining: 1.33s\n",
      "292:\tlearn: 0.2172373\ttotal: 551ms\tremaining: 1.33s\n",
      "293:\tlearn: 0.2170945\ttotal: 553ms\tremaining: 1.33s\n",
      "294:\tlearn: 0.2169723\ttotal: 555ms\tremaining: 1.32s\n",
      "295:\tlearn: 0.2168358\ttotal: 556ms\tremaining: 1.32s\n",
      "296:\tlearn: 0.2167564\ttotal: 558ms\tremaining: 1.32s\n",
      "297:\tlearn: 0.2166501\ttotal: 560ms\tremaining: 1.32s\n",
      "298:\tlearn: 0.2165604\ttotal: 562ms\tremaining: 1.32s\n",
      "299:\tlearn: 0.2163864\ttotal: 564ms\tremaining: 1.31s\n",
      "300:\tlearn: 0.2162803\ttotal: 566ms\tremaining: 1.31s\n",
      "301:\tlearn: 0.2161442\ttotal: 567ms\tremaining: 1.31s\n",
      "302:\tlearn: 0.2159647\ttotal: 569ms\tremaining: 1.31s\n",
      "303:\tlearn: 0.2157823\ttotal: 571ms\tremaining: 1.31s\n",
      "304:\tlearn: 0.2156252\ttotal: 573ms\tremaining: 1.3s\n",
      "305:\tlearn: 0.2155317\ttotal: 575ms\tremaining: 1.3s\n",
      "306:\tlearn: 0.2154095\ttotal: 576ms\tremaining: 1.3s\n",
      "307:\tlearn: 0.2152594\ttotal: 578ms\tremaining: 1.3s\n",
      "308:\tlearn: 0.2151453\ttotal: 580ms\tremaining: 1.3s\n",
      "309:\tlearn: 0.2150527\ttotal: 582ms\tremaining: 1.29s\n",
      "310:\tlearn: 0.2149308\ttotal: 583ms\tremaining: 1.29s\n",
      "311:\tlearn: 0.2147733\ttotal: 585ms\tremaining: 1.29s\n",
      "312:\tlearn: 0.2146829\ttotal: 587ms\tremaining: 1.29s\n",
      "313:\tlearn: 0.2145730\ttotal: 589ms\tremaining: 1.29s\n",
      "314:\tlearn: 0.2144405\ttotal: 591ms\tremaining: 1.28s\n",
      "315:\tlearn: 0.2142497\ttotal: 592ms\tremaining: 1.28s\n",
      "316:\tlearn: 0.2141465\ttotal: 594ms\tremaining: 1.28s\n",
      "317:\tlearn: 0.2140586\ttotal: 596ms\tremaining: 1.28s\n",
      "318:\tlearn: 0.2139445\ttotal: 598ms\tremaining: 1.28s\n",
      "319:\tlearn: 0.2138553\ttotal: 600ms\tremaining: 1.27s\n",
      "320:\tlearn: 0.2137185\ttotal: 601ms\tremaining: 1.27s\n",
      "321:\tlearn: 0.2135378\ttotal: 603ms\tremaining: 1.27s\n",
      "322:\tlearn: 0.2133831\ttotal: 605ms\tremaining: 1.27s\n",
      "323:\tlearn: 0.2132183\ttotal: 607ms\tremaining: 1.27s\n",
      "324:\tlearn: 0.2130980\ttotal: 609ms\tremaining: 1.26s\n",
      "325:\tlearn: 0.2129575\ttotal: 610ms\tremaining: 1.26s\n",
      "326:\tlearn: 0.2128231\ttotal: 612ms\tremaining: 1.26s\n",
      "327:\tlearn: 0.2127300\ttotal: 614ms\tremaining: 1.26s\n",
      "328:\tlearn: 0.2126287\ttotal: 616ms\tremaining: 1.26s\n",
      "329:\tlearn: 0.2125425\ttotal: 618ms\tremaining: 1.25s\n",
      "330:\tlearn: 0.2124256\ttotal: 620ms\tremaining: 1.25s\n",
      "331:\tlearn: 0.2123012\ttotal: 623ms\tremaining: 1.25s\n",
      "332:\tlearn: 0.2122041\ttotal: 625ms\tremaining: 1.25s\n",
      "333:\tlearn: 0.2121178\ttotal: 627ms\tremaining: 1.25s\n",
      "334:\tlearn: 0.2120247\ttotal: 630ms\tremaining: 1.25s\n",
      "335:\tlearn: 0.2119366\ttotal: 632ms\tremaining: 1.25s\n",
      "336:\tlearn: 0.2118474\ttotal: 633ms\tremaining: 1.25s\n",
      "337:\tlearn: 0.2117713\ttotal: 635ms\tremaining: 1.24s\n",
      "338:\tlearn: 0.2116684\ttotal: 637ms\tremaining: 1.24s\n",
      "339:\tlearn: 0.2115598\ttotal: 639ms\tremaining: 1.24s\n",
      "340:\tlearn: 0.2114067\ttotal: 641ms\tremaining: 1.24s\n",
      "341:\tlearn: 0.2112791\ttotal: 642ms\tremaining: 1.24s\n",
      "342:\tlearn: 0.2111587\ttotal: 644ms\tremaining: 1.23s\n",
      "343:\tlearn: 0.2110356\ttotal: 646ms\tremaining: 1.23s\n",
      "344:\tlearn: 0.2109369\ttotal: 648ms\tremaining: 1.23s\n",
      "345:\tlearn: 0.2108203\ttotal: 650ms\tremaining: 1.23s\n",
      "346:\tlearn: 0.2107313\ttotal: 651ms\tremaining: 1.23s\n",
      "347:\tlearn: 0.2106528\ttotal: 653ms\tremaining: 1.22s\n",
      "348:\tlearn: 0.2105329\ttotal: 655ms\tremaining: 1.22s\n",
      "349:\tlearn: 0.2103912\ttotal: 657ms\tremaining: 1.22s\n",
      "350:\tlearn: 0.2102870\ttotal: 659ms\tremaining: 1.22s\n",
      "351:\tlearn: 0.2102098\ttotal: 660ms\tremaining: 1.22s\n",
      "352:\tlearn: 0.2100436\ttotal: 662ms\tremaining: 1.21s\n",
      "353:\tlearn: 0.2099153\ttotal: 664ms\tremaining: 1.21s\n",
      "354:\tlearn: 0.2097816\ttotal: 666ms\tremaining: 1.21s\n",
      "355:\tlearn: 0.2096990\ttotal: 668ms\tremaining: 1.21s\n",
      "356:\tlearn: 0.2096117\ttotal: 669ms\tremaining: 1.21s\n",
      "357:\tlearn: 0.2095279\ttotal: 671ms\tremaining: 1.2s\n",
      "358:\tlearn: 0.2094450\ttotal: 673ms\tremaining: 1.2s\n",
      "359:\tlearn: 0.2093498\ttotal: 675ms\tremaining: 1.2s\n",
      "360:\tlearn: 0.2092742\ttotal: 677ms\tremaining: 1.2s\n",
      "361:\tlearn: 0.2091811\ttotal: 678ms\tremaining: 1.2s\n",
      "362:\tlearn: 0.2090749\ttotal: 680ms\tremaining: 1.19s\n",
      "363:\tlearn: 0.2089917\ttotal: 682ms\tremaining: 1.19s\n",
      "364:\tlearn: 0.2089076\ttotal: 684ms\tremaining: 1.19s\n",
      "365:\tlearn: 0.2087454\ttotal: 685ms\tremaining: 1.19s\n",
      "366:\tlearn: 0.2086178\ttotal: 687ms\tremaining: 1.19s\n",
      "367:\tlearn: 0.2084639\ttotal: 689ms\tremaining: 1.18s\n",
      "368:\tlearn: 0.2083363\ttotal: 691ms\tremaining: 1.18s\n",
      "369:\tlearn: 0.2081774\ttotal: 693ms\tremaining: 1.18s\n",
      "370:\tlearn: 0.2080604\ttotal: 694ms\tremaining: 1.18s\n",
      "371:\tlearn: 0.2079904\ttotal: 696ms\tremaining: 1.18s\n",
      "372:\tlearn: 0.2078668\ttotal: 698ms\tremaining: 1.17s\n",
      "373:\tlearn: 0.2077616\ttotal: 700ms\tremaining: 1.17s\n",
      "374:\tlearn: 0.2076734\ttotal: 702ms\tremaining: 1.17s\n",
      "375:\tlearn: 0.2075463\ttotal: 704ms\tremaining: 1.17s\n",
      "376:\tlearn: 0.2074846\ttotal: 705ms\tremaining: 1.17s\n",
      "377:\tlearn: 0.2073802\ttotal: 707ms\tremaining: 1.16s\n",
      "378:\tlearn: 0.2072837\ttotal: 709ms\tremaining: 1.16s\n",
      "379:\tlearn: 0.2071614\ttotal: 711ms\tremaining: 1.16s\n",
      "380:\tlearn: 0.2070701\ttotal: 712ms\tremaining: 1.16s\n",
      "381:\tlearn: 0.2069127\ttotal: 714ms\tremaining: 1.16s\n",
      "382:\tlearn: 0.2067998\ttotal: 716ms\tremaining: 1.15s\n",
      "383:\tlearn: 0.2067052\ttotal: 718ms\tremaining: 1.15s\n",
      "384:\tlearn: 0.2066041\ttotal: 720ms\tremaining: 1.15s\n",
      "385:\tlearn: 0.2064992\ttotal: 721ms\tremaining: 1.15s\n",
      "386:\tlearn: 0.2063794\ttotal: 723ms\tremaining: 1.15s\n",
      "387:\tlearn: 0.2062539\ttotal: 725ms\tremaining: 1.14s\n",
      "388:\tlearn: 0.2061778\ttotal: 727ms\tremaining: 1.14s\n",
      "389:\tlearn: 0.2060979\ttotal: 728ms\tremaining: 1.14s\n",
      "390:\tlearn: 0.2060110\ttotal: 730ms\tremaining: 1.14s\n",
      "391:\tlearn: 0.2058386\ttotal: 732ms\tremaining: 1.14s\n",
      "392:\tlearn: 0.2057144\ttotal: 734ms\tremaining: 1.13s\n",
      "393:\tlearn: 0.2056144\ttotal: 736ms\tremaining: 1.13s\n",
      "394:\tlearn: 0.2055262\ttotal: 738ms\tremaining: 1.13s\n",
      "395:\tlearn: 0.2053972\ttotal: 739ms\tremaining: 1.13s\n",
      "396:\tlearn: 0.2053097\ttotal: 741ms\tremaining: 1.13s\n",
      "397:\tlearn: 0.2052446\ttotal: 743ms\tremaining: 1.12s\n",
      "398:\tlearn: 0.2051709\ttotal: 745ms\tremaining: 1.12s\n",
      "399:\tlearn: 0.2050340\ttotal: 746ms\tremaining: 1.12s\n",
      "400:\tlearn: 0.2049710\ttotal: 748ms\tremaining: 1.12s\n",
      "401:\tlearn: 0.2049037\ttotal: 750ms\tremaining: 1.11s\n",
      "402:\tlearn: 0.2047853\ttotal: 752ms\tremaining: 1.11s\n",
      "403:\tlearn: 0.2047044\ttotal: 754ms\tremaining: 1.11s\n",
      "404:\tlearn: 0.2046000\ttotal: 755ms\tremaining: 1.11s\n",
      "405:\tlearn: 0.2044829\ttotal: 757ms\tremaining: 1.11s\n",
      "406:\tlearn: 0.2043949\ttotal: 759ms\tremaining: 1.1s\n",
      "407:\tlearn: 0.2043019\ttotal: 761ms\tremaining: 1.1s\n",
      "408:\tlearn: 0.2042035\ttotal: 763ms\tremaining: 1.1s\n",
      "409:\tlearn: 0.2041399\ttotal: 764ms\tremaining: 1.1s\n",
      "410:\tlearn: 0.2040580\ttotal: 766ms\tremaining: 1.1s\n",
      "411:\tlearn: 0.2039480\ttotal: 768ms\tremaining: 1.1s\n",
      "412:\tlearn: 0.2038354\ttotal: 770ms\tremaining: 1.09s\n",
      "413:\tlearn: 0.2037044\ttotal: 772ms\tremaining: 1.09s\n",
      "414:\tlearn: 0.2036041\ttotal: 774ms\tremaining: 1.09s\n",
      "415:\tlearn: 0.2035020\ttotal: 775ms\tremaining: 1.09s\n",
      "416:\tlearn: 0.2033639\ttotal: 777ms\tremaining: 1.09s\n",
      "417:\tlearn: 0.2032858\ttotal: 779ms\tremaining: 1.08s\n",
      "418:\tlearn: 0.2031549\ttotal: 781ms\tremaining: 1.08s\n",
      "419:\tlearn: 0.2030609\ttotal: 783ms\tremaining: 1.08s\n",
      "420:\tlearn: 0.2029812\ttotal: 784ms\tremaining: 1.08s\n",
      "421:\tlearn: 0.2029071\ttotal: 786ms\tremaining: 1.08s\n",
      "422:\tlearn: 0.2028541\ttotal: 788ms\tremaining: 1.07s\n",
      "423:\tlearn: 0.2027695\ttotal: 790ms\tremaining: 1.07s\n",
      "424:\tlearn: 0.2026749\ttotal: 791ms\tremaining: 1.07s\n",
      "425:\tlearn: 0.2025916\ttotal: 793ms\tremaining: 1.07s\n",
      "426:\tlearn: 0.2024383\ttotal: 795ms\tremaining: 1.07s\n",
      "427:\tlearn: 0.2023474\ttotal: 797ms\tremaining: 1.06s\n",
      "428:\tlearn: 0.2022432\ttotal: 798ms\tremaining: 1.06s\n",
      "429:\tlearn: 0.2021704\ttotal: 800ms\tremaining: 1.06s\n",
      "430:\tlearn: 0.2020842\ttotal: 802ms\tremaining: 1.06s\n",
      "431:\tlearn: 0.2019741\ttotal: 804ms\tremaining: 1.06s\n",
      "432:\tlearn: 0.2018634\ttotal: 806ms\tremaining: 1.05s\n",
      "433:\tlearn: 0.2017378\ttotal: 808ms\tremaining: 1.05s\n",
      "434:\tlearn: 0.2016547\ttotal: 810ms\tremaining: 1.05s\n",
      "435:\tlearn: 0.2015580\ttotal: 812ms\tremaining: 1.05s\n",
      "436:\tlearn: 0.2014797\ttotal: 814ms\tremaining: 1.05s\n",
      "437:\tlearn: 0.2013911\ttotal: 816ms\tremaining: 1.05s\n",
      "438:\tlearn: 0.2013079\ttotal: 819ms\tremaining: 1.05s\n",
      "439:\tlearn: 0.2012446\ttotal: 821ms\tremaining: 1.04s\n",
      "440:\tlearn: 0.2011812\ttotal: 823ms\tremaining: 1.04s\n",
      "441:\tlearn: 0.2010869\ttotal: 825ms\tremaining: 1.04s\n",
      "442:\tlearn: 0.2009929\ttotal: 827ms\tremaining: 1.04s\n",
      "443:\tlearn: 0.2009245\ttotal: 829ms\tremaining: 1.04s\n",
      "444:\tlearn: 0.2007928\ttotal: 831ms\tremaining: 1.03s\n",
      "445:\tlearn: 0.2006631\ttotal: 833ms\tremaining: 1.03s\n",
      "446:\tlearn: 0.2005665\ttotal: 835ms\tremaining: 1.03s\n",
      "447:\tlearn: 0.2004988\ttotal: 836ms\tremaining: 1.03s\n",
      "448:\tlearn: 0.2004319\ttotal: 838ms\tremaining: 1.03s\n",
      "449:\tlearn: 0.2003088\ttotal: 840ms\tremaining: 1.03s\n",
      "450:\tlearn: 0.2002251\ttotal: 842ms\tremaining: 1.02s\n",
      "451:\tlearn: 0.2001566\ttotal: 844ms\tremaining: 1.02s\n",
      "452:\tlearn: 0.2000934\ttotal: 845ms\tremaining: 1.02s\n",
      "453:\tlearn: 0.2000081\ttotal: 847ms\tremaining: 1.02s\n",
      "454:\tlearn: 0.1999357\ttotal: 849ms\tremaining: 1.02s\n",
      "455:\tlearn: 0.1998619\ttotal: 851ms\tremaining: 1.01s\n",
      "456:\tlearn: 0.1997722\ttotal: 853ms\tremaining: 1.01s\n",
      "457:\tlearn: 0.1997257\ttotal: 854ms\tremaining: 1.01s\n",
      "458:\tlearn: 0.1996583\ttotal: 856ms\tremaining: 1.01s\n",
      "459:\tlearn: 0.1995864\ttotal: 858ms\tremaining: 1.01s\n",
      "460:\tlearn: 0.1995021\ttotal: 860ms\tremaining: 1s\n",
      "461:\tlearn: 0.1993796\ttotal: 861ms\tremaining: 1s\n",
      "462:\tlearn: 0.1993018\ttotal: 863ms\tremaining: 1s\n",
      "463:\tlearn: 0.1992539\ttotal: 865ms\tremaining: 999ms\n",
      "464:\tlearn: 0.1991723\ttotal: 867ms\tremaining: 997ms\n",
      "465:\tlearn: 0.1991003\ttotal: 868ms\tremaining: 995ms\n",
      "466:\tlearn: 0.1990115\ttotal: 870ms\tremaining: 993ms\n",
      "467:\tlearn: 0.1988821\ttotal: 872ms\tremaining: 991ms\n",
      "468:\tlearn: 0.1988439\ttotal: 874ms\tremaining: 989ms\n",
      "469:\tlearn: 0.1987696\ttotal: 876ms\tremaining: 987ms\n",
      "470:\tlearn: 0.1986760\ttotal: 877ms\tremaining: 985ms\n",
      "471:\tlearn: 0.1985917\ttotal: 879ms\tremaining: 983ms\n",
      "472:\tlearn: 0.1984736\ttotal: 881ms\tremaining: 982ms\n",
      "473:\tlearn: 0.1984093\ttotal: 883ms\tremaining: 980ms\n",
      "474:\tlearn: 0.1982835\ttotal: 885ms\tremaining: 978ms\n",
      "475:\tlearn: 0.1981982\ttotal: 886ms\tremaining: 976ms\n",
      "476:\tlearn: 0.1980888\ttotal: 888ms\tremaining: 974ms\n",
      "477:\tlearn: 0.1980172\ttotal: 890ms\tremaining: 972ms\n",
      "478:\tlearn: 0.1979036\ttotal: 892ms\tremaining: 970ms\n",
      "479:\tlearn: 0.1978130\ttotal: 893ms\tremaining: 968ms\n",
      "480:\tlearn: 0.1977264\ttotal: 895ms\tremaining: 966ms\n",
      "481:\tlearn: 0.1976300\ttotal: 897ms\tremaining: 964ms\n",
      "482:\tlearn: 0.1975677\ttotal: 899ms\tremaining: 962ms\n",
      "483:\tlearn: 0.1974623\ttotal: 901ms\tremaining: 960ms\n",
      "484:\tlearn: 0.1973659\ttotal: 902ms\tremaining: 958ms\n",
      "485:\tlearn: 0.1972679\ttotal: 904ms\tremaining: 956ms\n",
      "486:\tlearn: 0.1972049\ttotal: 906ms\tremaining: 954ms\n",
      "487:\tlearn: 0.1971245\ttotal: 908ms\tremaining: 953ms\n",
      "488:\tlearn: 0.1970655\ttotal: 910ms\tremaining: 950ms\n",
      "489:\tlearn: 0.1969694\ttotal: 911ms\tremaining: 949ms\n",
      "490:\tlearn: 0.1968608\ttotal: 913ms\tremaining: 947ms\n",
      "491:\tlearn: 0.1967424\ttotal: 915ms\tremaining: 945ms\n",
      "492:\tlearn: 0.1966536\ttotal: 917ms\tremaining: 943ms\n",
      "493:\tlearn: 0.1965696\ttotal: 918ms\tremaining: 941ms\n",
      "494:\tlearn: 0.1964718\ttotal: 920ms\tremaining: 939ms\n",
      "495:\tlearn: 0.1963497\ttotal: 922ms\tremaining: 937ms\n",
      "496:\tlearn: 0.1962569\ttotal: 924ms\tremaining: 935ms\n",
      "497:\tlearn: 0.1962108\ttotal: 926ms\tremaining: 933ms\n",
      "498:\tlearn: 0.1961079\ttotal: 928ms\tremaining: 932ms\n",
      "499:\tlearn: 0.1960280\ttotal: 930ms\tremaining: 930ms\n",
      "500:\tlearn: 0.1959661\ttotal: 931ms\tremaining: 928ms\n",
      "501:\tlearn: 0.1959198\ttotal: 933ms\tremaining: 926ms\n",
      "502:\tlearn: 0.1958605\ttotal: 935ms\tremaining: 924ms\n",
      "503:\tlearn: 0.1957592\ttotal: 937ms\tremaining: 922ms\n",
      "504:\tlearn: 0.1956922\ttotal: 939ms\tremaining: 920ms\n",
      "505:\tlearn: 0.1956152\ttotal: 941ms\tremaining: 918ms\n",
      "506:\tlearn: 0.1955641\ttotal: 943ms\tremaining: 917ms\n",
      "507:\tlearn: 0.1954880\ttotal: 944ms\tremaining: 915ms\n",
      "508:\tlearn: 0.1954216\ttotal: 946ms\tremaining: 913ms\n",
      "509:\tlearn: 0.1953342\ttotal: 948ms\tremaining: 911ms\n",
      "510:\tlearn: 0.1952698\ttotal: 950ms\tremaining: 909ms\n",
      "511:\tlearn: 0.1951983\ttotal: 952ms\tremaining: 907ms\n",
      "512:\tlearn: 0.1951281\ttotal: 954ms\tremaining: 905ms\n",
      "513:\tlearn: 0.1950450\ttotal: 955ms\tremaining: 903ms\n",
      "514:\tlearn: 0.1949935\ttotal: 957ms\tremaining: 901ms\n",
      "515:\tlearn: 0.1949408\ttotal: 959ms\tremaining: 900ms\n",
      "516:\tlearn: 0.1948382\ttotal: 961ms\tremaining: 898ms\n",
      "517:\tlearn: 0.1947870\ttotal: 963ms\tremaining: 896ms\n",
      "518:\tlearn: 0.1947024\ttotal: 965ms\tremaining: 894ms\n",
      "519:\tlearn: 0.1946448\ttotal: 967ms\tremaining: 892ms\n",
      "520:\tlearn: 0.1945457\ttotal: 968ms\tremaining: 890ms\n",
      "521:\tlearn: 0.1944720\ttotal: 970ms\tremaining: 888ms\n",
      "522:\tlearn: 0.1943910\ttotal: 972ms\tremaining: 887ms\n",
      "523:\tlearn: 0.1943007\ttotal: 974ms\tremaining: 885ms\n",
      "524:\tlearn: 0.1942076\ttotal: 976ms\tremaining: 883ms\n",
      "525:\tlearn: 0.1941365\ttotal: 978ms\tremaining: 881ms\n",
      "526:\tlearn: 0.1940673\ttotal: 980ms\tremaining: 879ms\n",
      "527:\tlearn: 0.1940181\ttotal: 982ms\tremaining: 877ms\n",
      "528:\tlearn: 0.1939308\ttotal: 983ms\tremaining: 876ms\n",
      "529:\tlearn: 0.1938296\ttotal: 985ms\tremaining: 874ms\n",
      "530:\tlearn: 0.1937520\ttotal: 987ms\tremaining: 872ms\n",
      "531:\tlearn: 0.1936720\ttotal: 989ms\tremaining: 870ms\n",
      "532:\tlearn: 0.1936006\ttotal: 991ms\tremaining: 868ms\n",
      "533:\tlearn: 0.1935031\ttotal: 993ms\tremaining: 866ms\n",
      "534:\tlearn: 0.1934390\ttotal: 995ms\tremaining: 865ms\n",
      "535:\tlearn: 0.1933696\ttotal: 997ms\tremaining: 863ms\n",
      "536:\tlearn: 0.1933085\ttotal: 998ms\tremaining: 861ms\n",
      "537:\tlearn: 0.1932516\ttotal: 1s\tremaining: 859ms\n",
      "538:\tlearn: 0.1931871\ttotal: 1s\tremaining: 857ms\n",
      "539:\tlearn: 0.1931284\ttotal: 1s\tremaining: 855ms\n",
      "540:\tlearn: 0.1930747\ttotal: 1s\tremaining: 853ms\n",
      "541:\tlearn: 0.1929939\ttotal: 1.01s\tremaining: 851ms\n",
      "542:\tlearn: 0.1929211\ttotal: 1.01s\tremaining: 850ms\n",
      "543:\tlearn: 0.1928600\ttotal: 1.01s\tremaining: 849ms\n",
      "544:\tlearn: 0.1927791\ttotal: 1.01s\tremaining: 847ms\n",
      "545:\tlearn: 0.1926906\ttotal: 1.02s\tremaining: 845ms\n",
      "546:\tlearn: 0.1926154\ttotal: 1.02s\tremaining: 844ms\n",
      "547:\tlearn: 0.1925690\ttotal: 1.02s\tremaining: 842ms\n",
      "548:\tlearn: 0.1924638\ttotal: 1.02s\tremaining: 841ms\n",
      "549:\tlearn: 0.1923858\ttotal: 1.02s\tremaining: 839ms\n",
      "550:\tlearn: 0.1923204\ttotal: 1.03s\tremaining: 838ms\n",
      "551:\tlearn: 0.1922377\ttotal: 1.03s\tremaining: 836ms\n",
      "552:\tlearn: 0.1921907\ttotal: 1.03s\tremaining: 834ms\n",
      "553:\tlearn: 0.1921104\ttotal: 1.03s\tremaining: 833ms\n",
      "554:\tlearn: 0.1920559\ttotal: 1.04s\tremaining: 831ms\n",
      "555:\tlearn: 0.1919784\ttotal: 1.04s\tremaining: 829ms\n",
      "556:\tlearn: 0.1918559\ttotal: 1.04s\tremaining: 827ms\n",
      "557:\tlearn: 0.1917844\ttotal: 1.04s\tremaining: 826ms\n",
      "558:\tlearn: 0.1917129\ttotal: 1.04s\tremaining: 824ms\n",
      "559:\tlearn: 0.1916041\ttotal: 1.05s\tremaining: 822ms\n",
      "560:\tlearn: 0.1915191\ttotal: 1.05s\tremaining: 820ms\n",
      "561:\tlearn: 0.1914312\ttotal: 1.05s\tremaining: 819ms\n",
      "562:\tlearn: 0.1913734\ttotal: 1.05s\tremaining: 817ms\n",
      "563:\tlearn: 0.1913297\ttotal: 1.05s\tremaining: 815ms\n",
      "564:\tlearn: 0.1912636\ttotal: 1.06s\tremaining: 813ms\n",
      "565:\tlearn: 0.1912135\ttotal: 1.06s\tremaining: 811ms\n",
      "566:\tlearn: 0.1911437\ttotal: 1.06s\tremaining: 809ms\n",
      "567:\tlearn: 0.1910738\ttotal: 1.06s\tremaining: 807ms\n",
      "568:\tlearn: 0.1909848\ttotal: 1.06s\tremaining: 806ms\n",
      "569:\tlearn: 0.1908802\ttotal: 1.06s\tremaining: 804ms\n",
      "570:\tlearn: 0.1908230\ttotal: 1.07s\tremaining: 802ms\n",
      "571:\tlearn: 0.1907533\ttotal: 1.07s\tremaining: 800ms\n",
      "572:\tlearn: 0.1906978\ttotal: 1.07s\tremaining: 798ms\n",
      "573:\tlearn: 0.1906486\ttotal: 1.07s\tremaining: 796ms\n",
      "574:\tlearn: 0.1905824\ttotal: 1.07s\tremaining: 795ms\n",
      "575:\tlearn: 0.1905022\ttotal: 1.08s\tremaining: 793ms\n",
      "576:\tlearn: 0.1904094\ttotal: 1.08s\tremaining: 791ms\n",
      "577:\tlearn: 0.1903472\ttotal: 1.08s\tremaining: 789ms\n",
      "578:\tlearn: 0.1902880\ttotal: 1.08s\tremaining: 787ms\n",
      "579:\tlearn: 0.1902286\ttotal: 1.08s\tremaining: 785ms\n",
      "580:\tlearn: 0.1901660\ttotal: 1.09s\tremaining: 784ms\n",
      "581:\tlearn: 0.1901230\ttotal: 1.09s\tremaining: 782ms\n",
      "582:\tlearn: 0.1900458\ttotal: 1.09s\tremaining: 780ms\n",
      "583:\tlearn: 0.1899537\ttotal: 1.09s\tremaining: 778ms\n",
      "584:\tlearn: 0.1898624\ttotal: 1.09s\tremaining: 777ms\n",
      "585:\tlearn: 0.1897773\ttotal: 1.1s\tremaining: 775ms\n",
      "586:\tlearn: 0.1897333\ttotal: 1.1s\tremaining: 773ms\n",
      "587:\tlearn: 0.1896812\ttotal: 1.1s\tremaining: 771ms\n",
      "588:\tlearn: 0.1896096\ttotal: 1.1s\tremaining: 769ms\n",
      "589:\tlearn: 0.1895367\ttotal: 1.1s\tremaining: 767ms\n",
      "590:\tlearn: 0.1894707\ttotal: 1.1s\tremaining: 765ms\n",
      "591:\tlearn: 0.1894178\ttotal: 1.11s\tremaining: 763ms\n",
      "592:\tlearn: 0.1893331\ttotal: 1.11s\tremaining: 761ms\n",
      "593:\tlearn: 0.1892665\ttotal: 1.11s\tremaining: 760ms\n",
      "594:\tlearn: 0.1891893\ttotal: 1.11s\tremaining: 758ms\n",
      "595:\tlearn: 0.1891327\ttotal: 1.11s\tremaining: 756ms\n",
      "596:\tlearn: 0.1890672\ttotal: 1.12s\tremaining: 754ms\n",
      "597:\tlearn: 0.1889850\ttotal: 1.12s\tremaining: 753ms\n",
      "598:\tlearn: 0.1888846\ttotal: 1.12s\tremaining: 751ms\n",
      "599:\tlearn: 0.1888194\ttotal: 1.12s\tremaining: 749ms\n",
      "600:\tlearn: 0.1887446\ttotal: 1.13s\tremaining: 748ms\n",
      "601:\tlearn: 0.1886634\ttotal: 1.13s\tremaining: 746ms\n",
      "602:\tlearn: 0.1885865\ttotal: 1.13s\tremaining: 744ms\n",
      "603:\tlearn: 0.1885247\ttotal: 1.13s\tremaining: 742ms\n",
      "604:\tlearn: 0.1884197\ttotal: 1.13s\tremaining: 741ms\n",
      "605:\tlearn: 0.1883376\ttotal: 1.14s\tremaining: 739ms\n",
      "606:\tlearn: 0.1882642\ttotal: 1.14s\tremaining: 737ms\n",
      "607:\tlearn: 0.1881779\ttotal: 1.14s\tremaining: 736ms\n",
      "608:\tlearn: 0.1880914\ttotal: 1.14s\tremaining: 734ms\n",
      "609:\tlearn: 0.1880405\ttotal: 1.15s\tremaining: 732ms\n",
      "610:\tlearn: 0.1879694\ttotal: 1.15s\tremaining: 730ms\n",
      "611:\tlearn: 0.1878995\ttotal: 1.15s\tremaining: 729ms\n",
      "612:\tlearn: 0.1878325\ttotal: 1.15s\tremaining: 727ms\n",
      "613:\tlearn: 0.1877692\ttotal: 1.15s\tremaining: 725ms\n",
      "614:\tlearn: 0.1876888\ttotal: 1.16s\tremaining: 724ms\n",
      "615:\tlearn: 0.1876304\ttotal: 1.16s\tremaining: 722ms\n",
      "616:\tlearn: 0.1875907\ttotal: 1.16s\tremaining: 720ms\n",
      "617:\tlearn: 0.1875502\ttotal: 1.16s\tremaining: 718ms\n",
      "618:\tlearn: 0.1874927\ttotal: 1.16s\tremaining: 716ms\n",
      "619:\tlearn: 0.1874515\ttotal: 1.17s\tremaining: 715ms\n",
      "620:\tlearn: 0.1873646\ttotal: 1.17s\tremaining: 713ms\n",
      "621:\tlearn: 0.1873072\ttotal: 1.17s\tremaining: 711ms\n",
      "622:\tlearn: 0.1872381\ttotal: 1.17s\tremaining: 709ms\n",
      "623:\tlearn: 0.1871756\ttotal: 1.17s\tremaining: 707ms\n",
      "624:\tlearn: 0.1871018\ttotal: 1.18s\tremaining: 706ms\n",
      "625:\tlearn: 0.1870354\ttotal: 1.18s\tremaining: 704ms\n",
      "626:\tlearn: 0.1869757\ttotal: 1.18s\tremaining: 702ms\n",
      "627:\tlearn: 0.1869338\ttotal: 1.18s\tremaining: 700ms\n",
      "628:\tlearn: 0.1868527\ttotal: 1.18s\tremaining: 699ms\n",
      "629:\tlearn: 0.1867730\ttotal: 1.19s\tremaining: 697ms\n",
      "630:\tlearn: 0.1867127\ttotal: 1.19s\tremaining: 695ms\n",
      "631:\tlearn: 0.1866529\ttotal: 1.19s\tremaining: 694ms\n",
      "632:\tlearn: 0.1865743\ttotal: 1.19s\tremaining: 692ms\n",
      "633:\tlearn: 0.1865210\ttotal: 1.2s\tremaining: 690ms\n",
      "634:\tlearn: 0.1864595\ttotal: 1.2s\tremaining: 688ms\n",
      "635:\tlearn: 0.1864130\ttotal: 1.2s\tremaining: 686ms\n",
      "636:\tlearn: 0.1863387\ttotal: 1.2s\tremaining: 685ms\n",
      "637:\tlearn: 0.1862821\ttotal: 1.2s\tremaining: 683ms\n",
      "638:\tlearn: 0.1862246\ttotal: 1.21s\tremaining: 681ms\n",
      "639:\tlearn: 0.1861790\ttotal: 1.21s\tremaining: 679ms\n",
      "640:\tlearn: 0.1861273\ttotal: 1.21s\tremaining: 678ms\n",
      "641:\tlearn: 0.1860483\ttotal: 1.21s\tremaining: 676ms\n",
      "642:\tlearn: 0.1859758\ttotal: 1.21s\tremaining: 674ms\n",
      "643:\tlearn: 0.1859159\ttotal: 1.22s\tremaining: 672ms\n",
      "644:\tlearn: 0.1858573\ttotal: 1.22s\tremaining: 671ms\n",
      "645:\tlearn: 0.1857912\ttotal: 1.22s\tremaining: 669ms\n",
      "646:\tlearn: 0.1857445\ttotal: 1.22s\tremaining: 667ms\n",
      "647:\tlearn: 0.1856508\ttotal: 1.23s\tremaining: 666ms\n",
      "648:\tlearn: 0.1856057\ttotal: 1.23s\tremaining: 664ms\n",
      "649:\tlearn: 0.1855307\ttotal: 1.23s\tremaining: 662ms\n",
      "650:\tlearn: 0.1854757\ttotal: 1.23s\tremaining: 661ms\n",
      "651:\tlearn: 0.1854379\ttotal: 1.23s\tremaining: 659ms\n",
      "652:\tlearn: 0.1853758\ttotal: 1.24s\tremaining: 658ms\n",
      "653:\tlearn: 0.1852901\ttotal: 1.24s\tremaining: 656ms\n",
      "654:\tlearn: 0.1852333\ttotal: 1.24s\tremaining: 654ms\n",
      "655:\tlearn: 0.1851671\ttotal: 1.25s\tremaining: 653ms\n",
      "656:\tlearn: 0.1850755\ttotal: 1.25s\tremaining: 651ms\n",
      "657:\tlearn: 0.1850292\ttotal: 1.25s\tremaining: 650ms\n",
      "658:\tlearn: 0.1849168\ttotal: 1.25s\tremaining: 648ms\n",
      "659:\tlearn: 0.1848785\ttotal: 1.25s\tremaining: 646ms\n",
      "660:\tlearn: 0.1848291\ttotal: 1.25s\tremaining: 644ms\n",
      "661:\tlearn: 0.1847609\ttotal: 1.26s\tremaining: 642ms\n",
      "662:\tlearn: 0.1847236\ttotal: 1.26s\tremaining: 641ms\n",
      "663:\tlearn: 0.1846840\ttotal: 1.26s\tremaining: 639ms\n",
      "664:\tlearn: 0.1846116\ttotal: 1.26s\tremaining: 637ms\n",
      "665:\tlearn: 0.1845476\ttotal: 1.27s\tremaining: 635ms\n",
      "666:\tlearn: 0.1845062\ttotal: 1.27s\tremaining: 634ms\n",
      "667:\tlearn: 0.1844216\ttotal: 1.27s\tremaining: 632ms\n",
      "668:\tlearn: 0.1843575\ttotal: 1.27s\tremaining: 630ms\n",
      "669:\tlearn: 0.1843150\ttotal: 1.27s\tremaining: 628ms\n",
      "670:\tlearn: 0.1842444\ttotal: 1.28s\tremaining: 626ms\n",
      "671:\tlearn: 0.1841891\ttotal: 1.28s\tremaining: 624ms\n",
      "672:\tlearn: 0.1841332\ttotal: 1.28s\tremaining: 623ms\n",
      "673:\tlearn: 0.1840839\ttotal: 1.28s\tremaining: 621ms\n",
      "674:\tlearn: 0.1840485\ttotal: 1.28s\tremaining: 619ms\n",
      "675:\tlearn: 0.1839955\ttotal: 1.29s\tremaining: 617ms\n",
      "676:\tlearn: 0.1839364\ttotal: 1.29s\tremaining: 615ms\n",
      "677:\tlearn: 0.1838754\ttotal: 1.29s\tremaining: 614ms\n",
      "678:\tlearn: 0.1838139\ttotal: 1.29s\tremaining: 612ms\n",
      "679:\tlearn: 0.1837766\ttotal: 1.3s\tremaining: 610ms\n",
      "680:\tlearn: 0.1837087\ttotal: 1.3s\tremaining: 608ms\n",
      "681:\tlearn: 0.1836553\ttotal: 1.3s\tremaining: 606ms\n",
      "682:\tlearn: 0.1835959\ttotal: 1.3s\tremaining: 604ms\n",
      "683:\tlearn: 0.1835474\ttotal: 1.3s\tremaining: 603ms\n",
      "684:\tlearn: 0.1835082\ttotal: 1.31s\tremaining: 601ms\n",
      "685:\tlearn: 0.1834640\ttotal: 1.31s\tremaining: 599ms\n",
      "686:\tlearn: 0.1834155\ttotal: 1.31s\tremaining: 597ms\n",
      "687:\tlearn: 0.1833540\ttotal: 1.31s\tremaining: 595ms\n",
      "688:\tlearn: 0.1832748\ttotal: 1.31s\tremaining: 594ms\n",
      "689:\tlearn: 0.1832221\ttotal: 1.32s\tremaining: 592ms\n",
      "690:\tlearn: 0.1831848\ttotal: 1.32s\tremaining: 590ms\n",
      "691:\tlearn: 0.1831241\ttotal: 1.32s\tremaining: 588ms\n",
      "692:\tlearn: 0.1830549\ttotal: 1.32s\tremaining: 586ms\n",
      "693:\tlearn: 0.1830173\ttotal: 1.32s\tremaining: 584ms\n",
      "694:\tlearn: 0.1829561\ttotal: 1.33s\tremaining: 582ms\n",
      "695:\tlearn: 0.1829014\ttotal: 1.33s\tremaining: 581ms\n",
      "696:\tlearn: 0.1828252\ttotal: 1.33s\tremaining: 579ms\n",
      "697:\tlearn: 0.1827616\ttotal: 1.33s\tremaining: 577ms\n",
      "698:\tlearn: 0.1826959\ttotal: 1.33s\tremaining: 575ms\n",
      "699:\tlearn: 0.1826381\ttotal: 1.34s\tremaining: 573ms\n",
      "700:\tlearn: 0.1825885\ttotal: 1.34s\tremaining: 571ms\n",
      "701:\tlearn: 0.1825318\ttotal: 1.34s\tremaining: 570ms\n",
      "702:\tlearn: 0.1824704\ttotal: 1.34s\tremaining: 568ms\n",
      "703:\tlearn: 0.1824384\ttotal: 1.35s\tremaining: 566ms\n",
      "704:\tlearn: 0.1824018\ttotal: 1.35s\tremaining: 564ms\n",
      "705:\tlearn: 0.1823392\ttotal: 1.35s\tremaining: 562ms\n",
      "706:\tlearn: 0.1822608\ttotal: 1.35s\tremaining: 560ms\n",
      "707:\tlearn: 0.1822075\ttotal: 1.35s\tremaining: 559ms\n",
      "708:\tlearn: 0.1821669\ttotal: 1.36s\tremaining: 557ms\n",
      "709:\tlearn: 0.1821007\ttotal: 1.36s\tremaining: 555ms\n",
      "710:\tlearn: 0.1820508\ttotal: 1.36s\tremaining: 553ms\n",
      "711:\tlearn: 0.1820101\ttotal: 1.36s\tremaining: 551ms\n",
      "712:\tlearn: 0.1819435\ttotal: 1.36s\tremaining: 549ms\n",
      "713:\tlearn: 0.1818630\ttotal: 1.37s\tremaining: 548ms\n",
      "714:\tlearn: 0.1818202\ttotal: 1.37s\tremaining: 546ms\n",
      "715:\tlearn: 0.1817469\ttotal: 1.37s\tremaining: 544ms\n",
      "716:\tlearn: 0.1816920\ttotal: 1.37s\tremaining: 542ms\n",
      "717:\tlearn: 0.1816390\ttotal: 1.38s\tremaining: 540ms\n",
      "718:\tlearn: 0.1815640\ttotal: 1.38s\tremaining: 538ms\n",
      "719:\tlearn: 0.1815203\ttotal: 1.38s\tremaining: 537ms\n",
      "720:\tlearn: 0.1814685\ttotal: 1.38s\tremaining: 535ms\n",
      "721:\tlearn: 0.1813989\ttotal: 1.38s\tremaining: 533ms\n",
      "722:\tlearn: 0.1813496\ttotal: 1.39s\tremaining: 531ms\n",
      "723:\tlearn: 0.1812685\ttotal: 1.39s\tremaining: 529ms\n",
      "724:\tlearn: 0.1812104\ttotal: 1.39s\tremaining: 527ms\n",
      "725:\tlearn: 0.1811465\ttotal: 1.39s\tremaining: 525ms\n",
      "726:\tlearn: 0.1810970\ttotal: 1.39s\tremaining: 523ms\n",
      "727:\tlearn: 0.1810093\ttotal: 1.4s\tremaining: 522ms\n",
      "728:\tlearn: 0.1809614\ttotal: 1.4s\tremaining: 520ms\n",
      "729:\tlearn: 0.1809018\ttotal: 1.4s\tremaining: 518ms\n",
      "730:\tlearn: 0.1808519\ttotal: 1.4s\tremaining: 516ms\n",
      "731:\tlearn: 0.1808076\ttotal: 1.4s\tremaining: 514ms\n",
      "732:\tlearn: 0.1807614\ttotal: 1.41s\tremaining: 512ms\n",
      "733:\tlearn: 0.1807314\ttotal: 1.41s\tremaining: 511ms\n",
      "734:\tlearn: 0.1806705\ttotal: 1.41s\tremaining: 509ms\n",
      "735:\tlearn: 0.1806245\ttotal: 1.41s\tremaining: 507ms\n",
      "736:\tlearn: 0.1805729\ttotal: 1.41s\tremaining: 505ms\n",
      "737:\tlearn: 0.1804762\ttotal: 1.42s\tremaining: 503ms\n",
      "738:\tlearn: 0.1803833\ttotal: 1.42s\tremaining: 501ms\n",
      "739:\tlearn: 0.1803304\ttotal: 1.42s\tremaining: 500ms\n",
      "740:\tlearn: 0.1802870\ttotal: 1.42s\tremaining: 498ms\n",
      "741:\tlearn: 0.1802298\ttotal: 1.43s\tremaining: 496ms\n",
      "742:\tlearn: 0.1801667\ttotal: 1.43s\tremaining: 494ms\n",
      "743:\tlearn: 0.1801109\ttotal: 1.43s\tremaining: 493ms\n",
      "744:\tlearn: 0.1800437\ttotal: 1.43s\tremaining: 491ms\n",
      "745:\tlearn: 0.1799893\ttotal: 1.45s\tremaining: 495ms\n",
      "746:\tlearn: 0.1798958\ttotal: 1.47s\tremaining: 497ms\n",
      "747:\tlearn: 0.1798531\ttotal: 1.47s\tremaining: 495ms\n",
      "748:\tlearn: 0.1798128\ttotal: 1.47s\tremaining: 493ms\n",
      "749:\tlearn: 0.1797478\ttotal: 1.48s\tremaining: 492ms\n",
      "750:\tlearn: 0.1797164\ttotal: 1.48s\tremaining: 491ms\n",
      "751:\tlearn: 0.1796506\ttotal: 1.48s\tremaining: 489ms\n",
      "752:\tlearn: 0.1795987\ttotal: 1.49s\tremaining: 487ms\n",
      "753:\tlearn: 0.1795335\ttotal: 1.49s\tremaining: 485ms\n",
      "754:\tlearn: 0.1794825\ttotal: 1.49s\tremaining: 484ms\n",
      "755:\tlearn: 0.1794376\ttotal: 1.49s\tremaining: 482ms\n",
      "756:\tlearn: 0.1793834\ttotal: 1.5s\tremaining: 480ms\n",
      "757:\tlearn: 0.1793282\ttotal: 1.5s\tremaining: 478ms\n",
      "758:\tlearn: 0.1792883\ttotal: 1.5s\tremaining: 476ms\n",
      "759:\tlearn: 0.1792400\ttotal: 1.5s\tremaining: 474ms\n",
      "760:\tlearn: 0.1791975\ttotal: 1.5s\tremaining: 473ms\n",
      "761:\tlearn: 0.1791412\ttotal: 1.51s\tremaining: 471ms\n",
      "762:\tlearn: 0.1791007\ttotal: 1.51s\tremaining: 469ms\n",
      "763:\tlearn: 0.1790248\ttotal: 1.51s\tremaining: 467ms\n",
      "764:\tlearn: 0.1789744\ttotal: 1.51s\tremaining: 465ms\n",
      "765:\tlearn: 0.1789090\ttotal: 1.51s\tremaining: 463ms\n",
      "766:\tlearn: 0.1788721\ttotal: 1.52s\tremaining: 461ms\n",
      "767:\tlearn: 0.1788182\ttotal: 1.52s\tremaining: 459ms\n",
      "768:\tlearn: 0.1787824\ttotal: 1.52s\tremaining: 457ms\n",
      "769:\tlearn: 0.1787310\ttotal: 1.52s\tremaining: 455ms\n",
      "770:\tlearn: 0.1786665\ttotal: 1.53s\tremaining: 453ms\n",
      "771:\tlearn: 0.1786034\ttotal: 1.53s\tremaining: 451ms\n",
      "772:\tlearn: 0.1785359\ttotal: 1.53s\tremaining: 450ms\n",
      "773:\tlearn: 0.1784788\ttotal: 1.53s\tremaining: 448ms\n",
      "774:\tlearn: 0.1784294\ttotal: 1.53s\tremaining: 446ms\n",
      "775:\tlearn: 0.1784046\ttotal: 1.54s\tremaining: 444ms\n",
      "776:\tlearn: 0.1783313\ttotal: 1.54s\tremaining: 442ms\n",
      "777:\tlearn: 0.1782814\ttotal: 1.54s\tremaining: 440ms\n",
      "778:\tlearn: 0.1782450\ttotal: 1.54s\tremaining: 438ms\n",
      "779:\tlearn: 0.1782094\ttotal: 1.55s\tremaining: 436ms\n",
      "780:\tlearn: 0.1781677\ttotal: 1.55s\tremaining: 434ms\n",
      "781:\tlearn: 0.1781437\ttotal: 1.55s\tremaining: 432ms\n",
      "782:\tlearn: 0.1780497\ttotal: 1.55s\tremaining: 430ms\n",
      "783:\tlearn: 0.1780100\ttotal: 1.55s\tremaining: 428ms\n",
      "784:\tlearn: 0.1779365\ttotal: 1.56s\tremaining: 426ms\n",
      "785:\tlearn: 0.1778670\ttotal: 1.56s\tremaining: 424ms\n",
      "786:\tlearn: 0.1778065\ttotal: 1.56s\tremaining: 423ms\n",
      "787:\tlearn: 0.1777445\ttotal: 1.56s\tremaining: 421ms\n",
      "788:\tlearn: 0.1776953\ttotal: 1.56s\tremaining: 419ms\n",
      "789:\tlearn: 0.1776467\ttotal: 1.57s\tremaining: 417ms\n",
      "790:\tlearn: 0.1775885\ttotal: 1.57s\tremaining: 415ms\n",
      "791:\tlearn: 0.1775485\ttotal: 1.57s\tremaining: 413ms\n",
      "792:\tlearn: 0.1774467\ttotal: 1.57s\tremaining: 411ms\n",
      "793:\tlearn: 0.1773864\ttotal: 1.58s\tremaining: 409ms\n",
      "794:\tlearn: 0.1773344\ttotal: 1.58s\tremaining: 407ms\n",
      "795:\tlearn: 0.1772731\ttotal: 1.58s\tremaining: 405ms\n",
      "796:\tlearn: 0.1772161\ttotal: 1.58s\tremaining: 403ms\n",
      "797:\tlearn: 0.1771785\ttotal: 1.58s\tremaining: 401ms\n",
      "798:\tlearn: 0.1771317\ttotal: 1.59s\tremaining: 399ms\n",
      "799:\tlearn: 0.1770808\ttotal: 1.59s\tremaining: 397ms\n",
      "800:\tlearn: 0.1770339\ttotal: 1.59s\tremaining: 395ms\n",
      "801:\tlearn: 0.1769859\ttotal: 1.59s\tremaining: 393ms\n",
      "802:\tlearn: 0.1769540\ttotal: 1.59s\tremaining: 391ms\n",
      "803:\tlearn: 0.1768933\ttotal: 1.6s\tremaining: 389ms\n",
      "804:\tlearn: 0.1768446\ttotal: 1.6s\tremaining: 388ms\n",
      "805:\tlearn: 0.1767916\ttotal: 1.6s\tremaining: 386ms\n",
      "806:\tlearn: 0.1767270\ttotal: 1.6s\tremaining: 384ms\n",
      "807:\tlearn: 0.1766766\ttotal: 1.61s\tremaining: 382ms\n",
      "808:\tlearn: 0.1766089\ttotal: 1.61s\tremaining: 380ms\n",
      "809:\tlearn: 0.1765606\ttotal: 1.61s\tremaining: 378ms\n",
      "810:\tlearn: 0.1765349\ttotal: 1.61s\tremaining: 376ms\n",
      "811:\tlearn: 0.1764441\ttotal: 1.61s\tremaining: 374ms\n",
      "812:\tlearn: 0.1763998\ttotal: 1.62s\tremaining: 372ms\n",
      "813:\tlearn: 0.1763573\ttotal: 1.62s\tremaining: 370ms\n",
      "814:\tlearn: 0.1763245\ttotal: 1.62s\tremaining: 368ms\n",
      "815:\tlearn: 0.1762495\ttotal: 1.62s\tremaining: 366ms\n",
      "816:\tlearn: 0.1762013\ttotal: 1.63s\tremaining: 364ms\n",
      "817:\tlearn: 0.1761225\ttotal: 1.63s\tremaining: 363ms\n",
      "818:\tlearn: 0.1760784\ttotal: 1.63s\tremaining: 361ms\n",
      "819:\tlearn: 0.1760123\ttotal: 1.63s\tremaining: 359ms\n",
      "820:\tlearn: 0.1759723\ttotal: 1.64s\tremaining: 357ms\n",
      "821:\tlearn: 0.1759147\ttotal: 1.64s\tremaining: 355ms\n",
      "822:\tlearn: 0.1758832\ttotal: 1.64s\tremaining: 353ms\n",
      "823:\tlearn: 0.1758052\ttotal: 1.64s\tremaining: 351ms\n",
      "824:\tlearn: 0.1757616\ttotal: 1.65s\tremaining: 349ms\n",
      "825:\tlearn: 0.1757290\ttotal: 1.65s\tremaining: 347ms\n",
      "826:\tlearn: 0.1756779\ttotal: 1.65s\tremaining: 345ms\n",
      "827:\tlearn: 0.1756374\ttotal: 1.65s\tremaining: 343ms\n",
      "828:\tlearn: 0.1755863\ttotal: 1.66s\tremaining: 341ms\n",
      "829:\tlearn: 0.1755232\ttotal: 1.66s\tremaining: 339ms\n",
      "830:\tlearn: 0.1754879\ttotal: 1.66s\tremaining: 337ms\n",
      "831:\tlearn: 0.1754311\ttotal: 1.66s\tremaining: 335ms\n",
      "832:\tlearn: 0.1753678\ttotal: 1.66s\tremaining: 334ms\n",
      "833:\tlearn: 0.1753053\ttotal: 1.67s\tremaining: 332ms\n",
      "834:\tlearn: 0.1752458\ttotal: 1.67s\tremaining: 330ms\n",
      "835:\tlearn: 0.1751837\ttotal: 1.67s\tremaining: 328ms\n",
      "836:\tlearn: 0.1751478\ttotal: 1.67s\tremaining: 326ms\n",
      "837:\tlearn: 0.1750999\ttotal: 1.67s\tremaining: 324ms\n",
      "838:\tlearn: 0.1750505\ttotal: 1.68s\tremaining: 322ms\n",
      "839:\tlearn: 0.1750239\ttotal: 1.68s\tremaining: 320ms\n",
      "840:\tlearn: 0.1749643\ttotal: 1.68s\tremaining: 318ms\n",
      "841:\tlearn: 0.1748913\ttotal: 1.68s\tremaining: 316ms\n",
      "842:\tlearn: 0.1748458\ttotal: 1.68s\tremaining: 314ms\n",
      "843:\tlearn: 0.1748053\ttotal: 1.69s\tremaining: 312ms\n",
      "844:\tlearn: 0.1747378\ttotal: 1.69s\tremaining: 310ms\n",
      "845:\tlearn: 0.1747006\ttotal: 1.69s\tremaining: 308ms\n",
      "846:\tlearn: 0.1746541\ttotal: 1.69s\tremaining: 306ms\n",
      "847:\tlearn: 0.1746115\ttotal: 1.7s\tremaining: 304ms\n",
      "848:\tlearn: 0.1745722\ttotal: 1.7s\tremaining: 302ms\n",
      "849:\tlearn: 0.1745223\ttotal: 1.7s\tremaining: 300ms\n",
      "850:\tlearn: 0.1744824\ttotal: 1.7s\tremaining: 298ms\n",
      "851:\tlearn: 0.1744475\ttotal: 1.7s\tremaining: 296ms\n",
      "852:\tlearn: 0.1743929\ttotal: 1.71s\tremaining: 294ms\n",
      "853:\tlearn: 0.1743474\ttotal: 1.71s\tremaining: 292ms\n",
      "854:\tlearn: 0.1742711\ttotal: 1.71s\tremaining: 290ms\n",
      "855:\tlearn: 0.1742194\ttotal: 1.71s\tremaining: 288ms\n",
      "856:\tlearn: 0.1741722\ttotal: 1.71s\tremaining: 286ms\n",
      "857:\tlearn: 0.1741350\ttotal: 1.72s\tremaining: 284ms\n",
      "858:\tlearn: 0.1740886\ttotal: 1.72s\tremaining: 282ms\n",
      "859:\tlearn: 0.1740310\ttotal: 1.72s\tremaining: 280ms\n",
      "860:\tlearn: 0.1739977\ttotal: 1.72s\tremaining: 278ms\n",
      "861:\tlearn: 0.1739408\ttotal: 1.72s\tremaining: 276ms\n",
      "862:\tlearn: 0.1739067\ttotal: 1.73s\tremaining: 274ms\n",
      "863:\tlearn: 0.1738868\ttotal: 1.73s\tremaining: 272ms\n",
      "864:\tlearn: 0.1738360\ttotal: 1.73s\tremaining: 270ms\n",
      "865:\tlearn: 0.1737814\ttotal: 1.73s\tremaining: 268ms\n",
      "866:\tlearn: 0.1737446\ttotal: 1.73s\tremaining: 266ms\n",
      "867:\tlearn: 0.1736648\ttotal: 1.74s\tremaining: 264ms\n",
      "868:\tlearn: 0.1736206\ttotal: 1.74s\tremaining: 262ms\n",
      "869:\tlearn: 0.1735921\ttotal: 1.74s\tremaining: 260ms\n",
      "870:\tlearn: 0.1735372\ttotal: 1.74s\tremaining: 258ms\n",
      "871:\tlearn: 0.1734916\ttotal: 1.75s\tremaining: 256ms\n",
      "872:\tlearn: 0.1734647\ttotal: 1.75s\tremaining: 254ms\n",
      "873:\tlearn: 0.1734107\ttotal: 1.75s\tremaining: 252ms\n",
      "874:\tlearn: 0.1733582\ttotal: 1.75s\tremaining: 250ms\n",
      "875:\tlearn: 0.1733104\ttotal: 1.75s\tremaining: 248ms\n",
      "876:\tlearn: 0.1732406\ttotal: 1.75s\tremaining: 246ms\n",
      "877:\tlearn: 0.1732150\ttotal: 1.76s\tremaining: 244ms\n",
      "878:\tlearn: 0.1731664\ttotal: 1.76s\tremaining: 242ms\n",
      "879:\tlearn: 0.1731244\ttotal: 1.76s\tremaining: 240ms\n",
      "880:\tlearn: 0.1730846\ttotal: 1.76s\tremaining: 238ms\n",
      "881:\tlearn: 0.1730412\ttotal: 1.77s\tremaining: 236ms\n",
      "882:\tlearn: 0.1730129\ttotal: 1.77s\tremaining: 234ms\n",
      "883:\tlearn: 0.1729730\ttotal: 1.77s\tremaining: 232ms\n",
      "884:\tlearn: 0.1729102\ttotal: 1.77s\tremaining: 230ms\n",
      "885:\tlearn: 0.1728795\ttotal: 1.77s\tremaining: 228ms\n",
      "886:\tlearn: 0.1728180\ttotal: 1.78s\tremaining: 226ms\n",
      "887:\tlearn: 0.1727842\ttotal: 1.78s\tremaining: 224ms\n",
      "888:\tlearn: 0.1727306\ttotal: 1.78s\tremaining: 222ms\n",
      "889:\tlearn: 0.1726948\ttotal: 1.78s\tremaining: 220ms\n",
      "890:\tlearn: 0.1726446\ttotal: 1.78s\tremaining: 218ms\n",
      "891:\tlearn: 0.1725851\ttotal: 1.79s\tremaining: 216ms\n",
      "892:\tlearn: 0.1725411\ttotal: 1.79s\tremaining: 214ms\n",
      "893:\tlearn: 0.1724897\ttotal: 1.79s\tremaining: 212ms\n",
      "894:\tlearn: 0.1724523\ttotal: 1.79s\tremaining: 210ms\n",
      "895:\tlearn: 0.1724206\ttotal: 1.79s\tremaining: 208ms\n",
      "896:\tlearn: 0.1723939\ttotal: 1.8s\tremaining: 206ms\n",
      "897:\tlearn: 0.1723546\ttotal: 1.8s\tremaining: 204ms\n",
      "898:\tlearn: 0.1723248\ttotal: 1.8s\tremaining: 202ms\n",
      "899:\tlearn: 0.1722566\ttotal: 1.8s\tremaining: 200ms\n",
      "900:\tlearn: 0.1721970\ttotal: 1.8s\tremaining: 198ms\n",
      "901:\tlearn: 0.1721449\ttotal: 1.81s\tremaining: 196ms\n",
      "902:\tlearn: 0.1721109\ttotal: 1.81s\tremaining: 194ms\n",
      "903:\tlearn: 0.1720564\ttotal: 1.81s\tremaining: 192ms\n",
      "904:\tlearn: 0.1719983\ttotal: 1.81s\tremaining: 190ms\n",
      "905:\tlearn: 0.1719641\ttotal: 1.81s\tremaining: 188ms\n",
      "906:\tlearn: 0.1719124\ttotal: 1.82s\tremaining: 186ms\n",
      "907:\tlearn: 0.1718562\ttotal: 1.82s\tremaining: 184ms\n",
      "908:\tlearn: 0.1717969\ttotal: 1.82s\tremaining: 182ms\n",
      "909:\tlearn: 0.1717285\ttotal: 1.82s\tremaining: 180ms\n",
      "910:\tlearn: 0.1716858\ttotal: 1.83s\tremaining: 178ms\n",
      "911:\tlearn: 0.1716497\ttotal: 1.83s\tremaining: 177ms\n",
      "912:\tlearn: 0.1716126\ttotal: 1.83s\tremaining: 175ms\n",
      "913:\tlearn: 0.1715661\ttotal: 1.83s\tremaining: 173ms\n",
      "914:\tlearn: 0.1715283\ttotal: 1.84s\tremaining: 171ms\n",
      "915:\tlearn: 0.1714612\ttotal: 1.84s\tremaining: 169ms\n",
      "916:\tlearn: 0.1714227\ttotal: 1.84s\tremaining: 167ms\n",
      "917:\tlearn: 0.1713904\ttotal: 1.84s\tremaining: 165ms\n",
      "918:\tlearn: 0.1713488\ttotal: 1.85s\tremaining: 163ms\n",
      "919:\tlearn: 0.1712984\ttotal: 1.85s\tremaining: 161ms\n",
      "920:\tlearn: 0.1712617\ttotal: 1.85s\tremaining: 159ms\n",
      "921:\tlearn: 0.1712327\ttotal: 1.85s\tremaining: 157ms\n",
      "922:\tlearn: 0.1711789\ttotal: 1.86s\tremaining: 155ms\n",
      "923:\tlearn: 0.1711291\ttotal: 1.86s\tremaining: 153ms\n",
      "924:\tlearn: 0.1711046\ttotal: 1.86s\tremaining: 151ms\n",
      "925:\tlearn: 0.1710608\ttotal: 1.86s\tremaining: 149ms\n",
      "926:\tlearn: 0.1710225\ttotal: 1.86s\tremaining: 147ms\n",
      "927:\tlearn: 0.1709906\ttotal: 1.87s\tremaining: 145ms\n",
      "928:\tlearn: 0.1709360\ttotal: 1.87s\tremaining: 143ms\n",
      "929:\tlearn: 0.1708582\ttotal: 1.87s\tremaining: 141ms\n",
      "930:\tlearn: 0.1708318\ttotal: 1.87s\tremaining: 139ms\n",
      "931:\tlearn: 0.1707966\ttotal: 1.88s\tremaining: 137ms\n",
      "932:\tlearn: 0.1707395\ttotal: 1.88s\tremaining: 135ms\n",
      "933:\tlearn: 0.1707026\ttotal: 1.88s\tremaining: 133ms\n",
      "934:\tlearn: 0.1706534\ttotal: 1.88s\tremaining: 131ms\n",
      "935:\tlearn: 0.1706099\ttotal: 1.88s\tremaining: 129ms\n",
      "936:\tlearn: 0.1705647\ttotal: 1.89s\tremaining: 127ms\n",
      "937:\tlearn: 0.1704934\ttotal: 1.89s\tremaining: 125ms\n",
      "938:\tlearn: 0.1704579\ttotal: 1.89s\tremaining: 123ms\n",
      "939:\tlearn: 0.1704149\ttotal: 1.89s\tremaining: 121ms\n",
      "940:\tlearn: 0.1703595\ttotal: 1.9s\tremaining: 119ms\n",
      "941:\tlearn: 0.1703134\ttotal: 1.9s\tremaining: 117ms\n",
      "942:\tlearn: 0.1702733\ttotal: 1.9s\tremaining: 115ms\n",
      "943:\tlearn: 0.1702255\ttotal: 1.9s\tremaining: 113ms\n",
      "944:\tlearn: 0.1701926\ttotal: 1.9s\tremaining: 111ms\n",
      "945:\tlearn: 0.1701528\ttotal: 1.91s\tremaining: 109ms\n",
      "946:\tlearn: 0.1701006\ttotal: 1.91s\tremaining: 107ms\n",
      "947:\tlearn: 0.1700742\ttotal: 1.91s\tremaining: 105ms\n",
      "948:\tlearn: 0.1700253\ttotal: 1.91s\tremaining: 103ms\n",
      "949:\tlearn: 0.1699849\ttotal: 1.91s\tremaining: 101ms\n",
      "950:\tlearn: 0.1699440\ttotal: 1.92s\tremaining: 98.7ms\n",
      "951:\tlearn: 0.1698788\ttotal: 1.92s\tremaining: 96.7ms\n",
      "952:\tlearn: 0.1698344\ttotal: 1.92s\tremaining: 94.7ms\n",
      "953:\tlearn: 0.1697721\ttotal: 1.92s\tremaining: 92.7ms\n",
      "954:\tlearn: 0.1697192\ttotal: 1.92s\tremaining: 90.7ms\n",
      "955:\tlearn: 0.1696820\ttotal: 1.93s\tremaining: 88.7ms\n",
      "956:\tlearn: 0.1696409\ttotal: 1.93s\tremaining: 86.7ms\n",
      "957:\tlearn: 0.1696060\ttotal: 1.93s\tremaining: 84.7ms\n",
      "958:\tlearn: 0.1695521\ttotal: 1.93s\tremaining: 82.7ms\n",
      "959:\tlearn: 0.1695195\ttotal: 1.94s\tremaining: 80.6ms\n",
      "960:\tlearn: 0.1694702\ttotal: 1.94s\tremaining: 78.6ms\n",
      "961:\tlearn: 0.1694301\ttotal: 1.94s\tremaining: 76.6ms\n",
      "962:\tlearn: 0.1693540\ttotal: 1.94s\tremaining: 74.6ms\n",
      "963:\tlearn: 0.1693174\ttotal: 1.94s\tremaining: 72.6ms\n",
      "964:\tlearn: 0.1692722\ttotal: 1.95s\tremaining: 70.6ms\n",
      "965:\tlearn: 0.1692365\ttotal: 1.95s\tremaining: 68.6ms\n",
      "966:\tlearn: 0.1692077\ttotal: 1.95s\tremaining: 66.5ms\n",
      "967:\tlearn: 0.1691588\ttotal: 1.95s\tremaining: 64.5ms\n",
      "968:\tlearn: 0.1691295\ttotal: 1.95s\tremaining: 62.5ms\n",
      "969:\tlearn: 0.1690682\ttotal: 1.96s\tremaining: 60.5ms\n",
      "970:\tlearn: 0.1690413\ttotal: 1.96s\tremaining: 58.5ms\n",
      "971:\tlearn: 0.1689963\ttotal: 1.96s\tremaining: 56.5ms\n",
      "972:\tlearn: 0.1689617\ttotal: 1.96s\tremaining: 54.5ms\n",
      "973:\tlearn: 0.1689216\ttotal: 1.97s\tremaining: 52.5ms\n",
      "974:\tlearn: 0.1688747\ttotal: 1.97s\tremaining: 50.4ms\n",
      "975:\tlearn: 0.1688236\ttotal: 1.97s\tremaining: 48.4ms\n",
      "976:\tlearn: 0.1688042\ttotal: 1.97s\tremaining: 46.4ms\n",
      "977:\tlearn: 0.1687590\ttotal: 1.97s\tremaining: 44.4ms\n",
      "978:\tlearn: 0.1687236\ttotal: 1.98s\tremaining: 42.4ms\n",
      "979:\tlearn: 0.1686865\ttotal: 1.98s\tremaining: 40.4ms\n",
      "980:\tlearn: 0.1686606\ttotal: 1.98s\tremaining: 38.4ms\n",
      "981:\tlearn: 0.1686203\ttotal: 1.98s\tremaining: 36.3ms\n",
      "982:\tlearn: 0.1685288\ttotal: 1.99s\tremaining: 34.3ms\n",
      "983:\tlearn: 0.1685005\ttotal: 1.99s\tremaining: 32.3ms\n",
      "984:\tlearn: 0.1684232\ttotal: 1.99s\tremaining: 30.3ms\n",
      "985:\tlearn: 0.1683892\ttotal: 1.99s\tremaining: 28.3ms\n",
      "986:\tlearn: 0.1683328\ttotal: 1.99s\tremaining: 26.3ms\n",
      "987:\tlearn: 0.1682717\ttotal: 2s\tremaining: 24.2ms\n",
      "988:\tlearn: 0.1682295\ttotal: 2s\tremaining: 22.2ms\n",
      "989:\tlearn: 0.1681982\ttotal: 2s\tremaining: 20.2ms\n",
      "990:\tlearn: 0.1681658\ttotal: 2s\tremaining: 18.2ms\n",
      "991:\tlearn: 0.1681207\ttotal: 2s\tremaining: 16.2ms\n",
      "992:\tlearn: 0.1680957\ttotal: 2s\tremaining: 14.1ms\n",
      "993:\tlearn: 0.1680575\ttotal: 2.01s\tremaining: 12.1ms\n",
      "994:\tlearn: 0.1680225\ttotal: 2.01s\tremaining: 10.1ms\n",
      "995:\tlearn: 0.1679901\ttotal: 2.01s\tremaining: 8.08ms\n",
      "996:\tlearn: 0.1679590\ttotal: 2.01s\tremaining: 6.06ms\n",
      "997:\tlearn: 0.1678920\ttotal: 2.02s\tremaining: 4.04ms\n",
      "998:\tlearn: 0.1678546\ttotal: 2.02s\tremaining: 2.02ms\n",
      "999:\tlearn: 0.1677973\ttotal: 2.02s\tremaining: 0us\n",
      "0.2205112504809162 0.8501838416230987\n"
     ]
    }
   ],
   "source": [
    "catboost= CatBoostRegressor()\n",
    "catboost.fit(X_train, y_train)\n",
    "predictions_catboost = catboost.predict(X_test)"
   ]
  },
  {
   "cell_type": "code",
   "execution_count": 56,
   "id": "94062381-b1c0-47a9-9028-5b62ed4070b2",
   "metadata": {
    "tags": []
   },
   "outputs": [
    {
     "name": "stdout",
     "output_type": "stream",
     "text": [
      "0.2205112504809162 0.8501838416230987\n"
     ]
    }
   ],
   "source": [
    "rmse = np.sqrt(mean_squared_error(y_test,predictions_catboost))\n",
    "r2 = r2_score(y_test,predictions_catboost)\n",
    "print(rmse,r2)"
   ]
  },
  {
   "cell_type": "markdown",
   "id": "d814a8d1-61ef-4af9-82f8-6a3c84790881",
   "metadata": {
    "tags": []
   },
   "source": [
    "#### XGBoost"
   ]
  },
  {
   "cell_type": "code",
   "execution_count": 53,
   "id": "c025eb12-3602-4482-96bf-2097f1f6e3a4",
   "metadata": {
    "tags": []
   },
   "outputs": [],
   "source": [
    "from xgboost import XGBRegressor"
   ]
  },
  {
   "cell_type": "code",
   "execution_count": 65,
   "id": "87a4014f-43b0-466e-9660-4c1614528d97",
   "metadata": {
    "tags": []
   },
   "outputs": [],
   "source": [
    "xgb = XGBRegressor()\n",
    "xgb.fit(X_train, y_train)\n",
    "predictions_xgb = xgb.predict(X_test)"
   ]
  },
  {
   "cell_type": "code",
   "execution_count": 66,
   "id": "8c6d79a4-eb6a-44e3-943b-4bf40892df75",
   "metadata": {
    "tags": []
   },
   "outputs": [
    {
     "name": "stdout",
     "output_type": "stream",
     "text": [
      "0.23215147603571726 0.833949552238219\n"
     ]
    }
   ],
   "source": [
    "rmse = np.sqrt(mean_squared_error(y_test,predictions_xgb))\n",
    "r2 = r2_score(y_test,predictions_xgb)\n",
    "print(rmse,r2)"
   ]
  },
  {
   "cell_type": "markdown",
   "id": "78389be0-ca44-43a6-be89-f6bca2474f47",
   "metadata": {},
   "source": [
    "#### LightBGM"
   ]
  },
  {
   "cell_type": "code",
   "execution_count": 67,
   "id": "ac6540c9-8631-4646-b26f-27f851bbc503",
   "metadata": {
    "tags": []
   },
   "outputs": [],
   "source": [
    "from lightgbm import LGBMRegressor"
   ]
  },
  {
   "cell_type": "code",
   "execution_count": 68,
   "id": "86bf58f9-d763-46b6-931b-34cb5a191b89",
   "metadata": {
    "tags": []
   },
   "outputs": [
    {
     "name": "stdout",
     "output_type": "stream",
     "text": [
      "[LightGBM] [Info] Auto-choosing row-wise multi-threading, the overhead of testing was 0.000145 seconds.\n",
      "You can set `force_row_wise=true` to remove the overhead.\n",
      "And if memory is not enough, you can set `force_col_wise=true`.\n",
      "[LightGBM] [Info] Total Bins 2099\n",
      "[LightGBM] [Info] Number of data points in the train set: 16512, number of used features: 10\n",
      "[LightGBM] [Info] Start training from score 12.086494\n"
     ]
    }
   ],
   "source": [
    "lgbm = LGBMRegressor()\n",
    "lgbm.fit(X_train, y_train)\n",
    "predictions_lgbm = lgbm.predict(X_test)"
   ]
  },
  {
   "cell_type": "code",
   "execution_count": 69,
   "id": "b822c8a7-7019-4091-b687-e9217f7242d9",
   "metadata": {
    "tags": []
   },
   "outputs": [
    {
     "name": "stdout",
     "output_type": "stream",
     "text": [
      "0.23141697343233006 0.8349986219828225\n"
     ]
    }
   ],
   "source": [
    "rmse = np.sqrt(mean_squared_error(y_test,predictions_lgbm))\n",
    "r2 = r2_score(y_test,predictions_lgbm)\n",
    "print(rmse,r2)"
   ]
  },
  {
   "cell_type": "markdown",
   "id": "4079c0b2-7da4-4a9e-ad1d-68181e040fef",
   "metadata": {},
   "source": [
    "### Ensemble\n",
    "- 결정트리\n",
    "- 랜덤 포레스트"
   ]
  },
  {
   "cell_type": "code",
   "execution_count": 70,
   "id": "6e42baf5-8462-447d-b3cc-57fdef1ffa96",
   "metadata": {
    "tags": []
   },
   "outputs": [],
   "source": [
    "# 원시적 앙상블\n",
    "final_predictions = (\n",
    "    0.25 * predictions_rf +\n",
    "    0.25 * predictions_catboost +\n",
    "    0.25 * predictions_xgb +\n",
    "    0.25 * predictions_lgbm \n",
    ")"
   ]
  },
  {
   "cell_type": "code",
   "execution_count": 71,
   "id": "0da715c9-0dcf-4483-ac47-db7d68547451",
   "metadata": {
    "tags": []
   },
   "outputs": [
    {
     "name": "stdout",
     "output_type": "stream",
     "text": [
      "0.22044648152196236 0.8502718372381614\n"
     ]
    }
   ],
   "source": [
    "rmse = np.sqrt(mean_squared_error(y_test,final_predictions))\n",
    "r2 = r2_score(y_test,final_predictions)\n",
    "print(rmse,r2)"
   ]
  },
  {
   "cell_type": "code",
   "execution_count": null,
   "id": "37b32e2c-4f12-4cbc-9ed4-99983fe57bc3",
   "metadata": {},
   "outputs": [],
   "source": []
  }
 ],
 "metadata": {
  "kernelspec": {
   "display_name": "Python 3 (ipykernel)",
   "language": "python",
   "name": "python3"
  },
  "language_info": {
   "codemirror_mode": {
    "name": "ipython",
    "version": 3
   },
   "file_extension": ".py",
   "mimetype": "text/x-python",
   "name": "python",
   "nbconvert_exporter": "python",
   "pygments_lexer": "ipython3",
   "version": "3.11.5"
  }
 },
 "nbformat": 4,
 "nbformat_minor": 5
}
