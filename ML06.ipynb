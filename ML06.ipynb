{
 "cells": [
  {
   "cell_type": "markdown",
   "id": "74f6869a-0d6e-4a1a-81b2-cbe58e653753",
   "metadata": {},
   "source": []
  },
  {
   "cell_type": "code",
   "execution_count": 4,
   "id": "8e67925c-bca2-402d-bd5c-c76f1a49b063",
   "metadata": {
    "tags": []
   },
   "outputs": [],
   "source": [
    "import numpy as np\n",
    "import pandas as pd\n",
    "from preamble import *\n",
    "import matplotlib.pyplot as plt\n",
    "import koreanize_matplotlib"
   ]
  },
  {
   "cell_type": "code",
   "execution_count": 9,
   "id": "e0025ef5-c20e-4f34-9f16-a5e71394203e",
   "metadata": {
    "tags": []
   },
   "outputs": [
    {
     "name": "stdout",
     "output_type": "stream",
     "text": [
      "테스트 점수:0.97\n"
     ]
    }
   ],
   "source": [
    "from sklearn.svm import SVC\n",
    "from sklearn.datasets import load_breast_cancer\n",
    "from sklearn.model_selection import train_test_split\n",
    "from sklearn.preprocessing import MinMaxScaler\n",
    "\n",
    "#데이터 불러오기\n",
    "cancer = load_breast_cancer()\n",
    "#데이터 나누기\n",
    "X_train, X_test, y_train, y_test = train_test_split(cancer.data, cancer.target, random_state=0)\n",
    "#전처리\n",
    "scaler = MinMaxScaler().fit(X_train)\n",
    "X_train_scaled = scaler.transform(X_train)\n",
    "#모델 처리\n",
    "svm = SVC()\n",
    "svm.fit(X_train_scaled, y_train)\n",
    "X_test_scaled = scaler.transform(X_test)\n",
    "#모델 확인\n",
    "print(\"테스트 점수:{:.2f}\".format(svm.score(X_test_scaled, y_test)))"
   ]
  },
  {
   "cell_type": "code",
   "execution_count": null,
   "id": "5f4eb575-6150-4179-9924-ddf79c466c6b",
   "metadata": {},
   "outputs": [],
   "source": [
    "# GCV: 완전탐색 (자원이 넉넉할시에만) 주로 RandomizedSearchCV 사용\n",
    "# from sklearn.model_selection import GridSearchCV\n",
    "# param_grid = {'C':[0.001,0.01,0.1,1,10,100],\n",
    "#              'gamma':[0.001,0.01,0.1,1,10,100]}\n",
    "\n",
    "# grid = GridSearchCV(SVC(), param_grid=param_grid, cv=5)\n",
    "# grid = GridSearchCV(pipe, param_grid=param_grid, cv=5)\n",
    "\n",
    "# grid.fit(X_train_scaled,y_train)\n",
    "# print(grid.best_score_, grid.score(X_test_scaled,y_test), grid.best_params_)"
   ]
  },
  {
   "cell_type": "markdown",
   "id": "ae24ddbb-6bac-4f1a-9e4b-41520eff2623",
   "metadata": {},
   "source": [
    "이때까지는 테스트 세트가 이미 스케일드된 훈련된 데이터: 아예 새로운 데이터시 결과치가 다름"
   ]
  },
  {
   "cell_type": "markdown",
   "id": "daf7587c-e4ad-4cb8-982a-60c0d4c002d6",
   "metadata": {},
   "source": [
    "## Pipeline\n",
    "꼭 거쳐야하는 과정을 강제할 시 사용 (ex. image Resampler, MinMaxScaler..) <br>\n",
    "1. 전처리 강제\n",
    "2. 뒤의 모델들에도 전처리 강제\n",
    "3. 원하는 전처리 값을 넣을 수 있을 시 \n",
    "fit(),predict(),transfrom(),score()을 지원하지 않는 메서드는 파이프라인에서 사용하기 애매하다 <br>"
   ]
  },
  {
   "cell_type": "code",
   "execution_count": 10,
   "id": "822b9487-bc06-45a1-8b6e-55e9b07df38e",
   "metadata": {
    "tags": []
   },
   "outputs": [],
   "source": [
    "from sklearn.pipeline import Pipeline\n",
    "pipe = Pipeline([(\"scaler\",MinMaxScaler()),(\"svm\",SVC())]) # 순서교환을 막기위해 tuple"
   ]
  },
  {
   "cell_type": "code",
   "execution_count": 12,
   "id": "cedf1f8c-4e0a-41a0-8dc8-4b5aab06a581",
   "metadata": {
    "tags": []
   },
   "outputs": [
    {
     "name": "stdout",
     "output_type": "stream",
     "text": [
      "0.9812311901504789 0.972027972027972 {'svm__C': 1, 'svm__gamma': 1}\n"
     ]
    }
   ],
   "source": [
    "# GCV: 완전탐색 (자원이 넉넉할시에만) 주로 RandomizedSearchCV 사용\n",
    "from sklearn.model_selection import GridSearchCV\n",
    "param_grid = {'svm__C':[0.001,0.01,0.1,1,10,100],\n",
    "             'svm__gamma':[0.001,0.01,0.1,1,10,100]}\n",
    "\n",
    "# pipeline 사용시 SVC()->pipe\n",
    "# 쪼개서 넣지 않고 pipe로 묶어서 돌려서 검증\n",
    "grid = GridSearchCV(pipe, param_grid=param_grid, cv=5)\n",
    "\n",
    "grid.fit(X_train,y_train)\n",
    "print(grid.best_score_, grid.score(X_test,y_test), grid.best_params_)"
   ]
  },
  {
   "cell_type": "code",
   "execution_count": null,
   "id": "b6037301-e59f-4491-95b4-b09f34710c20",
   "metadata": {},
   "outputs": [],
   "source": []
  }
 ],
 "metadata": {
  "kernelspec": {
   "display_name": "Python 3 (ipykernel)",
   "language": "python",
   "name": "python3"
  },
  "language_info": {
   "codemirror_mode": {
    "name": "ipython",
    "version": 3
   },
   "file_extension": ".py",
   "mimetype": "text/x-python",
   "name": "python",
   "nbconvert_exporter": "python",
   "pygments_lexer": "ipython3",
   "version": "3.11.5"
  }
 },
 "nbformat": 4,
 "nbformat_minor": 5
}
