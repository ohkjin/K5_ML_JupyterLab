{
 "cells": [
  {
   "cell_type": "markdown",
   "id": "1507ddc8-0b7c-497a-aa9e-b4741a8c285f",
   "metadata": {},
   "source": [
    "# 비지도 학습"
   ]
  },
  {
   "cell_type": "markdown",
   "id": "e6688e16-83c1-4116-8931-5c39ba8d0eec",
   "metadata": {},
   "source": [
    "## 데이터 전처리와 스케일 조정"
   ]
  },
  {
   "cell_type": "code",
   "execution_count": 1,
   "id": "8482a029-a758-400d-83d3-7fe11917ab07",
   "metadata": {
    "tags": []
   },
   "outputs": [],
   "source": [
    "from sklearn.datasets import load_breast_cancer\n",
    "from sklearn.model_selection import train_test_split"
   ]
  },
  {
   "cell_type": "code",
   "execution_count": 2,
   "id": "9091f136-68f0-4c24-8125-f9c169e1b2b6",
   "metadata": {
    "tags": []
   },
   "outputs": [
    {
     "data": {
      "text/plain": [
       "dict_keys(['data', 'target', 'frame', 'target_names', 'DESCR', 'feature_names', 'filename', 'data_module'])"
      ]
     },
     "execution_count": 2,
     "metadata": {},
     "output_type": "execute_result"
    }
   ],
   "source": [
    "cancer = load_breast_cancer()\n",
    "cancer.keys()"
   ]
  },
  {
   "cell_type": "code",
   "execution_count": 3,
   "id": "5a602a27-311b-4cd1-b0eb-740d1733188a",
   "metadata": {
    "tags": []
   },
   "outputs": [],
   "source": [
    "Xtrain, Xtest, ytrain, ytest = train_test_split(cancer.data, cancer.target, random_state=42) "
   ]
  },
  {
   "cell_type": "code",
   "execution_count": 5,
   "id": "c170a951-82dc-4979-9e22-471dcffa9a1d",
   "metadata": {
    "tags": []
   },
   "outputs": [
    {
     "name": "stdout",
     "output_type": "stream",
     "text": [
      "(426, 30) (143, 30)\n"
     ]
    }
   ],
   "source": [
    "print(Xtrain.shape, Xtest.shape)"
   ]
  },
  {
   "cell_type": "code",
   "execution_count": 15,
   "id": "4a9daf63-00d5-4e86-89e3-5f28f23080be",
   "metadata": {
    "tags": []
   },
   "outputs": [
    {
     "name": "stdout",
     "output_type": "stream",
     "text": [
      "(426, 30)\n",
      "스케일 조정 전 특성별 최소최대: \n",
      " [7.691e+00 9.710e+00 4.792e+01 1.704e+02 5.263e-02 1.938e-02 0.000e+00\n",
      " 0.000e+00 1.167e-01 4.996e-02 1.115e-01 3.602e-01 7.570e-01 6.802e+00\n",
      " 1.713e-03 2.252e-03 0.000e+00 0.000e+00 7.882e-03 8.948e-04 8.678e+00\n",
      " 1.202e+01 5.449e+01 2.236e+02 7.117e-02 2.729e-02 0.000e+00 0.000e+00\n",
      " 1.565e-01 5.504e-02] [2.811e+01 3.928e+01 1.885e+02 2.501e+03 1.634e-01 3.114e-01 4.268e-01\n",
      " 2.012e-01 3.040e-01 9.744e-02 2.873e+00 4.885e+00 2.198e+01 5.422e+02\n",
      " 3.113e-02 1.354e-01 3.960e-01 5.279e-02 6.146e-02 2.984e-02 3.604e+01\n",
      " 4.954e+01 2.512e+02 4.254e+03 2.184e-01 9.379e-01 9.608e-01 2.910e-01\n",
      " 6.638e-01 1.730e-01]\n",
      "스케일 조정 후 특성별 최소최대: \n",
      " [0. 0. 0. 0. 0. 0. 0. 0. 0. 0. 0. 0. 0. 0. 0. 0. 0. 0. 0. 0. 0. 0. 0. 0.\n",
      " 0. 0. 0. 0. 0. 0.] [1. 1. 1. 1. 1. 1. 1. 1. 1. 1. 1. 1. 1. 1. 1. 1. 1. 1. 1. 1. 1. 1. 1. 1.\n",
      " 1. 1. 1. 1. 1. 1.]\n"
     ]
    }
   ],
   "source": [
    "from sklearn.preprocessing import MinMaxScaler # 전처리\n",
    "scaler = MinMaxScaler() # Xtrain의 minmax와 Xtest의 minmax와 다르다\n",
    "scaler.fit(Xtrain)\n",
    "Xtrain_scaled = scaler.transform(Xtrain)\n",
    "print(Xtrain_scaled.shape)\n",
    "print(\"스케일 조정 전 특성별 최소최대: \\n\",Xtrain.min(axis=0), Xtrain.max(axis=0))\n",
    "print(\"스케일 조정 후 특성별 최소최대: \\n\",Xtrain_scaled.min(axis=0),Xtrain_scaled.max(axis=0))"
   ]
  },
  {
   "cell_type": "code",
   "execution_count": 19,
   "id": "82c44413-b573-4f97-a3e4-0b6d9fc877f1",
   "metadata": {
    "tags": []
   },
   "outputs": [],
   "source": [
    "Xtest_scaled = scaler.transform(Xtest)"
   ]
  },
  {
   "cell_type": "code",
   "execution_count": 20,
   "id": "7d014460-7e44-4731-b0d9-93a9be0f0442",
   "metadata": {
    "tags": []
   },
   "outputs": [
    {
     "name": "stdout",
     "output_type": "stream",
     "text": [
      "테스트 스케일 조정 전 특성별 최소최대: \n",
      " [6.981e+00 1.038e+01 4.379e+01 1.435e+02 6.576e-02 3.558e-02 0.000e+00\n",
      " 0.000e+00 1.060e-01 5.266e-02 1.166e-01 3.628e-01 7.714e-01 8.955e+00\n",
      " 3.169e-03 5.656e-03 0.000e+00 0.000e+00 9.539e-03 1.219e-03 7.930e+00\n",
      " 1.249e+01 5.041e+01 1.852e+02 8.799e-02 5.494e-02 0.000e+00 0.000e+00\n",
      " 1.566e-01 5.905e-02] [2.522e+01 3.112e+01 1.715e+02 1.878e+03 1.371e-01 3.454e-01 3.754e-01\n",
      " 1.845e-01 2.906e-01 8.243e-02 1.291e+00 3.896e+00 9.635e+00 1.997e+02\n",
      " 1.604e-02 1.064e-01 3.038e-01 3.322e-02 7.895e-02 2.286e-02 3.249e+01\n",
      " 4.716e+01 2.140e+02 3.432e+03 2.226e-01 1.058e+00 1.252e+00 2.903e-01\n",
      " 5.440e-01 2.075e-01]\n",
      "테스트 스케일 조정 후 특성별 최소최대: \n",
      " [-0.03477154  0.0226581  -0.02937829 -0.01154209  0.1185339   0.05547565\n",
      "  0.          0.         -0.0571276   0.05686605  0.00184682  0.00057461\n",
      "  0.00067851  0.00402131  0.04949519  0.02556554  0.          0.\n",
      "  0.03092687  0.01120048 -0.02733718  0.01252665 -0.02074119 -0.00952759\n",
      "  0.11424302  0.03036426  0.          0.          0.00019712  0.03399457] [0.85846516 0.72404464 0.87907241 0.73268686 0.76257109 1.11643038\n",
      " 0.87956888 0.91699801 0.92845702 0.68386689 0.42712294 0.7814268\n",
      " 0.41831975 0.36028898 0.48703131 0.78219725 0.76717172 0.62928585\n",
      " 1.32643996 0.75885466 0.87025802 0.93656716 0.81088913 0.79605002\n",
      " 1.02852679 1.13188961 1.30308077 0.9975945  0.76384782 1.29247202]\n"
     ]
    }
   ],
   "source": [
    "print(\"테스트 스케일 조정 전 특성별 최소최대: \\n\",Xtest.min(axis=0), Xtest.max(axis=0))\n",
    "print(\"테스트 스케일 조정 후 특성별 최소최대: \\n\",Xtest_scaled.min(axis=0),Xtest_scaled.max(axis=0))"
   ]
  },
  {
   "cell_type": "markdown",
   "id": "a6de991c-b03b-4c6b-88cf-991cfb4f0cea",
   "metadata": {},
   "source": [
    "#### 캘리포니아 집값 예측( 지도학습 )\n",
    "1. ~~분류~~ _회귀_\n",
    "2. 데이터 획득\n",
    "    1. 데이터 로드\n",
    "    2. 데이터 확인\n",
    "3. Baseline (Linear Modeling)\n",
    "4. 개선"
   ]
  },
  {
   "cell_type": "code",
   "execution_count": 21,
   "id": "2fe12d97-d745-498f-b509-a976f2f8193c",
   "metadata": {
    "tags": []
   },
   "outputs": [
    {
     "data": {
      "text/plain": [
       "'C:\\\\Users\\\\user\\\\ml'"
      ]
     },
     "execution_count": 21,
     "metadata": {},
     "output_type": "execute_result"
    }
   ],
   "source": [
    "pwd"
   ]
  },
  {
   "cell_type": "code",
   "execution_count": 26,
   "id": "25424649-b954-4103-b97c-b0c65e83c13c",
   "metadata": {
    "tags": []
   },
   "outputs": [
    {
     "ename": "SyntaxError",
     "evalue": "invalid syntax (1059104141.py, line 1)",
     "output_type": "error",
     "traceback": [
      "\u001b[1;36m  Cell \u001b[1;32mIn[26], line 1\u001b[1;36m\u001b[0m\n\u001b[1;33m    import housing from \"../ml/data/housing.csv\"\u001b[0m\n\u001b[1;37m                   ^\u001b[0m\n\u001b[1;31mSyntaxError\u001b[0m\u001b[1;31m:\u001b[0m invalid syntax\n"
     ]
    }
   ],
   "source": [
    "import housing from \"../ml/data/housing.csv\""
   ]
  },
  {
   "cell_type": "code",
   "execution_count": null,
   "id": "cf5e317a-1bac-4b44-9f25-2d54287053dd",
   "metadata": {},
   "outputs": [],
   "source": [
    "housing = "
   ]
  }
 ],
 "metadata": {
  "kernelspec": {
   "display_name": "Python 3 (ipykernel)",
   "language": "python",
   "name": "python3"
  },
  "language_info": {
   "codemirror_mode": {
    "name": "ipython",
    "version": 3
   },
   "file_extension": ".py",
   "mimetype": "text/x-python",
   "name": "python",
   "nbconvert_exporter": "python",
   "pygments_lexer": "ipython3",
   "version": "3.11.5"
  }
 },
 "nbformat": 4,
 "nbformat_minor": 5
}
